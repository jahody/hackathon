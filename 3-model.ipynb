{
  "nbformat": 4,
  "nbformat_minor": 0,
  "metadata": {
    "colab": {
      "name": "em-model11.ipynb",
      "version": "0.3.2",
      "provenance": [],
      "collapsed_sections": [
        "9ULOxGKyrrGb",
        "GLkJPvrJSI1W",
        "q6tiflPJR4v2",
        "m9L2lHC_Tb2U",
        "CYCVxvBlV6uA",
        "maOVYb3DWXfP"
      ],
      "toc_visible": true
    },
    "kernelspec": {
      "name": "python3",
      "display_name": "Python 3"
    },
    "accelerator": "GPU"
  },
  "cells": [
    {
      "metadata": {
        "id": "2RFYwMaXyTVh",
        "colab_type": "text"
      },
      "cell_type": "markdown",
      "source": [
        "# Libraries"
      ]
    },
    {
      "metadata": {
        "id": "Mzeok3SXxZD5",
        "colab_type": "code",
        "colab": {}
      },
      "cell_type": "code",
      "source": [
        "import pandas as pd\n",
        "import numpy as np\n",
        "import matplotlib.pyplot as plt"
      ],
      "execution_count": 0,
      "outputs": []
    },
    {
      "metadata": {
        "id": "y0XcTSbhxmAH",
        "colab_type": "code",
        "outputId": "0bdf90d0-2c30-4222-932f-a157e6589920",
        "colab": {
          "base_uri": "https://localhost:8080/",
          "height": 102
        }
      },
      "cell_type": "code",
      "source": [
        "  !curl -s https://course.fast.ai/setup/colab | bash"
      ],
      "execution_count": 0,
      "outputs": [
        {
          "output_type": "stream",
          "text": [
            "Updating fastai...\n",
            "\u001b[31mfeaturetools 0.4.1 has requirement pandas>=0.23.0, but you'll have pandas 0.22.0 which is incompatible.\u001b[0m\n",
            "\u001b[31mdatascience 0.10.6 has requirement folium==0.2.1, but you'll have folium 0.8.3 which is incompatible.\u001b[0m\n",
            "\u001b[31malbumentations 0.1.12 has requirement imgaug<0.2.7,>=0.2.5, but you'll have imgaug 0.2.8 which is incompatible.\u001b[0m\n",
            "Done.\n"
          ],
          "name": "stdout"
        }
      ]
    },
    {
      "metadata": {
        "id": "02LCao4dxvip",
        "colab_type": "code",
        "colab": {}
      },
      "cell_type": "code",
      "source": [
        "from fastai.tabular import *"
      ],
      "execution_count": 0,
      "outputs": []
    },
    {
      "metadata": {
        "id": "kH6RhDULxivJ",
        "colab_type": "code",
        "outputId": "ff91a032-42e0-4ea5-dcbd-0801d07f92ac",
        "colab": {
          "base_uri": "https://localhost:8080/",
          "height": 122
        }
      },
      "cell_type": "code",
      "source": [
        "from google.colab import *\n",
        "drive.mount('/content/gdrive', force_remount=True)"
      ],
      "execution_count": 0,
      "outputs": [
        {
          "output_type": "stream",
          "text": [
            "Go to this URL in a browser: https://accounts.google.com/o/oauth2/auth?client_id=947318989803-6bn6qk8qdgf4n4g3pfee6491hc0brc4i.apps.googleusercontent.com&redirect_uri=urn%3Aietf%3Awg%3Aoauth%3A2.0%3Aoob&scope=email%20https%3A%2F%2Fwww.googleapis.com%2Fauth%2Fdocs.test%20https%3A%2F%2Fwww.googleapis.com%2Fauth%2Fdrive%20https%3A%2F%2Fwww.googleapis.com%2Fauth%2Fdrive.photos.readonly%20https%3A%2F%2Fwww.googleapis.com%2Fauth%2Fpeopleapi.readonly&response_type=code\n",
            "\n",
            "Enter your authorization code:\n",
            "··········\n",
            "Mounted at /content/gdrive\n"
          ],
          "name": "stdout"
        }
      ]
    },
    {
      "metadata": {
        "id": "F5HApb241rKs",
        "colab_type": "text"
      },
      "cell_type": "markdown",
      "source": [
        "# Data"
      ]
    },
    {
      "metadata": {
        "id": "KLuhjAZ6yR0d",
        "colab_type": "code",
        "colab": {}
      },
      "cell_type": "code",
      "source": [
        "train_df = pd.read_csv(\"gdrive/My Drive/hackathon/dataset/train.csv\", index_col=0, parse_dates=True)"
      ],
      "execution_count": 0,
      "outputs": []
    },
    {
      "metadata": {
        "id": "a-UgR0N9N-CG",
        "colab_type": "code",
        "outputId": "8f897aa0-6f85-4af1-8f15-7bf673db199c",
        "colab": {
          "base_uri": "https://localhost:8080/",
          "height": 34
        }
      },
      "cell_type": "code",
      "source": [
        "train_df.shape"
      ],
      "execution_count": 0,
      "outputs": [
        {
          "output_type": "execute_result",
          "data": {
            "text/plain": [
              "(919650, 20)"
            ]
          },
          "metadata": {
            "tags": []
          },
          "execution_count": 6
        }
      ]
    },
    {
      "metadata": {
        "id": "hXD4PkWlyiZf",
        "colab_type": "code",
        "outputId": "d97e2707-c97e-4565-d304-ac8d67b71ba6",
        "colab": {
          "base_uri": "https://localhost:8080/",
          "height": 394
        }
      },
      "cell_type": "code",
      "source": [
        "pd.set_option('display.max_columns', 100)\n",
        "train_df.head()"
      ],
      "execution_count": 0,
      "outputs": [
        {
          "output_type": "execute_result",
          "data": {
            "text/html": [
              "<div>\n",
              "<style scoped>\n",
              "    .dataframe tbody tr th:only-of-type {\n",
              "        vertical-align: middle;\n",
              "    }\n",
              "\n",
              "    .dataframe tbody tr th {\n",
              "        vertical-align: top;\n",
              "    }\n",
              "\n",
              "    .dataframe thead th {\n",
              "        text-align: right;\n",
              "    }\n",
              "</style>\n",
              "<table border=\"1\" class=\"dataframe\">\n",
              "  <thead>\n",
              "    <tr style=\"text-align: right;\">\n",
              "      <th></th>\n",
              "      <th>response</th>\n",
              "      <th>apt_type</th>\n",
              "      <th>apt_date</th>\n",
              "      <th>sent_time</th>\n",
              "      <th>send_time</th>\n",
              "      <th>net_hour</th>\n",
              "      <th>type</th>\n",
              "      <th>clinic</th>\n",
              "      <th>city</th>\n",
              "      <th>province</th>\n",
              "      <th>cli_zip</th>\n",
              "      <th>cli_area</th>\n",
              "      <th>cli_size</th>\n",
              "      <th>pat_id</th>\n",
              "      <th>family_id</th>\n",
              "      <th>fam</th>\n",
              "      <th>gender</th>\n",
              "      <th>age</th>\n",
              "      <th>pat_area</th>\n",
              "      <th>dist</th>\n",
              "    </tr>\n",
              "  </thead>\n",
              "  <tbody>\n",
              "    <tr>\n",
              "      <th>0</th>\n",
              "      <td>1</td>\n",
              "      <td>recall</td>\n",
              "      <td>2017-09-18 13:00:00</td>\n",
              "      <td>2017-09-14 19:03:03</td>\n",
              "      <td>17:30:00</td>\n",
              "      <td>-48</td>\n",
              "      <td>Voice</td>\n",
              "      <td>20758</td>\n",
              "      <td>Moncton</td>\n",
              "      <td>NB</td>\n",
              "      <td>E1E4C9</td>\n",
              "      <td>Urban</td>\n",
              "      <td>1239</td>\n",
              "      <td>427789</td>\n",
              "      <td>291683</td>\n",
              "      <td>3</td>\n",
              "      <td>M</td>\n",
              "      <td>20</td>\n",
              "      <td>Urban</td>\n",
              "      <td>65.929</td>\n",
              "    </tr>\n",
              "    <tr>\n",
              "      <th>1</th>\n",
              "      <td>0</td>\n",
              "      <td>6mth-rc</td>\n",
              "      <td>2017-09-06 17:00:00</td>\n",
              "      <td>2017-08-31 18:00:54</td>\n",
              "      <td>18:00:00</td>\n",
              "      <td>-72</td>\n",
              "      <td>Voice</td>\n",
              "      <td>122500</td>\n",
              "      <td>Port Coquitlam</td>\n",
              "      <td>BC</td>\n",
              "      <td>V3B5Y9</td>\n",
              "      <td>Urban</td>\n",
              "      <td>691</td>\n",
              "      <td>172834</td>\n",
              "      <td>49762</td>\n",
              "      <td>4</td>\n",
              "      <td>M</td>\n",
              "      <td>20</td>\n",
              "      <td>Urban</td>\n",
              "      <td>4.104</td>\n",
              "    </tr>\n",
              "    <tr>\n",
              "      <th>2</th>\n",
              "      <td>0</td>\n",
              "      <td>endo</td>\n",
              "      <td>2017-05-02 18:00:00</td>\n",
              "      <td>2017-04-28 10:12:42</td>\n",
              "      <td>10:00:00</td>\n",
              "      <td>-48</td>\n",
              "      <td>Email</td>\n",
              "      <td>20153</td>\n",
              "      <td>Nanaimo</td>\n",
              "      <td>BC</td>\n",
              "      <td>V9T4B5</td>\n",
              "      <td>Urban</td>\n",
              "      <td>1168</td>\n",
              "      <td>132074</td>\n",
              "      <td>101158</td>\n",
              "      <td>4</td>\n",
              "      <td>M</td>\n",
              "      <td>15</td>\n",
              "      <td>Rural</td>\n",
              "      <td>9.246</td>\n",
              "    </tr>\n",
              "    <tr>\n",
              "      <th>3</th>\n",
              "      <td>0</td>\n",
              "      <td>productive</td>\n",
              "      <td>2018-05-30 09:10:00</td>\n",
              "      <td>2018-05-28 09:00:37</td>\n",
              "      <td>09:00:00</td>\n",
              "      <td>-48</td>\n",
              "      <td>SMS</td>\n",
              "      <td>122335</td>\n",
              "      <td>Casselman</td>\n",
              "      <td>ON</td>\n",
              "      <td>K0A1M0</td>\n",
              "      <td>Rural</td>\n",
              "      <td>3425</td>\n",
              "      <td>145832</td>\n",
              "      <td>39367</td>\n",
              "      <td>4</td>\n",
              "      <td>F</td>\n",
              "      <td>50</td>\n",
              "      <td>Rural</td>\n",
              "      <td>10.693</td>\n",
              "    </tr>\n",
              "    <tr>\n",
              "      <th>4</th>\n",
              "      <td>0</td>\n",
              "      <td>filling</td>\n",
              "      <td>2019-02-04 08:00:00</td>\n",
              "      <td>2019-01-31 15:14:07</td>\n",
              "      <td>11:00:00</td>\n",
              "      <td>-48</td>\n",
              "      <td>SMS</td>\n",
              "      <td>143632</td>\n",
              "      <td>Etobicoke</td>\n",
              "      <td>ON</td>\n",
              "      <td>M8W3V5</td>\n",
              "      <td>Urban</td>\n",
              "      <td>274</td>\n",
              "      <td>88996</td>\n",
              "      <td>82480</td>\n",
              "      <td>2</td>\n",
              "      <td>F</td>\n",
              "      <td>65</td>\n",
              "      <td>Urban</td>\n",
              "      <td>6.937</td>\n",
              "    </tr>\n",
              "  </tbody>\n",
              "</table>\n",
              "</div>"
            ],
            "text/plain": [
              "   response    apt_type             apt_date            sent_time send_time  \\\n",
              "0         1      recall  2017-09-18 13:00:00  2017-09-14 19:03:03  17:30:00   \n",
              "1         0     6mth-rc  2017-09-06 17:00:00  2017-08-31 18:00:54  18:00:00   \n",
              "2         0        endo  2017-05-02 18:00:00  2017-04-28 10:12:42  10:00:00   \n",
              "3         0  productive  2018-05-30 09:10:00  2018-05-28 09:00:37  09:00:00   \n",
              "4         0     filling  2019-02-04 08:00:00  2019-01-31 15:14:07  11:00:00   \n",
              "\n",
              "   net_hour   type  clinic            city province cli_zip cli_area  \\\n",
              "0       -48  Voice   20758         Moncton       NB  E1E4C9    Urban   \n",
              "1       -72  Voice  122500  Port Coquitlam       BC  V3B5Y9    Urban   \n",
              "2       -48  Email   20153         Nanaimo       BC  V9T4B5    Urban   \n",
              "3       -48    SMS  122335       Casselman       ON  K0A1M0    Rural   \n",
              "4       -48    SMS  143632       Etobicoke       ON  M8W3V5    Urban   \n",
              "\n",
              "   cli_size  pat_id  family_id  fam gender  age pat_area    dist  \n",
              "0      1239  427789     291683    3      M   20    Urban  65.929  \n",
              "1       691  172834      49762    4      M   20    Urban   4.104  \n",
              "2      1168  132074     101158    4      M   15    Rural   9.246  \n",
              "3      3425  145832      39367    4      F   50    Rural  10.693  \n",
              "4       274   88996      82480    2      F   65    Urban   6.937  "
            ]
          },
          "metadata": {
            "tags": []
          },
          "execution_count": 7
        }
      ]
    },
    {
      "metadata": {
        "id": "Xc1npZ7-QIXs",
        "colab_type": "code",
        "outputId": "c7ecb04d-4edc-4551-b2e6-e9aaa064d884",
        "colab": {
          "base_uri": "https://localhost:8080/",
          "height": 374
        }
      },
      "cell_type": "code",
      "source": [
        "train_df.dtypes"
      ],
      "execution_count": 0,
      "outputs": [
        {
          "output_type": "execute_result",
          "data": {
            "text/plain": [
              "response       int64\n",
              "apt_type      object\n",
              "apt_date      object\n",
              "sent_time     object\n",
              "send_time     object\n",
              "net_hour       int64\n",
              "type          object\n",
              "clinic         int64\n",
              "city          object\n",
              "province      object\n",
              "cli_zip       object\n",
              "cli_area      object\n",
              "cli_size       int64\n",
              "pat_id         int64\n",
              "family_id      int64\n",
              "fam            int64\n",
              "gender        object\n",
              "age            int64\n",
              "pat_area      object\n",
              "dist         float64\n",
              "dtype: object"
            ]
          },
          "metadata": {
            "tags": []
          },
          "execution_count": 8
        }
      ]
    },
    {
      "metadata": {
        "id": "XKPI1CS0ZUN5",
        "colab_type": "text"
      },
      "cell_type": "markdown",
      "source": [
        "# DF optimization"
      ]
    },
    {
      "metadata": {
        "id": "h48VkfiTJW_S",
        "colab_type": "text"
      },
      "cell_type": "markdown",
      "source": [
        "train_df.drop([\"apt_id\", \"apt_type\", \"family_id\", \"type\"], inplace=True, axis=1 )"
      ]
    },
    {
      "metadata": {
        "id": "C5A4o6VKJ1WP",
        "colab_type": "text"
      },
      "cell_type": "markdown",
      "source": [
        "train_df.response = train_df.response.astype(\"int8\")\n",
        "train_df.net_hour = train_df.net_hour.astype(\"int32\")\n",
        "train_df.cli_area = train_df.cli_area.map({\"Urban\": 1, \"Rural\": 0}).astype(\"int8\")\n",
        "train_df.cli_size = train_df.cli_size.astype(\"int16\")\n",
        "train_df.pat_id = train_df.pat_id.astype(\"int32\")\n",
        "train_df.fam = train_df.fam.astype(\"int8\")\n",
        "train_df.gender = train_df.gender.map({\"M\": 1, \"F\": 0}).astype(\"int8\")\n",
        "train_df.age = train_df.age.astype(\"int8\")\n",
        "train_df.pat_area = train_df.pat_area.map({\"Urban\": 1, \"Rural\": 0}).astype(\"int8\")\n",
        "train_df.dist = train_df.dist.astype(\"int8\")"
      ]
    },
    {
      "metadata": {
        "colab_type": "text",
        "id": "bQ4ce4ItNfen"
      },
      "cell_type": "markdown",
      "source": [
        "# Dates preprocessing"
      ]
    },
    {
      "metadata": {
        "id": "m4vMdOZnGYTe",
        "colab_type": "code",
        "colab": {}
      },
      "cell_type": "code",
      "source": [
        "train_df.apt_date = pd.to_datetime(train_df.apt_date)\n",
        "train_df.sent_time = pd.to_datetime(train_df.sent_time)"
      ],
      "execution_count": 0,
      "outputs": []
    },
    {
      "metadata": {
        "id": "MXtNqnXaY509",
        "colab_type": "code",
        "outputId": "46827969-9810-42f0-d98f-07c63a85ea4c",
        "colab": {
          "base_uri": "https://localhost:8080/",
          "height": 34
        }
      },
      "cell_type": "code",
      "source": [
        "add_datepart(train_df, field_name=\"apt_date\", time=True )\n",
        "add_datepart(train_df, field_name=\"sent_time\")\n",
        "print(\"done\")"
      ],
      "execution_count": 0,
      "outputs": [
        {
          "output_type": "stream",
          "text": [
            "done\n"
          ],
          "name": "stdout"
        }
      ]
    },
    {
      "metadata": {
        "id": "8P_FnLxQZAPM",
        "colab_type": "code",
        "outputId": "3e47b59c-601d-4dad-da3b-9bf44796d68a",
        "colab": {
          "base_uri": "https://localhost:8080/",
          "height": 238
        }
      },
      "cell_type": "code",
      "source": [
        "train_df.columns"
      ],
      "execution_count": 0,
      "outputs": [
        {
          "output_type": "execute_result",
          "data": {
            "text/plain": [
              "Index(['response', 'apt_type', 'send_time', 'net_hour', 'type', 'clinic',\n",
              "       'city', 'province', 'cli_zip', 'cli_area', 'cli_size', 'pat_id',\n",
              "       'family_id', 'fam', 'gender', 'age', 'pat_area', 'dist', 'apt_Year',\n",
              "       'apt_Month', 'apt_Week', 'apt_Day', 'apt_Dayofweek', 'apt_Dayofyear',\n",
              "       'apt_Is_month_end', 'apt_Is_month_start', 'apt_Is_quarter_end',\n",
              "       'apt_Is_quarter_start', 'apt_Is_year_end', 'apt_Is_year_start',\n",
              "       'apt_Hour', 'apt_Minute', 'apt_Second', 'apt_Elapsed', 'sent_timeYear',\n",
              "       'sent_timeMonth', 'sent_timeWeek', 'sent_timeDay', 'sent_timeDayofweek',\n",
              "       'sent_timeDayofyear', 'sent_timeIs_month_end',\n",
              "       'sent_timeIs_month_start', 'sent_timeIs_quarter_end',\n",
              "       'sent_timeIs_quarter_start', 'sent_timeIs_year_end',\n",
              "       'sent_timeIs_year_start', 'sent_timeElapsed'],\n",
              "      dtype='object')"
            ]
          },
          "metadata": {
            "tags": []
          },
          "execution_count": 11
        }
      ]
    },
    {
      "metadata": {
        "id": "rh44SV7d3u9R",
        "colab_type": "text"
      },
      "cell_type": "markdown",
      "source": [
        "# Model"
      ]
    },
    {
      "metadata": {
        "id": "qePpPEK836FB",
        "colab_type": "code",
        "colab": {}
      },
      "cell_type": "code",
      "source": [
        "valid_idx = list(range(int(len(train_df)*0.8), len(train_df)))"
      ],
      "execution_count": 0,
      "outputs": []
    },
    {
      "metadata": {
        "id": "GKgfwRkV7V4E",
        "colab_type": "code",
        "colab": {}
      },
      "cell_type": "code",
      "source": [
        "dep_var = \"response\""
      ],
      "execution_count": 0,
      "outputs": []
    },
    {
      "metadata": {
        "id": "VUOaStqbGiNV",
        "colab_type": "text"
      },
      "cell_type": "markdown",
      "source": [
        "exlude: 'type', 'hour', 'apt_Second', 'apt_Elapsed', 'sent_timeMinute', 'sent_timeSecond', 'sent_timeElapsed'"
      ]
    },
    {
      "metadata": {
        "id": "9NlMP3DH9AiJ",
        "colab_type": "code",
        "colab": {}
      },
      "cell_type": "code",
      "source": [
        "# apt\n",
        "# clinic\n",
        "# patient\n",
        "# apt_date - preprocessed\n",
        "# sent_time - preprocessed\n",
        "cat_names = ['apt_type', 'send_time', 'net_hour', 'type',\n",
        "             'clinic','city', 'province', 'cli_area', \n",
        "             'fam', 'gender', 'age', 'pat_area',\n",
        "             'apt_Year', 'apt_Month', 'apt_Week', 'apt_Day', 'apt_Dayofweek', 'apt_Dayofyear', 'apt_Is_month_end','apt_Is_month_start', 'apt_Is_quarter_end', 'apt_Is_quarter_start','apt_Is_year_end', 'apt_Is_year_start', 'apt_Hour', 'apt_Minute',\n",
        "             'sent_timeYear', 'sent_timeMonth','sent_timeWeek', 'sent_timeDay', 'sent_timeDayofweek', 'sent_timeDayofyear', 'sent_timeIs_month_end', 'sent_timeIs_month_start', 'sent_timeIs_quarter_end', 'sent_timeIs_quarter_start', 'sent_timeIs_year_end', 'sent_timeIs_year_start'] "
      ],
      "execution_count": 0,
      "outputs": []
    },
    {
      "metadata": {
        "id": "Zha8yGbrB0Yh",
        "colab_type": "code",
        "colab": {}
      },
      "cell_type": "code",
      "source": [
        "cont_names = ['dist', 'cli_size']"
      ],
      "execution_count": 0,
      "outputs": []
    },
    {
      "metadata": {
        "id": "p9N7o9Bw0NQJ",
        "colab_type": "code",
        "outputId": "4bc0bfc7-0ad3-4cd2-d3fb-1132dd5da292",
        "colab": {
          "base_uri": "https://localhost:8080/",
          "height": 34
        }
      },
      "cell_type": "code",
      "source": [
        "len(train_df.columns)"
      ],
      "execution_count": 0,
      "outputs": [
        {
          "output_type": "execute_result",
          "data": {
            "text/plain": [
              "47"
            ]
          },
          "metadata": {
            "tags": []
          },
          "execution_count": 16
        }
      ]
    },
    {
      "metadata": {
        "id": "goT5o2K7CMyg",
        "colab_type": "code",
        "outputId": "9c87c4dc-beb3-4fad-89fc-b3ed5c20db6c",
        "colab": {
          "base_uri": "https://localhost:8080/",
          "height": 34
        }
      },
      "cell_type": "code",
      "source": [
        "# test: number of variables + target\n",
        "len(cat_names + cont_names) + 1"
      ],
      "execution_count": 0,
      "outputs": [
        {
          "output_type": "execute_result",
          "data": {
            "text/plain": [
              "41"
            ]
          },
          "metadata": {
            "tags": []
          },
          "execution_count": 17
        }
      ]
    },
    {
      "metadata": {
        "id": "qNJgXagS9gYw",
        "colab_type": "code",
        "colab": {}
      },
      "cell_type": "code",
      "source": [
        "procs = [FillMissing, Categorify, Normalize]"
      ],
      "execution_count": 0,
      "outputs": []
    },
    {
      "metadata": {
        "id": "hdj7lzeG_6YE",
        "colab_type": "code",
        "colab": {}
      },
      "cell_type": "code",
      "source": [
        "data =  (TabularList.from_df(train_df, cat_names=cat_names, cont_names=cont_names, procs=procs)\n",
        "                    .split_by_idx(valid_idx)\n",
        "                    .label_from_df(cols=dep_var)\n",
        "                    .databunch())"
      ],
      "execution_count": 0,
      "outputs": []
    },
    {
      "metadata": {
        "id": "TAtQP7FRgyCW",
        "colab_type": "code",
        "colab": {}
      },
      "cell_type": "code",
      "source": [
        "data.batch_size = 128"
      ],
      "execution_count": 0,
      "outputs": []
    },
    {
      "metadata": {
        "id": "lPvPhZSPANRr",
        "colab_type": "code",
        "outputId": "03109e78-c538-4eab-885b-48eb777d35b8",
        "colab": {
          "base_uri": "https://localhost:8080/",
          "height": 241
        }
      },
      "cell_type": "code",
      "source": [
        "data.show_batch(rows=5)"
      ],
      "execution_count": 0,
      "outputs": [
        {
          "output_type": "display_data",
          "data": {
            "text/html": [
              "<table border=\"1\" class=\"dataframe\">\n",
              "  <thead>\n",
              "    <tr style=\"text-align: right;\">\n",
              "      <th>apt_type</th>\n",
              "      <th>send_time</th>\n",
              "      <th>net_hour</th>\n",
              "      <th>type</th>\n",
              "      <th>clinic</th>\n",
              "      <th>city</th>\n",
              "      <th>province</th>\n",
              "      <th>cli_area</th>\n",
              "      <th>fam</th>\n",
              "      <th>gender</th>\n",
              "      <th>age</th>\n",
              "      <th>pat_area</th>\n",
              "      <th>apt_Year</th>\n",
              "      <th>apt_Month</th>\n",
              "      <th>apt_Week</th>\n",
              "      <th>apt_Day</th>\n",
              "      <th>apt_Dayofweek</th>\n",
              "      <th>apt_Dayofyear</th>\n",
              "      <th>apt_Is_month_end</th>\n",
              "      <th>apt_Is_month_start</th>\n",
              "      <th>apt_Is_quarter_end</th>\n",
              "      <th>apt_Is_quarter_start</th>\n",
              "      <th>apt_Is_year_end</th>\n",
              "      <th>apt_Is_year_start</th>\n",
              "      <th>apt_Hour</th>\n",
              "      <th>apt_Minute</th>\n",
              "      <th>sent_timeYear</th>\n",
              "      <th>sent_timeMonth</th>\n",
              "      <th>sent_timeWeek</th>\n",
              "      <th>sent_timeDay</th>\n",
              "      <th>sent_timeDayofweek</th>\n",
              "      <th>sent_timeDayofyear</th>\n",
              "      <th>sent_timeIs_month_end</th>\n",
              "      <th>sent_timeIs_month_start</th>\n",
              "      <th>sent_timeIs_quarter_end</th>\n",
              "      <th>sent_timeIs_quarter_start</th>\n",
              "      <th>sent_timeIs_year_end</th>\n",
              "      <th>sent_timeIs_year_start</th>\n",
              "      <th>dist</th>\n",
              "      <th>cli_size</th>\n",
              "      <th>target</th>\n",
              "    </tr>\n",
              "  </thead>\n",
              "  <tbody>\n",
              "    <tr>\n",
              "      <td>rc</td>\n",
              "      <td>11:00:00</td>\n",
              "      <td>-48</td>\n",
              "      <td>SMS</td>\n",
              "      <td>121160</td>\n",
              "      <td>Dartmouth</td>\n",
              "      <td>NS</td>\n",
              "      <td>Urban</td>\n",
              "      <td>1</td>\n",
              "      <td>F</td>\n",
              "      <td>55</td>\n",
              "      <td>Urban</td>\n",
              "      <td>2019</td>\n",
              "      <td>2</td>\n",
              "      <td>6</td>\n",
              "      <td>6</td>\n",
              "      <td>2</td>\n",
              "      <td>37</td>\n",
              "      <td>False</td>\n",
              "      <td>False</td>\n",
              "      <td>False</td>\n",
              "      <td>False</td>\n",
              "      <td>False</td>\n",
              "      <td>False</td>\n",
              "      <td>16</td>\n",
              "      <td>50</td>\n",
              "      <td>2019</td>\n",
              "      <td>2</td>\n",
              "      <td>6</td>\n",
              "      <td>4</td>\n",
              "      <td>0</td>\n",
              "      <td>35</td>\n",
              "      <td>False</td>\n",
              "      <td>False</td>\n",
              "      <td>False</td>\n",
              "      <td>False</td>\n",
              "      <td>False</td>\n",
              "      <td>False</td>\n",
              "      <td>-0.3033</td>\n",
              "      <td>0.9340</td>\n",
              "      <td>1</td>\n",
              "    </tr>\n",
              "    <tr>\n",
              "      <td>general</td>\n",
              "      <td>09:00:00</td>\n",
              "      <td>-336</td>\n",
              "      <td>SMS</td>\n",
              "      <td>122631</td>\n",
              "      <td>Toronto</td>\n",
              "      <td>ON</td>\n",
              "      <td>Urban</td>\n",
              "      <td>1</td>\n",
              "      <td>M</td>\n",
              "      <td>50</td>\n",
              "      <td>Urban</td>\n",
              "      <td>2019</td>\n",
              "      <td>1</td>\n",
              "      <td>4</td>\n",
              "      <td>22</td>\n",
              "      <td>1</td>\n",
              "      <td>22</td>\n",
              "      <td>False</td>\n",
              "      <td>False</td>\n",
              "      <td>False</td>\n",
              "      <td>False</td>\n",
              "      <td>False</td>\n",
              "      <td>False</td>\n",
              "      <td>13</td>\n",
              "      <td>0</td>\n",
              "      <td>2019</td>\n",
              "      <td>1</td>\n",
              "      <td>2</td>\n",
              "      <td>9</td>\n",
              "      <td>2</td>\n",
              "      <td>9</td>\n",
              "      <td>False</td>\n",
              "      <td>False</td>\n",
              "      <td>False</td>\n",
              "      <td>False</td>\n",
              "      <td>False</td>\n",
              "      <td>False</td>\n",
              "      <td>-0.3215</td>\n",
              "      <td>-0.1113</td>\n",
              "      <td>0</td>\n",
              "    </tr>\n",
              "    <tr>\n",
              "      <td>general</td>\n",
              "      <td>11:30:00</td>\n",
              "      <td>-72</td>\n",
              "      <td>SMS</td>\n",
              "      <td>121878</td>\n",
              "      <td>Edmonton</td>\n",
              "      <td>AB</td>\n",
              "      <td>Urban</td>\n",
              "      <td>1</td>\n",
              "      <td>F</td>\n",
              "      <td>90</td>\n",
              "      <td>Urban</td>\n",
              "      <td>2017</td>\n",
              "      <td>11</td>\n",
              "      <td>48</td>\n",
              "      <td>29</td>\n",
              "      <td>2</td>\n",
              "      <td>333</td>\n",
              "      <td>False</td>\n",
              "      <td>False</td>\n",
              "      <td>False</td>\n",
              "      <td>False</td>\n",
              "      <td>False</td>\n",
              "      <td>False</td>\n",
              "      <td>10</td>\n",
              "      <td>0</td>\n",
              "      <td>2017</td>\n",
              "      <td>11</td>\n",
              "      <td>47</td>\n",
              "      <td>25</td>\n",
              "      <td>5</td>\n",
              "      <td>329</td>\n",
              "      <td>False</td>\n",
              "      <td>False</td>\n",
              "      <td>False</td>\n",
              "      <td>False</td>\n",
              "      <td>False</td>\n",
              "      <td>False</td>\n",
              "      <td>-0.4231</td>\n",
              "      <td>-0.5521</td>\n",
              "      <td>0</td>\n",
              "    </tr>\n",
              "    <tr>\n",
              "      <td>filling</td>\n",
              "      <td>12:00:00</td>\n",
              "      <td>-48</td>\n",
              "      <td>SMS</td>\n",
              "      <td>133492</td>\n",
              "      <td>Brandon</td>\n",
              "      <td>MB</td>\n",
              "      <td>Urban</td>\n",
              "      <td>1</td>\n",
              "      <td>M</td>\n",
              "      <td>15</td>\n",
              "      <td>Rural</td>\n",
              "      <td>2019</td>\n",
              "      <td>1</td>\n",
              "      <td>3</td>\n",
              "      <td>17</td>\n",
              "      <td>3</td>\n",
              "      <td>17</td>\n",
              "      <td>False</td>\n",
              "      <td>False</td>\n",
              "      <td>False</td>\n",
              "      <td>False</td>\n",
              "      <td>False</td>\n",
              "      <td>False</td>\n",
              "      <td>12</td>\n",
              "      <td>0</td>\n",
              "      <td>2019</td>\n",
              "      <td>1</td>\n",
              "      <td>3</td>\n",
              "      <td>15</td>\n",
              "      <td>1</td>\n",
              "      <td>15</td>\n",
              "      <td>False</td>\n",
              "      <td>False</td>\n",
              "      <td>False</td>\n",
              "      <td>False</td>\n",
              "      <td>False</td>\n",
              "      <td>False</td>\n",
              "      <td>5.1981</td>\n",
              "      <td>-1.1686</td>\n",
              "      <td>1</td>\n",
              "    </tr>\n",
              "    <tr>\n",
              "      <td>sc</td>\n",
              "      <td>08:00:00</td>\n",
              "      <td>-144</td>\n",
              "      <td>SMS</td>\n",
              "      <td>122621</td>\n",
              "      <td>Niagara Falls</td>\n",
              "      <td>ON</td>\n",
              "      <td>Urban</td>\n",
              "      <td>1</td>\n",
              "      <td>F</td>\n",
              "      <td>65</td>\n",
              "      <td>Urban</td>\n",
              "      <td>2017</td>\n",
              "      <td>5</td>\n",
              "      <td>22</td>\n",
              "      <td>29</td>\n",
              "      <td>0</td>\n",
              "      <td>149</td>\n",
              "      <td>False</td>\n",
              "      <td>False</td>\n",
              "      <td>False</td>\n",
              "      <td>False</td>\n",
              "      <td>False</td>\n",
              "      <td>False</td>\n",
              "      <td>17</td>\n",
              "      <td>20</td>\n",
              "      <td>2017</td>\n",
              "      <td>5</td>\n",
              "      <td>21</td>\n",
              "      <td>23</td>\n",
              "      <td>1</td>\n",
              "      <td>143</td>\n",
              "      <td>False</td>\n",
              "      <td>False</td>\n",
              "      <td>False</td>\n",
              "      <td>False</td>\n",
              "      <td>False</td>\n",
              "      <td>False</td>\n",
              "      <td>0.2701</td>\n",
              "      <td>-0.6557</td>\n",
              "      <td>1</td>\n",
              "    </tr>\n",
              "  </tbody>\n",
              "</table>"
            ],
            "text/plain": [
              "<IPython.core.display.HTML object>"
            ]
          },
          "metadata": {
            "tags": []
          }
        }
      ]
    },
    {
      "metadata": {
        "id": "09oZjNg8o9ja",
        "colab_type": "text"
      },
      "cell_type": "markdown",
      "source": [
        "# Training"
      ]
    },
    {
      "metadata": {
        "id": "q1kgxNGrBhJb",
        "colab_type": "code",
        "colab": {}
      },
      "cell_type": "code",
      "source": [
        "learn = tabular_learner(data, layers=[200,100], metrics=accuracy)"
      ],
      "execution_count": 0,
      "outputs": []
    },
    {
      "metadata": {
        "id": "5J_T4qGwG6CJ",
        "colab_type": "code",
        "outputId": "6ead14ec-1f0a-4d4d-9ca2-bbf48b8c9207",
        "colab": {
          "base_uri": "https://localhost:8080/",
          "height": 320
        }
      },
      "cell_type": "code",
      "source": [
        "learn.fit(8, 1e-2)"
      ],
      "execution_count": 0,
      "outputs": [
        {
          "output_type": "display_data",
          "data": {
            "text/html": [
              "Total time: 18:32 <p><table border=\"1\" class=\"dataframe\">\n",
              "  <thead>\n",
              "    <tr style=\"text-align: left;\">\n",
              "      <th>epoch</th>\n",
              "      <th>train_loss</th>\n",
              "      <th>valid_loss</th>\n",
              "      <th>accuracy</th>\n",
              "      <th>time</th>\n",
              "    </tr>\n",
              "  </thead>\n",
              "  <tbody>\n",
              "    <tr>\n",
              "      <td>0</td>\n",
              "      <td>0.587065</td>\n",
              "      <td>0.586909</td>\n",
              "      <td>0.678258</td>\n",
              "      <td>02:17</td>\n",
              "    </tr>\n",
              "    <tr>\n",
              "      <td>1</td>\n",
              "      <td>0.582456</td>\n",
              "      <td>0.598806</td>\n",
              "      <td>0.677046</td>\n",
              "      <td>02:19</td>\n",
              "    </tr>\n",
              "    <tr>\n",
              "      <td>2</td>\n",
              "      <td>0.582268</td>\n",
              "      <td>0.733969</td>\n",
              "      <td>0.677524</td>\n",
              "      <td>02:18</td>\n",
              "    </tr>\n",
              "    <tr>\n",
              "      <td>3</td>\n",
              "      <td>0.586246</td>\n",
              "      <td>0.597792</td>\n",
              "      <td>0.680416</td>\n",
              "      <td>02:20</td>\n",
              "    </tr>\n",
              "    <tr>\n",
              "      <td>4</td>\n",
              "      <td>0.587333</td>\n",
              "      <td>0.587164</td>\n",
              "      <td>0.678345</td>\n",
              "      <td>02:19</td>\n",
              "    </tr>\n",
              "    <tr>\n",
              "      <td>5</td>\n",
              "      <td>0.588315</td>\n",
              "      <td>0.586427</td>\n",
              "      <td>0.679084</td>\n",
              "      <td>02:19</td>\n",
              "    </tr>\n",
              "    <tr>\n",
              "      <td>6</td>\n",
              "      <td>0.585886</td>\n",
              "      <td>0.584919</td>\n",
              "      <td>0.680400</td>\n",
              "      <td>02:18</td>\n",
              "    </tr>\n",
              "    <tr>\n",
              "      <td>7</td>\n",
              "      <td>0.580283</td>\n",
              "      <td>0.719474</td>\n",
              "      <td>0.680862</td>\n",
              "      <td>02:19</td>\n",
              "    </tr>\n",
              "  </tbody>\n",
              "</table>"
            ],
            "text/plain": [
              "<IPython.core.display.HTML object>"
            ]
          },
          "metadata": {
            "tags": []
          }
        }
      ]
    },
    {
      "metadata": {
        "id": "rC53EyZi0CI7",
        "colab_type": "text"
      },
      "cell_type": "markdown",
      "source": [
        "## Saving"
      ]
    },
    {
      "metadata": {
        "id": "tyDhzH3actMC",
        "colab_type": "code",
        "colab": {}
      },
      "cell_type": "code",
      "source": [
        "learn.save(\"em-model09\")"
      ],
      "execution_count": 0,
      "outputs": []
    },
    {
      "metadata": {
        "id": "cz71K_gJEoZN",
        "colab_type": "code",
        "colab": {}
      },
      "cell_type": "code",
      "source": [
        "learn.export(\"models/em-model10-exp\")"
      ],
      "execution_count": 0,
      "outputs": []
    },
    {
      "metadata": {
        "id": "qFf0fUFAofi0",
        "colab_type": "text"
      },
      "cell_type": "markdown",
      "source": [
        "## Saving to drive"
      ]
    },
    {
      "metadata": {
        "id": "zY_t7x3LsEzv",
        "colab_type": "code",
        "outputId": "d0ce031e-2a9b-45e2-9850-76566ce02c3c",
        "colab": {
          "base_uri": "https://localhost:8080/",
          "height": 493
        }
      },
      "cell_type": "code",
      "source": [
        "######################## ZIP AND UPLOAD FOLDER TO DRIVE ########################\n",
        "\n",
        "!pip install -U -q PyDrive\n",
        "\n",
        "from google.colab import files\n",
        "from pydrive.auth import GoogleAuth\n",
        "from pydrive.drive import GoogleDrive\n",
        "from google.colab import auth\n",
        "from oauth2client.client import GoogleCredentials\n",
        "import zipfile\n",
        "import os\n",
        "import sys\n",
        "\n",
        "zipname = 'model_09'\n",
        "\n",
        "def zipfolder(foldername, target_dir):            \n",
        "    zipobj = zipfile.ZipFile(foldername + '.zip', 'w', zipfile.ZIP_DEFLATED)\n",
        "    rootlen = len(target_dir) + 1\n",
        "    for base, dirs, files in os.walk(target_dir):\n",
        "        for file in files:\n",
        "            fn = os.path.join(base, file)\n",
        "            zipobj.write(fn, fn[rootlen:])\n",
        "\n",
        "zipfolder(zipname, '/content/models/')\n",
        "\n",
        "# 1. Authenticate and create the PyDrive client.\n",
        "auth.authenticate_user()\n",
        "gauth = GoogleAuth()\n",
        "gauth.credentials = GoogleCredentials.get_application_default()\n",
        "drive = GoogleDrive(gauth)\n",
        "\n",
        "# 2. Create & upload a file text file.\n",
        "file1 = drive.CreateFile()\n",
        "file1.SetContentFile(zipname+\".zip\")\n",
        "file1.Upload()"
      ],
      "execution_count": 0,
      "outputs": [
        {
          "output_type": "stream",
          "text": [
            "WARNING:googleapiclient.discovery_cache:file_cache is unavailable when using oauth2client >= 4.0.0\n",
            "Traceback (most recent call last):\n",
            "  File \"/usr/local/lib/python3.6/dist-packages/googleapiclient/discovery_cache/__init__.py\", line 36, in autodetect\n",
            "    from google.appengine.api import memcache\n",
            "ModuleNotFoundError: No module named 'google.appengine'\n",
            "\n",
            "During handling of the above exception, another exception occurred:\n",
            "\n",
            "Traceback (most recent call last):\n",
            "  File \"/usr/local/lib/python3.6/dist-packages/googleapiclient/discovery_cache/file_cache.py\", line 33, in <module>\n",
            "    from oauth2client.contrib.locked_file import LockedFile\n",
            "ModuleNotFoundError: No module named 'oauth2client.contrib.locked_file'\n",
            "\n",
            "During handling of the above exception, another exception occurred:\n",
            "\n",
            "Traceback (most recent call last):\n",
            "  File \"/usr/local/lib/python3.6/dist-packages/googleapiclient/discovery_cache/file_cache.py\", line 37, in <module>\n",
            "    from oauth2client.locked_file import LockedFile\n",
            "ModuleNotFoundError: No module named 'oauth2client.locked_file'\n",
            "\n",
            "During handling of the above exception, another exception occurred:\n",
            "\n",
            "Traceback (most recent call last):\n",
            "  File \"/usr/local/lib/python3.6/dist-packages/googleapiclient/discovery_cache/__init__.py\", line 41, in autodetect\n",
            "    from . import file_cache\n",
            "  File \"/usr/local/lib/python3.6/dist-packages/googleapiclient/discovery_cache/file_cache.py\", line 41, in <module>\n",
            "    'file_cache is unavailable when using oauth2client >= 4.0.0')\n",
            "ImportError: file_cache is unavailable when using oauth2client >= 4.0.0\n"
          ],
          "name": "stderr"
        }
      ]
    },
    {
      "metadata": {
        "id": "9jz1UtKKaPJU",
        "colab_type": "text"
      },
      "cell_type": "markdown",
      "source": [
        "## Loading from drive"
      ]
    },
    {
      "metadata": {
        "id": "qutd7UAoaUUf",
        "colab_type": "code",
        "outputId": "4fa777d4-c3f6-48c7-9ed1-e70e0625d9b9",
        "colab": {
          "base_uri": "https://localhost:8080/",
          "height": 68
        }
      },
      "cell_type": "code",
      "source": [
        "#################### DOWNLOAD AND UNZIP FILE SAVED IN DRIVE ####################\n",
        "\n",
        "!pip install -U -q PyDrive\n",
        "\n",
        "# HERE YOUR FILE ID ( GET IT WITH THE SHARING URL: https://drive.google.com/open?id=1XpV73Ebyg5Qjif2uXwaZ-I17F9uRAZNW )\n",
        "zip_id = '1XpV73Ebyg5Qjif2uXwaZ-I17F9uRAZNW'\n",
        "\n",
        "from pydrive.auth import GoogleAuth\n",
        "from pydrive.drive import GoogleDrive\n",
        "from google.colab import auth\n",
        "from oauth2client.client import GoogleCredentials\n",
        "import zipfile, os\n",
        "\n",
        "# 1. Authenticate and create the PyDrive client.\n",
        "auth.authenticate_user()\n",
        "gauth = GoogleAuth()\n",
        "gauth.credentials = GoogleCredentials.get_application_default()\n",
        "drive = GoogleDrive(gauth)\n",
        "\n",
        "if not os.path.exists('models'):\n",
        "    os.makedirs('models')\n",
        "\n",
        "# DOWNLOAD ZIP\n",
        "print (\"Downloading zip file\")\n",
        "myzip = drive.CreateFile({'id': zip_id})\n",
        "myzip.GetContentFile('model.zip')\n",
        "\n"
      ],
      "execution_count": 0,
      "outputs": [
        {
          "output_type": "stream",
          "text": [
            "\u001b[?25l\r\u001b[K    1% |▎                               | 10kB 20.0MB/s eta 0:00:01\r\u001b[K    2% |▋                               | 20kB 1.8MB/s eta 0:00:01\r\u001b[K    3% |█                               | 30kB 2.6MB/s eta 0:00:01\r\u001b[K    4% |█▎                              | 40kB 1.7MB/s eta 0:00:01\r\u001b[K    5% |█▋                              | 51kB 2.1MB/s eta 0:00:01\r\u001b[K    6% |██                              | 61kB 2.5MB/s eta 0:00:01\r\u001b[K    7% |██▎                             | 71kB 2.9MB/s eta 0:00:01\r\u001b[K    8% |██▋                             | 81kB 3.3MB/s eta 0:00:01\r\u001b[K    9% |███                             | 92kB 3.7MB/s eta 0:00:01\r\u001b[K    10% |███▎                            | 102kB 2.8MB/s eta 0:00:01\r\u001b[K    11% |███▋                            | 112kB 2.8MB/s eta 0:00:01\r\u001b[K    12% |████                            | 122kB 4.0MB/s eta 0:00:01\r\u001b[K    13% |████▎                           | 133kB 4.0MB/s eta 0:00:01\r\u001b[K    14% |████▋                           | 143kB 7.7MB/s eta 0:00:01\r\u001b[K    15% |█████                           | 153kB 7.7MB/s eta 0:00:01\r\u001b[K    16% |█████▎                          | 163kB 7.7MB/s eta 0:00:01\r\u001b[K    17% |█████▋                          | 174kB 7.5MB/s eta 0:00:01\r\u001b[K    18% |██████                          | 184kB 7.6MB/s eta 0:00:01\r\u001b[K    19% |██████▎                         | 194kB 7.6MB/s eta 0:00:01\r\u001b[K    20% |██████▋                         | 204kB 42.4MB/s eta 0:00:01\r\u001b[K    21% |███████                         | 215kB 8.4MB/s eta 0:00:01\r\u001b[K    22% |███████▎                        | 225kB 8.4MB/s eta 0:00:01\r\u001b[K    23% |███████▋                        | 235kB 8.5MB/s eta 0:00:01\r\u001b[K    24% |████████                        | 245kB 8.5MB/s eta 0:00:01\r\u001b[K    25% |████████▎                       | 256kB 8.5MB/s eta 0:00:01\r\u001b[K    26% |████████▋                       | 266kB 8.4MB/s eta 0:00:01\r\u001b[K    27% |█████████                       | 276kB 8.5MB/s eta 0:00:01\r\u001b[K    29% |█████████▎                      | 286kB 8.6MB/s eta 0:00:01\r\u001b[K    30% |█████████▋                      | 296kB 8.5MB/s eta 0:00:01\r\u001b[K    31% |██████████                      | 307kB 8.6MB/s eta 0:00:01\r\u001b[K    32% |██████████▎                     | 317kB 52.8MB/s eta 0:00:01\r\u001b[K    33% |██████████▋                     | 327kB 53.0MB/s eta 0:00:01\r\u001b[K    34% |███████████                     | 337kB 54.4MB/s eta 0:00:01\r\u001b[K    35% |███████████▎                    | 348kB 49.2MB/s eta 0:00:01\r\u001b[K    36% |███████████▋                    | 358kB 48.4MB/s eta 0:00:01\r\u001b[K    37% |████████████                    | 368kB 55.3MB/s eta 0:00:01\r\u001b[K    38% |████████████▎                   | 378kB 57.0MB/s eta 0:00:01\r\u001b[K    39% |████████████▋                   | 389kB 57.8MB/s eta 0:00:01\r\u001b[K    40% |█████████████                   | 399kB 9.4MB/s eta 0:00:01\r\u001b[K    41% |█████████████▎                  | 409kB 9.2MB/s eta 0:00:01\r\u001b[K    42% |█████████████▋                  | 419kB 9.2MB/s eta 0:00:01\r\u001b[K    43% |██████████████                  | 430kB 9.1MB/s eta 0:00:01\r\u001b[K    44% |██████████████▎                 | 440kB 9.1MB/s eta 0:00:01\r\u001b[K    45% |██████████████▋                 | 450kB 9.1MB/s eta 0:00:01\r\u001b[K    46% |███████████████                 | 460kB 9.1MB/s eta 0:00:01\r\u001b[K    47% |███████████████▎                | 471kB 9.0MB/s eta 0:00:01\r\u001b[K    48% |███████████████▋                | 481kB 9.0MB/s eta 0:00:01\r\u001b[K    49% |████████████████                | 491kB 8.9MB/s eta 0:00:01\r\u001b[K    50% |████████████████▎               | 501kB 42.7MB/s eta 0:00:01\r\u001b[K    51% |████████████████▋               | 512kB 42.9MB/s eta 0:00:01\r\u001b[K    52% |█████████████████               | 522kB 43.3MB/s eta 0:00:01\r\u001b[K    53% |█████████████████▎              | 532kB 44.9MB/s eta 0:00:01\r\u001b[K    54% |█████████████████▋              | 542kB 45.1MB/s eta 0:00:01\r\u001b[K    55% |██████████████████              | 552kB 49.8MB/s eta 0:00:01\r\u001b[K    57% |██████████████████▎             | 563kB 52.0MB/s eta 0:00:01\r\u001b[K    58% |██████████████████▋             | 573kB 50.9MB/s eta 0:00:01\r\u001b[K    59% |███████████████████             | 583kB 51.5MB/s eta 0:00:01\r\u001b[K    60% |███████████████████▎            | 593kB 51.2MB/s eta 0:00:01\r\u001b[K    61% |███████████████████▋            | 604kB 52.1MB/s eta 0:00:01\r\u001b[K    62% |████████████████████            | 614kB 57.3MB/s eta 0:00:01\r\u001b[K    63% |████████████████████▎           | 624kB 57.6MB/s eta 0:00:01\r\u001b[K    64% |████████████████████▋           | 634kB 58.1MB/s eta 0:00:01\r\u001b[K    65% |█████████████████████           | 645kB 57.9MB/s eta 0:00:01\r\u001b[K    66% |█████████████████████▎          | 655kB 55.9MB/s eta 0:00:01\r\u001b[K    67% |█████████████████████▋          | 665kB 42.9MB/s eta 0:00:01\r\u001b[K    68% |██████████████████████          | 675kB 43.4MB/s eta 0:00:01\r\u001b[K    69% |██████████████████████▎         | 686kB 43.5MB/s eta 0:00:01\r\u001b[K    70% |██████████████████████▋         | 696kB 43.7MB/s eta 0:00:01\r\u001b[K    71% |███████████████████████         | 706kB 43.4MB/s eta 0:00:01\r\u001b[K    72% |███████████████████████▎        | 716kB 44.1MB/s eta 0:00:01\r\u001b[K    73% |███████████████████████▋        | 727kB 44.4MB/s eta 0:00:01\r\u001b[K    74% |████████████████████████        | 737kB 13.7MB/s eta 0:00:01\r\u001b[K    75% |████████████████████████▎       | 747kB 13.7MB/s eta 0:00:01\r\u001b[K    76% |████████████████████████▋       | 757kB 13.7MB/s eta 0:00:01\r\u001b[K    77% |████████████████████████▉       | 768kB 14.8MB/s eta 0:00:01\r\u001b[K    78% |█████████████████████████▏      | 778kB 14.8MB/s eta 0:00:01\r\u001b[K    79% |█████████████████████████▌      | 788kB 14.7MB/s eta 0:00:01\r\u001b[K    80% |█████████████████████████▉      | 798kB 14.6MB/s eta 0:00:01\r\u001b[K    81% |██████████████████████████▏     | 808kB 14.7MB/s eta 0:00:01\r\u001b[K    82% |██████████████████████████▌     | 819kB 14.7MB/s eta 0:00:01\r\u001b[K    83% |██████████████████████████▉     | 829kB 14.7MB/s eta 0:00:01\r\u001b[K    85% |███████████████████████████▏    | 839kB 55.6MB/s eta 0:00:01\r\u001b[K    86% |███████████████████████████▌    | 849kB 55.1MB/s eta 0:00:01\r\u001b[K    87% |███████████████████████████▉    | 860kB 52.6MB/s eta 0:00:01\r\u001b[K    88% |████████████████████████████▏   | 870kB 51.2MB/s eta 0:00:01\r\u001b[K    89% |████████████████████████████▌   | 880kB 52.9MB/s eta 0:00:01\r\u001b[K    90% |████████████████████████████▉   | 890kB 54.9MB/s eta 0:00:01\r\u001b[K    91% |█████████████████████████████▏  | 901kB 54.6MB/s eta 0:00:01\r\u001b[K    92% |█████████████████████████████▌  | 911kB 55.3MB/s eta 0:00:01\r\u001b[K    93% |█████████████████████████████▉  | 921kB 55.4MB/s eta 0:00:01\r\u001b[K    94% |██████████████████████████████▏ | 931kB 55.5MB/s eta 0:00:01\r\u001b[K    95% |██████████████████████████████▌ | 942kB 56.2MB/s eta 0:00:01\r\u001b[K    96% |██████████████████████████████▉ | 952kB 57.2MB/s eta 0:00:01\r\u001b[K    97% |███████████████████████████████▏| 962kB 63.1MB/s eta 0:00:01\r\u001b[K    98% |███████████████████████████████▌| 972kB 65.1MB/s eta 0:00:01\r\u001b[K    99% |███████████████████████████████▉| 983kB 64.6MB/s eta 0:00:01\r\u001b[K    100% |████████████████████████████████| 993kB 22.4MB/s \n",
            "\u001b[?25h  Building wheel for PyDrive (setup.py) ... \u001b[?25ldone\n",
            "\u001b[?25hDownloading zip file\n"
          ],
          "name": "stdout"
        }
      ]
    },
    {
      "metadata": {
        "id": "8solg0y9fOQr",
        "colab_type": "code",
        "outputId": "8208bf82-734a-4439-a65c-bf19e848d963",
        "colab": {
          "base_uri": "https://localhost:8080/",
          "height": 34
        }
      },
      "cell_type": "code",
      "source": [
        "# UNZIP ZIP\n",
        "print (\"Uncompressing zip file\")\n",
        "zip_ref = zipfile.ZipFile('model.zip', 'r')\n",
        "zip_ref.extractall('models/')\n",
        "zip_ref.close()"
      ],
      "execution_count": 0,
      "outputs": [
        {
          "output_type": "stream",
          "text": [
            "Uncompressing zip file\n"
          ],
          "name": "stdout"
        }
      ]
    },
    {
      "metadata": {
        "id": "vvmAY239cj2w",
        "colab_type": "code",
        "outputId": "2fdea8d3-6dd2-4581-e3a4-567b541778d8",
        "colab": {
          "base_uri": "https://localhost:8080/",
          "height": 2043
        }
      },
      "cell_type": "code",
      "source": [
        "learn.load(\"em-model09\")"
      ],
      "execution_count": 0,
      "outputs": [
        {
          "output_type": "execute_result",
          "data": {
            "text/plain": [
              "Learner(data=TabularDataBunch;\n",
              "\n",
              "Train: LabelList (840109 items)\n",
              "x: TabularList\n",
              "apt_type general; send_time 09:00:00; net_hour -72; type Email; clinic 122328; city Kanata; province ON; cli_zip K2K1X7; cli_area Urban; fam 1; gender F; age 65; pat_area Urban; apt_Year 2018; apt_Month 8; apt_Week 34; apt_Day 23; apt_Dayofweek 3; apt_Dayofyear 235; apt_Is_month_end False; apt_Is_month_start False; apt_Is_quarter_end False; apt_Is_quarter_start False; apt_Is_year_end False; apt_Is_year_start False; apt_Hour 13; apt_Minute 0; sent_timeYear 2018; sent_timeMonth 8; sent_timeWeek 34; sent_timeDay 20; sent_timeDayofweek 0; sent_timeDayofyear 232; sent_timeIs_month_end False; sent_timeIs_month_start False; sent_timeIs_quarter_end False; sent_timeIs_quarter_start False; sent_timeIs_year_end False; sent_timeIs_year_start False; dist 0.1139; cli_size -0.8756; ,apt_type general; send_time 08:00:00; net_hour -24; type Email; clinic 122359; city Toronto; province ON; cli_zip M5N1A7; cli_area Urban; fam 2; gender F; age 15; pat_area Urban; apt_Year 2018; apt_Month 4; apt_Week 14; apt_Day 4; apt_Dayofweek 2; apt_Dayofyear 94; apt_Is_month_end False; apt_Is_month_start False; apt_Is_quarter_end False; apt_Is_quarter_start False; apt_Is_year_end False; apt_Is_year_start False; apt_Hour 11; apt_Minute 30; sent_timeYear 2018; sent_timeMonth 4; sent_timeWeek 14; sent_timeDay 3; sent_timeDayofweek 1; sent_timeDayofyear 93; sent_timeIs_month_end False; sent_timeIs_month_start False; sent_timeIs_quarter_end False; sent_timeIs_quarter_start False; sent_timeIs_year_end False; sent_timeIs_year_start False; dist -0.4698; cli_size -0.8550; ,apt_type rcpcx; send_time 12:00:00; net_hour -48; type SMS; clinic 123005; city Orangeville; province ON; cli_zip L9W1K1; cli_area Urban; fam 4; gender F; age 10; pat_area Urban; apt_Year 2018; apt_Month 6; apt_Week 23; apt_Day 6; apt_Dayofweek 2; apt_Dayofyear 157; apt_Is_month_end False; apt_Is_month_start False; apt_Is_quarter_end False; apt_Is_quarter_start False; apt_Is_year_end False; apt_Is_year_start False; apt_Hour 11; apt_Minute 10; sent_timeYear 2018; sent_timeMonth 6; sent_timeWeek 23; sent_timeDay 4; sent_timeDayofweek 0; sent_timeDayofyear 155; sent_timeIs_month_end False; sent_timeIs_month_start False; sent_timeIs_quarter_end False; sent_timeIs_quarter_start False; sent_timeIs_year_end False; sent_timeIs_year_start False; dist -0.4442; cli_size 0.1294; ,apt_type general; send_time 08:00:00; net_hour -336; type Email; clinic 122974; city Barrie; province ON; cli_zip L4M6B9; cli_area Urban; fam 2; gender F; age 60; pat_area Urban; apt_Year 2019; apt_Month 2; apt_Week 8; apt_Day 20; apt_Dayofweek 2; apt_Dayofyear 51; apt_Is_month_end False; apt_Is_month_start False; apt_Is_quarter_end False; apt_Is_quarter_start False; apt_Is_year_end False; apt_Is_year_start False; apt_Hour 8; apt_Minute 0; sent_timeYear 2019; sent_timeMonth 2; sent_timeWeek 6; sent_timeDay 6; sent_timeDayofweek 2; sent_timeDayofyear 37; sent_timeIs_month_end False; sent_timeIs_month_start False; sent_timeIs_quarter_end False; sent_timeIs_quarter_start False; sent_timeIs_year_end False; sent_timeIs_year_start False; dist -0.1650; cli_size 0.5705; ,apt_type rc 9mth; send_time 11:30:00; net_hour -48; type SMS; clinic 122770; city Waterloo; province ON; cli_zip N2K3M7; cli_area Urban; fam 1; gender F; age 60; pat_area Urban; apt_Year 2018; apt_Month 11; apt_Week 46; apt_Day 15; apt_Dayofweek 3; apt_Dayofyear 319; apt_Is_month_end False; apt_Is_month_start False; apt_Is_quarter_end False; apt_Is_quarter_start False; apt_Is_year_end False; apt_Is_year_start False; apt_Hour 9; apt_Minute 40; sent_timeYear 2018; sent_timeMonth 11; sent_timeWeek 46; sent_timeDay 13; sent_timeDayofweek 1; sent_timeDayofyear 317; sent_timeIs_month_end False; sent_timeIs_month_start False; sent_timeIs_quarter_end False; sent_timeIs_quarter_start False; sent_timeIs_year_end False; sent_timeIs_year_start False; dist -0.3359; cli_size -0.6494; \n",
              "y: CategoryList\n",
              "0,1,0,1,1\n",
              "Path: .;\n",
              "\n",
              "Valid: LabelList (210028 items)\n",
              "x: TabularList\n",
              "apt_type general; send_time 09:00:00; net_hour -72; type SMS; clinic 122523; city Burnaby; province BC; cli_zip V5C2K3; cli_area Urban; fam 4; gender M; age 80; pat_area Urban; apt_Year 2018; apt_Month 7; apt_Week 30; apt_Day 24; apt_Dayofweek 1; apt_Dayofyear 205; apt_Is_month_end False; apt_Is_month_start False; apt_Is_quarter_end False; apt_Is_quarter_start False; apt_Is_year_end False; apt_Is_year_start False; apt_Hour 12; apt_Minute 0; sent_timeYear 2018; sent_timeMonth 7; sent_timeWeek 29; sent_timeDay 20; sent_timeDayofweek 4; sent_timeDayofyear 201; sent_timeIs_month_end False; sent_timeIs_month_start False; sent_timeIs_quarter_end False; sent_timeIs_quarter_start False; sent_timeIs_year_end False; sent_timeIs_year_start False; dist -0.4140; cli_size 1.7585; ,apt_type recall; send_time 08:00:00; net_hour -48; type Email; clinic 143556; city Burlington; province ON; cli_zip L7M4P6; cli_area Urban; fam 3; gender M; age 40; pat_area Urban; apt_Year 2018; apt_Month 11; apt_Week 46; apt_Day 15; apt_Dayofweek 3; apt_Dayofyear 319; apt_Is_month_end False; apt_Is_month_start False; apt_Is_quarter_end False; apt_Is_quarter_start False; apt_Is_year_end False; apt_Is_year_start False; apt_Hour 12; apt_Minute 0; sent_timeYear 2018; sent_timeMonth 11; sent_timeWeek 46; sent_timeDay 13; sent_timeDayofweek 1; sent_timeDayofyear 317; sent_timeIs_month_end False; sent_timeIs_month_start False; sent_timeIs_quarter_end False; sent_timeIs_quarter_start False; sent_timeIs_year_end False; sent_timeIs_year_start False; dist -0.4220; cli_size -0.0099; ,apt_type restorative; send_time 08:00:00; net_hour -48; type Email; clinic 121573; city Peace River; province AB; cli_zip T8S1J5; cli_area Urban; fam 1; gender F; age 60; pat_area Rural; apt_Year 2018; apt_Month 11; apt_Week 47; apt_Day 19; apt_Dayofweek 0; apt_Dayofyear 323; apt_Is_month_end False; apt_Is_month_start False; apt_Is_quarter_end False; apt_Is_quarter_start False; apt_Is_year_end False; apt_Is_year_start False; apt_Hour 12; apt_Minute 30; sent_timeYear 2018; sent_timeMonth 11; sent_timeWeek 46; sent_timeDay 15; sent_timeDayofweek 3; sent_timeDayofyear 319; sent_timeIs_month_end False; sent_timeIs_month_start False; sent_timeIs_quarter_end False; sent_timeIs_quarter_start False; sent_timeIs_year_end False; sent_timeIs_year_start False; dist 3.6749; cli_size -0.6823; ,apt_type t-tx cons.; send_time 12:00:00; net_hour -168; type SMS; clinic 121805; city Kitchener; province ON; cli_zip N2A4A3; cli_area Urban; fam 1; gender F; age 40; pat_area Urban; apt_Year 2017; apt_Month 6; apt_Week 24; apt_Day 13; apt_Dayofweek 1; apt_Dayofyear 164; apt_Is_month_end False; apt_Is_month_start False; apt_Is_quarter_end False; apt_Is_quarter_start False; apt_Is_year_end False; apt_Is_year_start False; apt_Hour 8; apt_Minute 30; sent_timeYear 2017; sent_timeMonth 6; sent_timeWeek 23; sent_timeDay 6; sent_timeDayofweek 1; sent_timeDayofyear 157; sent_timeIs_month_end False; sent_timeIs_month_start False; sent_timeIs_quarter_end False; sent_timeIs_quarter_start False; sent_timeIs_year_end False; sent_timeIs_year_start False; dist -0.1946; cli_size -0.2694; ,apt_type general; send_time 11:00:00; net_hour -168; type SMS; clinic 143562; city Abbotsford; province BC; cli_zip V2S3N5; cli_area Urban; fam 4; gender F; age 15; pat_area Urban; apt_Year 2018; apt_Month 10; apt_Week 40; apt_Day 5; apt_Dayofweek 4; apt_Dayofyear 278; apt_Is_month_end False; apt_Is_month_start False; apt_Is_quarter_end False; apt_Is_quarter_start False; apt_Is_year_end False; apt_Is_year_start False; apt_Hour 14; apt_Minute 20; sent_timeYear 2018; sent_timeMonth 9; sent_timeWeek 39; sent_timeDay 28; sent_timeDayofweek 4; sent_timeDayofyear 271; sent_timeIs_month_end False; sent_timeIs_month_start False; sent_timeIs_quarter_end False; sent_timeIs_quarter_start False; sent_timeIs_year_end False; sent_timeIs_year_start False; dist -0.2823; cli_size -0.7606; \n",
              "y: CategoryList\n",
              "0,0,1,1,0\n",
              "Path: .;\n",
              "\n",
              "Test: None, model=TabularModel(\n",
              "  (embeds): ModuleList(\n",
              "    (0): Embedding(2305, 122)\n",
              "    (1): Embedding(41, 13)\n",
              "    (2): Embedding(27, 10)\n",
              "    (3): Embedding(4, 3)\n",
              "    (4): Embedding(690, 62)\n",
              "    (5): Embedding(212, 32)\n",
              "    (6): Embedding(13, 7)\n",
              "    (7): Embedding(655, 60)\n",
              "    (8): Embedding(3, 3)\n",
              "    (9): Embedding(7, 5)\n",
              "    (10): Embedding(3, 3)\n",
              "    (11): Embedding(21, 9)\n",
              "    (12): Embedding(3, 3)\n",
              "    (13): Embedding(5, 4)\n",
              "    (14): Embedding(13, 7)\n",
              "    (15): Embedding(53, 15)\n",
              "    (16): Embedding(32, 11)\n",
              "    (17): Embedding(8, 5)\n",
              "    (18): Embedding(366, 44)\n",
              "    (19): Embedding(3, 3)\n",
              "    (20): Embedding(3, 3)\n",
              "    (21): Embedding(3, 3)\n",
              "    (22): Embedding(3, 3)\n",
              "    (23): Embedding(3, 3)\n",
              "    (24): Embedding(3, 3)\n",
              "    (25): Embedding(22, 9)\n",
              "    (26): Embedding(36, 12)\n",
              "    (27): Embedding(4, 3)\n",
              "    (28): Embedding(13, 7)\n",
              "    (29): Embedding(53, 15)\n",
              "    (30): Embedding(32, 11)\n",
              "    (31): Embedding(8, 5)\n",
              "    (32): Embedding(366, 44)\n",
              "    (33): Embedding(3, 3)\n",
              "    (34): Embedding(3, 3)\n",
              "    (35): Embedding(3, 3)\n",
              "    (36): Embedding(3, 3)\n",
              "    (37): Embedding(3, 3)\n",
              "    (38): Embedding(3, 3)\n",
              "  )\n",
              "  (emb_drop): Dropout(p=0.0)\n",
              "  (bn_cont): BatchNorm1d(2, eps=1e-05, momentum=0.1, affine=True, track_running_stats=True)\n",
              "  (layers): Sequential(\n",
              "    (0): Linear(in_features=562, out_features=200, bias=True)\n",
              "    (1): ReLU(inplace)\n",
              "    (2): BatchNorm1d(200, eps=1e-05, momentum=0.1, affine=True, track_running_stats=True)\n",
              "    (3): Linear(in_features=200, out_features=100, bias=True)\n",
              "    (4): ReLU(inplace)\n",
              "    (5): BatchNorm1d(100, eps=1e-05, momentum=0.1, affine=True, track_running_stats=True)\n",
              "    (6): Linear(in_features=100, out_features=2, bias=True)\n",
              "  )\n",
              "), opt_func=functools.partial(<class 'torch.optim.adam.Adam'>, betas=(0.9, 0.99)), loss_func=FlattenedLoss of CrossEntropyLoss(), metrics=[<function accuracy at 0x7fcb5e0acd08>], true_wd=True, bn_wd=True, wd=0.01, train_bn=True, path=PosixPath('.'), model_dir='models', callback_fns=[functools.partial(<class 'fastai.basic_train.Recorder'>, add_time=True)], callbacks=[], layer_groups=[Sequential(\n",
              "  (0): Embedding(2305, 122)\n",
              "  (1): Embedding(41, 13)\n",
              "  (2): Embedding(27, 10)\n",
              "  (3): Embedding(4, 3)\n",
              "  (4): Embedding(690, 62)\n",
              "  (5): Embedding(212, 32)\n",
              "  (6): Embedding(13, 7)\n",
              "  (7): Embedding(655, 60)\n",
              "  (8): Embedding(3, 3)\n",
              "  (9): Embedding(7, 5)\n",
              "  (10): Embedding(3, 3)\n",
              "  (11): Embedding(21, 9)\n",
              "  (12): Embedding(3, 3)\n",
              "  (13): Embedding(5, 4)\n",
              "  (14): Embedding(13, 7)\n",
              "  (15): Embedding(53, 15)\n",
              "  (16): Embedding(32, 11)\n",
              "  (17): Embedding(8, 5)\n",
              "  (18): Embedding(366, 44)\n",
              "  (19): Embedding(3, 3)\n",
              "  (20): Embedding(3, 3)\n",
              "  (21): Embedding(3, 3)\n",
              "  (22): Embedding(3, 3)\n",
              "  (23): Embedding(3, 3)\n",
              "  (24): Embedding(3, 3)\n",
              "  (25): Embedding(22, 9)\n",
              "  (26): Embedding(36, 12)\n",
              "  (27): Embedding(4, 3)\n",
              "  (28): Embedding(13, 7)\n",
              "  (29): Embedding(53, 15)\n",
              "  (30): Embedding(32, 11)\n",
              "  (31): Embedding(8, 5)\n",
              "  (32): Embedding(366, 44)\n",
              "  (33): Embedding(3, 3)\n",
              "  (34): Embedding(3, 3)\n",
              "  (35): Embedding(3, 3)\n",
              "  (36): Embedding(3, 3)\n",
              "  (37): Embedding(3, 3)\n",
              "  (38): Embedding(3, 3)\n",
              "  (39): Dropout(p=0.0)\n",
              "  (40): BatchNorm1d(2, eps=1e-05, momentum=0.1, affine=True, track_running_stats=True)\n",
              "  (41): Linear(in_features=562, out_features=200, bias=True)\n",
              "  (42): ReLU(inplace)\n",
              "  (43): BatchNorm1d(200, eps=1e-05, momentum=0.1, affine=True, track_running_stats=True)\n",
              "  (44): Linear(in_features=200, out_features=100, bias=True)\n",
              "  (45): BatchNorm1d(100, eps=1e-05, momentum=0.1, affine=True, track_running_stats=True)\n",
              "  (46): Linear(in_features=100, out_features=2, bias=True)\n",
              ")], add_time=True)"
            ]
          },
          "metadata": {
            "tags": []
          },
          "execution_count": 62
        }
      ]
    },
    {
      "metadata": {
        "id": "RDJ9HMF69H3I",
        "colab_type": "text"
      },
      "cell_type": "markdown",
      "source": [
        "#Test data - preprocessing"
      ]
    },
    {
      "metadata": {
        "id": "Wtw2Vqwji9s4",
        "colab_type": "code",
        "colab": {}
      },
      "cell_type": "code",
      "source": [
        "test_df = pd.read_csv(\"gdrive/My Drive/hackathon/dataset/test.csv\", index_col=0, parse_dates=True)"
      ],
      "execution_count": 0,
      "outputs": []
    },
    {
      "metadata": {
        "id": "pcvkZLa8i-e6",
        "colab_type": "code",
        "outputId": "85414ba4-dc44-4f1c-a289-39bdebeccc42",
        "colab": {
          "base_uri": "https://localhost:8080/",
          "height": 394
        }
      },
      "cell_type": "code",
      "source": [
        "test_df.head()"
      ],
      "execution_count": 0,
      "outputs": [
        {
          "output_type": "execute_result",
          "data": {
            "text/html": [
              "<div>\n",
              "<style scoped>\n",
              "    .dataframe tbody tr th:only-of-type {\n",
              "        vertical-align: middle;\n",
              "    }\n",
              "\n",
              "    .dataframe tbody tr th {\n",
              "        vertical-align: top;\n",
              "    }\n",
              "\n",
              "    .dataframe thead th {\n",
              "        text-align: right;\n",
              "    }\n",
              "</style>\n",
              "<table border=\"1\" class=\"dataframe\">\n",
              "  <thead>\n",
              "    <tr style=\"text-align: right;\">\n",
              "      <th></th>\n",
              "      <th>apt_type</th>\n",
              "      <th>apt_date</th>\n",
              "      <th>sent_time</th>\n",
              "      <th>send_time</th>\n",
              "      <th>net_hour</th>\n",
              "      <th>type</th>\n",
              "      <th>clinic</th>\n",
              "      <th>city</th>\n",
              "      <th>province</th>\n",
              "      <th>cli_zip</th>\n",
              "      <th>cli_area</th>\n",
              "      <th>cli_size</th>\n",
              "      <th>pat_id</th>\n",
              "      <th>family_id</th>\n",
              "      <th>fam</th>\n",
              "      <th>gender</th>\n",
              "      <th>age</th>\n",
              "      <th>pat_area</th>\n",
              "      <th>dist</th>\n",
              "    </tr>\n",
              "  </thead>\n",
              "  <tbody>\n",
              "    <tr>\n",
              "      <th>0</th>\n",
              "      <td>rm1r/c</td>\n",
              "      <td>2018-12-03 08:00:00</td>\n",
              "      <td>2018-11-29 08:05:13</td>\n",
              "      <td>08:00:00</td>\n",
              "      <td>-48</td>\n",
              "      <td>Email</td>\n",
              "      <td>120956</td>\n",
              "      <td>Sidney</td>\n",
              "      <td>BC</td>\n",
              "      <td>V8L1Y2</td>\n",
              "      <td>Urban</td>\n",
              "      <td>3150</td>\n",
              "      <td>986691</td>\n",
              "      <td>395713</td>\n",
              "      <td>4</td>\n",
              "      <td>F</td>\n",
              "      <td>45</td>\n",
              "      <td>Urban</td>\n",
              "      <td>4.497</td>\n",
              "    </tr>\n",
              "    <tr>\n",
              "      <th>1</th>\n",
              "      <td>general</td>\n",
              "      <td>2018-04-11 15:30:00</td>\n",
              "      <td>2018-04-07 10:00:07</td>\n",
              "      <td>11:00:00</td>\n",
              "      <td>-72</td>\n",
              "      <td>Email</td>\n",
              "      <td>123294</td>\n",
              "      <td>Toronto</td>\n",
              "      <td>ON</td>\n",
              "      <td>M4K1R2</td>\n",
              "      <td>Urban</td>\n",
              "      <td>5267</td>\n",
              "      <td>148198</td>\n",
              "      <td>136097</td>\n",
              "      <td>5</td>\n",
              "      <td>M</td>\n",
              "      <td>10</td>\n",
              "      <td>Urban</td>\n",
              "      <td>0.314</td>\n",
              "    </tr>\n",
              "    <tr>\n",
              "      <th>2</th>\n",
              "      <td>rc -*9acc</td>\n",
              "      <td>2018-05-03 13:30:00</td>\n",
              "      <td>2018-05-01 08:01:28</td>\n",
              "      <td>08:00:00</td>\n",
              "      <td>-48</td>\n",
              "      <td>Email</td>\n",
              "      <td>121777</td>\n",
              "      <td>Stayner</td>\n",
              "      <td>ON</td>\n",
              "      <td>L0M1S0</td>\n",
              "      <td>Rural</td>\n",
              "      <td>2536</td>\n",
              "      <td>281866</td>\n",
              "      <td>242299</td>\n",
              "      <td>1</td>\n",
              "      <td>F</td>\n",
              "      <td>75</td>\n",
              "      <td>Rural</td>\n",
              "      <td>54.467</td>\n",
              "    </tr>\n",
              "    <tr>\n",
              "      <th>3</th>\n",
              "      <td>general</td>\n",
              "      <td>2019-01-12 09:00:00</td>\n",
              "      <td>2019-01-05 11:01:08</td>\n",
              "      <td>11:00:00</td>\n",
              "      <td>-168</td>\n",
              "      <td>SMS</td>\n",
              "      <td>122192</td>\n",
              "      <td>Edmonton</td>\n",
              "      <td>AB</td>\n",
              "      <td>T6C1M3</td>\n",
              "      <td>Urban</td>\n",
              "      <td>2864</td>\n",
              "      <td>144658</td>\n",
              "      <td>133076</td>\n",
              "      <td>1</td>\n",
              "      <td>F</td>\n",
              "      <td>60</td>\n",
              "      <td>Urban</td>\n",
              "      <td>5.909</td>\n",
              "    </tr>\n",
              "    <tr>\n",
              "      <th>4</th>\n",
              "      <td>general</td>\n",
              "      <td>2018-06-22 10:15:00</td>\n",
              "      <td>2018-06-20 08:30:23</td>\n",
              "      <td>09:00:00</td>\n",
              "      <td>-48</td>\n",
              "      <td>Voice</td>\n",
              "      <td>122980</td>\n",
              "      <td>Niagara Falls</td>\n",
              "      <td>ON</td>\n",
              "      <td>L2E6M9</td>\n",
              "      <td>Urban</td>\n",
              "      <td>4277</td>\n",
              "      <td>647998</td>\n",
              "      <td>121629</td>\n",
              "      <td>3</td>\n",
              "      <td>F</td>\n",
              "      <td>60</td>\n",
              "      <td>Urban</td>\n",
              "      <td>1.193</td>\n",
              "    </tr>\n",
              "  </tbody>\n",
              "</table>\n",
              "</div>"
            ],
            "text/plain": [
              "    apt_type             apt_date            sent_time send_time  net_hour  \\\n",
              "0     rm1r/c  2018-12-03 08:00:00  2018-11-29 08:05:13  08:00:00       -48   \n",
              "1    general  2018-04-11 15:30:00  2018-04-07 10:00:07  11:00:00       -72   \n",
              "2  rc -*9acc  2018-05-03 13:30:00  2018-05-01 08:01:28  08:00:00       -48   \n",
              "3    general  2019-01-12 09:00:00  2019-01-05 11:01:08  11:00:00      -168   \n",
              "4    general  2018-06-22 10:15:00  2018-06-20 08:30:23  09:00:00       -48   \n",
              "\n",
              "    type  clinic           city province cli_zip cli_area  cli_size  pat_id  \\\n",
              "0  Email  120956         Sidney       BC  V8L1Y2    Urban      3150  986691   \n",
              "1  Email  123294        Toronto       ON  M4K1R2    Urban      5267  148198   \n",
              "2  Email  121777        Stayner       ON  L0M1S0    Rural      2536  281866   \n",
              "3    SMS  122192       Edmonton       AB  T6C1M3    Urban      2864  144658   \n",
              "4  Voice  122980  Niagara Falls       ON  L2E6M9    Urban      4277  647998   \n",
              "\n",
              "   family_id  fam gender  age pat_area    dist  \n",
              "0     395713    4      F   45    Urban   4.497  \n",
              "1     136097    5      M   10    Urban   0.314  \n",
              "2     242299    1      F   75    Rural  54.467  \n",
              "3     133076    1      F   60    Urban   5.909  \n",
              "4     121629    3      F   60    Urban   1.193  "
            ]
          },
          "metadata": {
            "tags": []
          },
          "execution_count": 27
        }
      ]
    },
    {
      "metadata": {
        "id": "t1-ZNl7y9PW2",
        "colab_type": "code",
        "outputId": "6ebb675e-3c5c-419c-f778-846235f3b18f",
        "colab": {
          "base_uri": "https://localhost:8080/",
          "height": 34
        }
      },
      "cell_type": "code",
      "source": [
        "add_datepart(test_df, field_name=\"apt_date\", time=True )\n",
        "add_datepart(test_df, field_name=\"sent_time\", time=True )\n",
        "print('done')"
      ],
      "execution_count": 0,
      "outputs": [
        {
          "output_type": "stream",
          "text": [
            "done\n"
          ],
          "name": "stdout"
        }
      ]
    },
    {
      "metadata": {
        "colab_type": "text",
        "id": "8dMsZyhorwn8"
      },
      "cell_type": "markdown",
      "source": [
        "# Prediction"
      ]
    },
    {
      "metadata": {
        "id": "wdq71RiRk7cS",
        "colab_type": "code",
        "colab": {}
      },
      "cell_type": "code",
      "source": [
        "testdata = TabularList.from_df(test_df, cat_names=cat_names, cont_names=cont_names, procs=procs)"
      ],
      "execution_count": 0,
      "outputs": []
    },
    {
      "metadata": {
        "id": "HYHUO2G0lMCx",
        "colab_type": "code",
        "colab": {}
      },
      "cell_type": "code",
      "source": [
        "learn = load_learner(path=\"models/\", fname=\"em-model10-exp\", test=testdata)\n"
      ],
      "execution_count": 0,
      "outputs": []
    },
    {
      "metadata": {
        "id": "oDRKtwKJlVqi",
        "colab_type": "code",
        "colab": {}
      },
      "cell_type": "code",
      "source": [
        "preds,y = learn.get_preds(ds_type=DatasetType.Test)"
      ],
      "execution_count": 0,
      "outputs": []
    },
    {
      "metadata": {
        "id": "c8hhUjIglk_y",
        "colab_type": "code",
        "outputId": "54b74432-451e-4381-bc0f-025cc8b05faa",
        "colab": {
          "base_uri": "https://localhost:8080/",
          "height": 34
        }
      },
      "cell_type": "code",
      "source": [
        "len(preds)"
      ],
      "execution_count": 0,
      "outputs": [
        {
          "output_type": "execute_result",
          "data": {
            "text/plain": [
              "91310"
            ]
          },
          "metadata": {
            "tags": []
          },
          "execution_count": 33
        }
      ]
    },
    {
      "metadata": {
        "id": "7vWJVX19lzSY",
        "colab_type": "code",
        "colab": {}
      },
      "cell_type": "code",
      "source": [
        "response = np.argmax(preds.numpy(), axis=1)"
      ],
      "execution_count": 0,
      "outputs": []
    },
    {
      "metadata": {
        "id": "s3B62RsnmFfQ",
        "colab_type": "code",
        "outputId": "f0fee07c-3cbd-4e33-d21e-e48af721349c",
        "colab": {
          "base_uri": "https://localhost:8080/",
          "height": 34
        }
      },
      "cell_type": "code",
      "source": [
        "response"
      ],
      "execution_count": 0,
      "outputs": [
        {
          "output_type": "execute_result",
          "data": {
            "text/plain": [
              "array([1, 0, 0, 0, ..., 1, 0, 1, 1])"
            ]
          },
          "metadata": {
            "tags": []
          },
          "execution_count": 35
        }
      ]
    },
    {
      "metadata": {
        "id": "rYGFtZ7HnTG_",
        "colab_type": "code",
        "colab": {}
      },
      "cell_type": "code",
      "source": [
        "pd.DataFrame(response).to_csv('gdrive/My Drive/hackathon/predictions/em-model05.csv', index=False)"
      ],
      "execution_count": 0,
      "outputs": []
    },
    {
      "metadata": {
        "id": "D7eCe7fXnOSW",
        "colab_type": "text"
      },
      "cell_type": "markdown",
      "source": [
        "# Evaluation"
      ]
    },
    {
      "metadata": {
        "id": "4cQZQzWj6yXB",
        "colab_type": "code",
        "colab": {}
      },
      "cell_type": "code",
      "source": [
        "test_y_df = pd.read_csv(\"gdrive/My Drive/hackathon/dataset/test_y.csv\", index_col=0)"
      ],
      "execution_count": 0,
      "outputs": []
    },
    {
      "metadata": {
        "id": "I7pDP26l4wAR",
        "colab_type": "code",
        "outputId": "48961188-80fb-4fbb-c1e3-a26a63a554d0",
        "colab": {
          "base_uri": "https://localhost:8080/",
          "height": 204
        }
      },
      "cell_type": "code",
      "source": [
        "test_y_df.head()"
      ],
      "execution_count": 0,
      "outputs": [
        {
          "output_type": "execute_result",
          "data": {
            "text/html": [
              "<div>\n",
              "<style scoped>\n",
              "    .dataframe tbody tr th:only-of-type {\n",
              "        vertical-align: middle;\n",
              "    }\n",
              "\n",
              "    .dataframe tbody tr th {\n",
              "        vertical-align: top;\n",
              "    }\n",
              "\n",
              "    .dataframe thead th {\n",
              "        text-align: right;\n",
              "    }\n",
              "</style>\n",
              "<table border=\"1\" class=\"dataframe\">\n",
              "  <thead>\n",
              "    <tr style=\"text-align: right;\">\n",
              "      <th></th>\n",
              "      <th>response</th>\n",
              "    </tr>\n",
              "  </thead>\n",
              "  <tbody>\n",
              "    <tr>\n",
              "      <th>0</th>\n",
              "      <td>0</td>\n",
              "    </tr>\n",
              "    <tr>\n",
              "      <th>1</th>\n",
              "      <td>0</td>\n",
              "    </tr>\n",
              "    <tr>\n",
              "      <th>2</th>\n",
              "      <td>0</td>\n",
              "    </tr>\n",
              "    <tr>\n",
              "      <th>3</th>\n",
              "      <td>1</td>\n",
              "    </tr>\n",
              "    <tr>\n",
              "      <th>4</th>\n",
              "      <td>0</td>\n",
              "    </tr>\n",
              "  </tbody>\n",
              "</table>\n",
              "</div>"
            ],
            "text/plain": [
              "   response\n",
              "0         0\n",
              "1         0\n",
              "2         0\n",
              "3         1\n",
              "4         0"
            ]
          },
          "metadata": {
            "tags": []
          },
          "execution_count": 37
        }
      ]
    },
    {
      "metadata": {
        "id": "L8tNG8kMmHuv",
        "colab_type": "code",
        "outputId": "3c25e5b6-b79c-4427-ddd3-0823df12aade",
        "colab": {
          "base_uri": "https://localhost:8080/",
          "height": 330
        }
      },
      "cell_type": "code",
      "source": [
        "(response == test_y_df['response']).value_counts().plot.pie(autopct='%1.2f%%');"
      ],
      "execution_count": 0,
      "outputs": [
        {
          "output_type": "display_data",
          "data": {
            "image/png": "[encoded data removed]",
            "text/plain": [
              "<Figure size 576x396 with 1 Axes>"
            ]
          },
          "metadata": {
            "tags": []
          }
        }
      ]
    },
    {
      "metadata": {
        "id": "S1gHEKHXqjz_",
        "colab_type": "text"
      },
      "cell_type": "markdown",
      "source": [
        "# Deployment"
      ]
    },
    {
      "metadata": {
        "id": "P9nIRFyQvPSo",
        "colab_type": "text"
      },
      "cell_type": "markdown",
      "source": [
        "## Reminder"
      ]
    },
    {
      "metadata": {
        "id": "JxfAC6yNrj0T",
        "colab_type": "code",
        "outputId": "8c6a3bcf-1892-443e-b85a-a934aa3c2df9",
        "colab": {
          "base_uri": "https://localhost:8080/",
          "height": 100
        }
      },
      "cell_type": "code",
      "source": [
        "# reminder \n",
        "test_df.iloc[0].to_frame().transpose()"
      ],
      "execution_count": 0,
      "outputs": [
        {
          "output_type": "execute_result",
          "data": {
            "text/html": [
              "<div>\n",
              "<style scoped>\n",
              "    .dataframe tbody tr th:only-of-type {\n",
              "        vertical-align: middle;\n",
              "    }\n",
              "\n",
              "    .dataframe tbody tr th {\n",
              "        vertical-align: top;\n",
              "    }\n",
              "\n",
              "    .dataframe thead th {\n",
              "        text-align: right;\n",
              "    }\n",
              "</style>\n",
              "<table border=\"1\" class=\"dataframe\">\n",
              "  <thead>\n",
              "    <tr style=\"text-align: right;\">\n",
              "      <th></th>\n",
              "      <th>apt_type</th>\n",
              "      <th>send_time</th>\n",
              "      <th>net_hour</th>\n",
              "      <th>type</th>\n",
              "      <th>clinic</th>\n",
              "      <th>city</th>\n",
              "      <th>province</th>\n",
              "      <th>cli_zip</th>\n",
              "      <th>cli_area</th>\n",
              "      <th>cli_size</th>\n",
              "      <th>pat_id</th>\n",
              "      <th>family_id</th>\n",
              "      <th>fam</th>\n",
              "      <th>gender</th>\n",
              "      <th>age</th>\n",
              "      <th>pat_area</th>\n",
              "      <th>dist</th>\n",
              "      <th>apt_Year</th>\n",
              "      <th>apt_Month</th>\n",
              "      <th>apt_Week</th>\n",
              "      <th>apt_Day</th>\n",
              "      <th>apt_Dayofweek</th>\n",
              "      <th>apt_Dayofyear</th>\n",
              "      <th>apt_Is_month_end</th>\n",
              "      <th>apt_Is_month_start</th>\n",
              "      <th>apt_Is_quarter_end</th>\n",
              "      <th>apt_Is_quarter_start</th>\n",
              "      <th>apt_Is_year_end</th>\n",
              "      <th>apt_Is_year_start</th>\n",
              "      <th>apt_Hour</th>\n",
              "      <th>apt_Minute</th>\n",
              "      <th>apt_Second</th>\n",
              "      <th>apt_Elapsed</th>\n",
              "      <th>sent_timeYear</th>\n",
              "      <th>sent_timeMonth</th>\n",
              "      <th>sent_timeWeek</th>\n",
              "      <th>sent_timeDay</th>\n",
              "      <th>sent_timeDayofweek</th>\n",
              "      <th>sent_timeDayofyear</th>\n",
              "      <th>sent_timeIs_month_end</th>\n",
              "      <th>sent_timeIs_month_start</th>\n",
              "      <th>sent_timeIs_quarter_end</th>\n",
              "      <th>sent_timeIs_quarter_start</th>\n",
              "      <th>sent_timeIs_year_end</th>\n",
              "      <th>sent_timeIs_year_start</th>\n",
              "      <th>sent_timeHour</th>\n",
              "      <th>sent_timeMinute</th>\n",
              "      <th>sent_timeSecond</th>\n",
              "      <th>sent_timeElapsed</th>\n",
              "    </tr>\n",
              "  </thead>\n",
              "  <tbody>\n",
              "    <tr>\n",
              "      <th>0</th>\n",
              "      <td>rm1r/c</td>\n",
              "      <td>08:00:00</td>\n",
              "      <td>-48</td>\n",
              "      <td>Email</td>\n",
              "      <td>120956</td>\n",
              "      <td>Sidney</td>\n",
              "      <td>BC</td>\n",
              "      <td>V8L1Y2</td>\n",
              "      <td>Urban</td>\n",
              "      <td>3150</td>\n",
              "      <td>986691</td>\n",
              "      <td>395713</td>\n",
              "      <td>4</td>\n",
              "      <td>F</td>\n",
              "      <td>45</td>\n",
              "      <td>Urban</td>\n",
              "      <td>4.497</td>\n",
              "      <td>2018</td>\n",
              "      <td>12</td>\n",
              "      <td>49</td>\n",
              "      <td>3</td>\n",
              "      <td>0</td>\n",
              "      <td>337</td>\n",
              "      <td>False</td>\n",
              "      <td>False</td>\n",
              "      <td>False</td>\n",
              "      <td>False</td>\n",
              "      <td>False</td>\n",
              "      <td>False</td>\n",
              "      <td>8</td>\n",
              "      <td>0</td>\n",
              "      <td>0</td>\n",
              "      <td>1543824000</td>\n",
              "      <td>2018</td>\n",
              "      <td>11</td>\n",
              "      <td>48</td>\n",
              "      <td>29</td>\n",
              "      <td>3</td>\n",
              "      <td>333</td>\n",
              "      <td>False</td>\n",
              "      <td>False</td>\n",
              "      <td>False</td>\n",
              "      <td>False</td>\n",
              "      <td>False</td>\n",
              "      <td>False</td>\n",
              "      <td>8</td>\n",
              "      <td>5</td>\n",
              "      <td>13</td>\n",
              "      <td>1543478713</td>\n",
              "    </tr>\n",
              "  </tbody>\n",
              "</table>\n",
              "</div>"
            ],
            "text/plain": [
              "  apt_type send_time net_hour   type  clinic    city province cli_zip  \\\n",
              "0   rm1r/c  08:00:00      -48  Email  120956  Sidney       BC  V8L1Y2   \n",
              "\n",
              "  cli_area cli_size  pat_id family_id fam gender age pat_area   dist apt_Year  \\\n",
              "0    Urban     3150  986691    395713   4      F  45    Urban  4.497     2018   \n",
              "\n",
              "  apt_Month apt_Week apt_Day apt_Dayofweek apt_Dayofyear apt_Is_month_end  \\\n",
              "0        12       49       3             0           337            False   \n",
              "\n",
              "  apt_Is_month_start apt_Is_quarter_end apt_Is_quarter_start apt_Is_year_end  \\\n",
              "0              False              False                False           False   \n",
              "\n",
              "  apt_Is_year_start apt_Hour apt_Minute apt_Second apt_Elapsed sent_timeYear  \\\n",
              "0             False        8          0          0  1543824000          2018   \n",
              "\n",
              "  sent_timeMonth sent_timeWeek sent_timeDay sent_timeDayofweek  \\\n",
              "0             11            48           29                  3   \n",
              "\n",
              "  sent_timeDayofyear sent_timeIs_month_end sent_timeIs_month_start  \\\n",
              "0                333                 False                   False   \n",
              "\n",
              "  sent_timeIs_quarter_end sent_timeIs_quarter_start sent_timeIs_year_end  \\\n",
              "0                   False                     False                False   \n",
              "\n",
              "  sent_timeIs_year_start sent_timeHour sent_timeMinute sent_timeSecond  \\\n",
              "0                  False             8               5              13   \n",
              "\n",
              "  sent_timeElapsed  \n",
              "0       1543478713  "
            ]
          },
          "metadata": {
            "tags": []
          },
          "execution_count": 100
        }
      ]
    },
    {
      "metadata": {
        "id": "xrC3mOqTt4mv",
        "colab_type": "code",
        "outputId": "08b62b1d-7293-4864-c3a5-ba5aa621295d",
        "colab": {
          "base_uri": "https://localhost:8080/",
          "height": 867
        }
      },
      "cell_type": "code",
      "source": [
        "# reminder - processed data for the model\n",
        "reminder = testdata[0]\n",
        "reminder"
      ],
      "execution_count": 0,
      "outputs": [
        {
          "output_type": "execute_result",
          "data": {
            "text/plain": [
              "apt_type                         rm1r/c\n",
              "send_time                      08:00:00\n",
              "net_hour                            -48\n",
              "type                              Email\n",
              "clinic                           120956\n",
              "city                             Sidney\n",
              "province                             BC\n",
              "cli_zip                          V8L1Y2\n",
              "cli_area                          Urban\n",
              "cli_size                       0.191853\n",
              "pat_id                           986691\n",
              "family_id                        395713\n",
              "fam                                   4\n",
              "gender                                F\n",
              "age                                  45\n",
              "pat_area                          Urban\n",
              "dist                          -0.297604\n",
              "apt_Year                           2018\n",
              "apt_Month                            12\n",
              "apt_Week                             49\n",
              "apt_Day                               3\n",
              "apt_Dayofweek                         0\n",
              "apt_Dayofyear                       337\n",
              "apt_Is_month_end                  False\n",
              "apt_Is_month_start                False\n",
              "apt_Is_quarter_end                False\n",
              "apt_Is_quarter_start              False\n",
              "apt_Is_year_end                   False\n",
              "apt_Is_year_start                 False\n",
              "apt_Hour                              8\n",
              "apt_Minute                            0\n",
              "apt_Second                            0\n",
              "apt_Elapsed                  1543824000\n",
              "sent_timeYear                      2018\n",
              "sent_timeMonth                       11\n",
              "sent_timeWeek                        48\n",
              "sent_timeDay                         29\n",
              "sent_timeDayofweek                    3\n",
              "sent_timeDayofyear                  333\n",
              "sent_timeIs_month_end             False\n",
              "sent_timeIs_month_start           False\n",
              "sent_timeIs_quarter_end           False\n",
              "sent_timeIs_quarter_start         False\n",
              "sent_timeIs_year_end              False\n",
              "sent_timeIs_year_start            False\n",
              "sent_timeHour                         8\n",
              "sent_timeMinute                       5\n",
              "sent_timeSecond                      13\n",
              "sent_timeElapsed             1543478713\n",
              "Name: 0, dtype: object"
            ]
          },
          "metadata": {
            "tags": []
          },
          "execution_count": 74
        }
      ]
    },
    {
      "metadata": {
        "id": "ENlT93LgrCPm",
        "colab_type": "code",
        "outputId": "5ce803de-9312-4d57-ff9a-80739e25b7d7",
        "colab": {
          "base_uri": "https://localhost:8080/",
          "height": 34
        }
      },
      "cell_type": "code",
      "source": [
        "# reminder - prediction\n",
        "learn.predict(reminder)"
      ],
      "execution_count": 0,
      "outputs": [
        {
          "output_type": "execute_result",
          "data": {
            "text/plain": [
              "(Category 1, tensor(1), tensor([0.4579, 0.5421]))"
            ]
          },
          "metadata": {
            "tags": []
          },
          "execution_count": 75
        }
      ]
    },
    {
      "metadata": {
        "id": "JtUkVaD-veli",
        "colab_type": "code",
        "outputId": "74cc15b7-6c46-45a3-e87e-c5e2d0dfa29f",
        "colab": {
          "base_uri": "https://localhost:8080/",
          "height": 34
        }
      },
      "cell_type": "code",
      "source": [
        "# reminder - probability of confirming\n",
        "learn.predict(reminder)[2].numpy()[1]"
      ],
      "execution_count": 0,
      "outputs": [
        {
          "output_type": "execute_result",
          "data": {
            "text/plain": [
              "0.5421342"
            ]
          },
          "metadata": {
            "tags": []
          },
          "execution_count": 76
        }
      ]
    },
    {
      "metadata": {
        "id": "RVfFlywp5ejg",
        "colab_type": "text"
      },
      "cell_type": "markdown",
      "source": [
        "## Probabilities - types of reminders"
      ]
    },
    {
      "metadata": {
        "id": "lyQ7IkUJ7IZH",
        "colab_type": "code",
        "outputId": "a49eca5b-eb4f-488a-a6d4-d14dbe75cf13",
        "colab": {
          "base_uri": "https://localhost:8080/",
          "height": 34
        }
      },
      "cell_type": "code",
      "source": [
        "test_df.type.unique()\n"
      ],
      "execution_count": 0,
      "outputs": [
        {
          "output_type": "execute_result",
          "data": {
            "text/plain": [
              "array(['Email', 'SMS', 'Voice'], dtype=object)"
            ]
          },
          "metadata": {
            "tags": []
          },
          "execution_count": 139
        }
      ]
    },
    {
      "metadata": {
        "id": "5uOcTAf57RTG",
        "colab_type": "code",
        "colab": {}
      },
      "cell_type": "code",
      "source": [
        "test_copy = test_df.copy()"
      ],
      "execution_count": 0,
      "outputs": []
    },
    {
      "metadata": {
        "id": "hNUElzPP7Sip",
        "colab_type": "code",
        "outputId": "844b3cb1-9e6e-47c1-b9bb-3b1365508eb4",
        "colab": {
          "base_uri": "https://localhost:8080/",
          "height": 68
        }
      },
      "cell_type": "code",
      "source": [
        "for t in test_copy.type.unique():\n",
        "  test_copy.loc[test_copy.index == 0, \"type\"] = t\n",
        "  testdata = TabularList.from_df(test_copy, cat_names=cat_names, cont_names=cont_names, procs=procs)\n",
        "  reminder = testdata[0]\n",
        "  print(t, learn.predict(reminder)[2].numpy()[1])"
      ],
      "execution_count": 0,
      "outputs": [
        {
          "output_type": "stream",
          "text": [
            "Email 0.5355852\n",
            "SMS 0.7066814\n",
            "Voice 0.74154615\n"
          ],
          "name": "stdout"
        }
      ]
    },
    {
      "metadata": {
        "id": "MuxbhFRFvrrQ",
        "colab_type": "text"
      },
      "cell_type": "markdown",
      "source": [
        "## Probabilities - send_time                      "
      ]
    },
    {
      "metadata": {
        "id": "alNvx5SYwG4W",
        "colab_type": "code",
        "outputId": "15c6893c-707f-471c-cbac-4fc6dc1a184d",
        "colab": {
          "base_uri": "https://localhost:8080/",
          "height": 54
        }
      },
      "cell_type": "code",
      "source": [
        "print(sorted(test_df.send_time.unique()))"
      ],
      "execution_count": 0,
      "outputs": [
        {
          "output_type": "stream",
          "text": [
            "['00:00:00', '07:00:00', '07:30:00', '08:00:00', '08:15:00', '08:30:00', '08:31:00', '08:45:00', '09:00:00', '09:30:00', '10:00:00', '10:30:00', '11:00:00', '11:30:00', '11:45:00', '12:00:00', '12:30:00', '12:45:00', '13:00:00', '13:30:00', '14:00:00', '14:30:00', '15:00:00', '15:30:00', '16:00:00', '16:30:00', '17:00:00', '17:15:00', '17:17:00', '17:20:00', '17:30:00', '17:40:00', '17:45:00', '18:00:00', '18:10:00', '18:30:00', '18:40:00', '19:00:00']\n"
          ],
          "name": "stdout"
        }
      ]
    },
    {
      "metadata": {
        "id": "uGp3BwGf2Xkf",
        "colab_type": "code",
        "colab": {}
      },
      "cell_type": "code",
      "source": [
        "test_copy = test_df.copy()"
      ],
      "execution_count": 0,
      "outputs": []
    },
    {
      "metadata": {
        "id": "49nbLJHXvyii",
        "colab_type": "code",
        "outputId": "016ba39b-41a8-4fdc-ccc6-b782b9ab9c26",
        "colab": {
          "base_uri": "https://localhost:8080/",
          "height": 663
        }
      },
      "cell_type": "code",
      "source": [
        "for st in sorted(test_df.send_time.unique()):\n",
        "  test_copy.loc[test_copy.index == 0, \"send_time\"] = st\n",
        "  testdata = TabularList.from_df(test_copy, cat_names=cat_names, cont_names=cont_names, procs=procs)\n",
        "  reminder = testdata[0]\n",
        "  print(st, learn.predict(reminder)[2].numpy()[1])"
      ],
      "execution_count": 0,
      "outputs": [
        {
          "output_type": "stream",
          "text": [
            "00:00:00 0.539507\n",
            "07:00:00 0.53251153\n",
            "07:30:00 0.5316631\n",
            "08:00:00 0.5355852\n",
            "08:15:00 0.53500766\n",
            "08:30:00 0.54299814\n",
            "08:31:00 0.53881127\n",
            "08:45:00 0.5398257\n",
            "09:00:00 0.5412592\n",
            "09:30:00 0.5392866\n",
            "10:00:00 0.53826284\n",
            "10:30:00 0.53643227\n",
            "11:00:00 0.540196\n",
            "11:30:00 0.53550303\n",
            "11:45:00 0.5377774\n",
            "12:00:00 0.535502\n",
            "12:30:00 0.5400007\n",
            "12:45:00 0.537747\n",
            "13:00:00 0.53908265\n",
            "13:30:00 0.53573555\n",
            "14:00:00 0.53768\n",
            "14:30:00 0.5376556\n",
            "15:00:00 0.54325604\n",
            "15:30:00 0.53780025\n",
            "16:00:00 0.53447443\n",
            "16:30:00 0.5427816\n",
            "17:00:00 0.5337724\n",
            "17:15:00 0.5377341\n",
            "17:17:00 0.5388052\n",
            "17:20:00 0.53529984\n",
            "17:30:00 0.5381505\n",
            "17:40:00 0.53438824\n",
            "17:45:00 0.53880763\n",
            "18:00:00 0.5391576\n",
            "18:10:00 0.53749424\n",
            "18:30:00 0.53396374\n",
            "18:40:00 0.53230983\n",
            "19:00:00 0.5020576\n"
          ],
          "name": "stdout"
        }
      ]
    },
    {
      "metadata": {
        "id": "tDJw5UxM8Mnn",
        "colab_type": "text"
      },
      "cell_type": "markdown",
      "source": [
        "## Best"
      ]
    },
    {
      "metadata": {
        "id": "RUBO2FpA8RFd",
        "colab_type": "code",
        "colab": {}
      },
      "cell_type": "code",
      "source": [
        "best = {}"
      ],
      "execution_count": 0,
      "outputs": []
    },
    {
      "metadata": {
        "id": "qW0r2M5D8Tsj",
        "colab_type": "code",
        "colab": {}
      },
      "cell_type": "code",
      "source": [
        "test_copy = test_df.copy()"
      ],
      "execution_count": 0,
      "outputs": []
    },
    {
      "metadata": {
        "id": "lOSflcX_8ahB",
        "colab_type": "code",
        "colab": {}
      },
      "cell_type": "code",
      "source": [
        "for t in test_copy.type.unique():\n",
        "  test_copy.loc[test_copy.index == 0, \"type\"] = t\n",
        "  for st in sorted(test_df.send_time.unique()):\n",
        "    test_copy.loc[test_copy.index == 0, \"send_time\"] = st\n",
        "    testdata = TabularList.from_df(test_copy, cat_names=cat_names, cont_names=cont_names, procs=procs)\n",
        "    reminder = testdata[0]\n",
        "    best[(learn.predict(reminder)[2].numpy()[1])] = [t,st]"
      ],
      "execution_count": 0,
      "outputs": []
    },
    {
      "metadata": {
        "id": "ZOMiFxxH9Fbd",
        "colab_type": "code",
        "outputId": "c4859ea6-f6bd-4e29-862e-90c0d5afb0ef",
        "colab": {
          "base_uri": "https://localhost:8080/",
          "height": 867
        }
      },
      "cell_type": "code",
      "source": [
        "# top 50: type, send_time\n",
        "for key in sorted(best.keys(), reverse=True)[:50]:\n",
        "  print(key, best[key])"
      ],
      "execution_count": 0,
      "outputs": [
        {
          "output_type": "stream",
          "text": [
            "0.7874367 ['Voice', '16:00:00']\n",
            "0.7810357 ['Voice', '17:30:00']\n",
            "0.77827936 ['Voice', '17:17:00']\n",
            "0.77149856 ['Voice', '08:45:00']\n",
            "0.76646775 ['Voice', '08:30:00']\n",
            "0.76378125 ['Voice', '17:15:00']\n",
            "0.7634017 ['Voice', '12:30:00']\n",
            "0.76182216 ['Voice', '15:00:00']\n",
            "0.75982475 ['Voice', '14:30:00']\n",
            "0.7582262 ['Voice', '17:20:00']\n",
            "0.7570762 ['Voice', '14:00:00']\n",
            "0.7560867 ['Voice', '18:00:00']\n",
            "0.75531137 ['Voice', '09:00:00']\n",
            "0.7551773 ['Voice', '18:40:00']\n",
            "0.75504756 ['Voice', '09:30:00']\n",
            "0.75481504 ['Voice', '08:31:00']\n",
            "0.7544949 ['Voice', '18:30:00']\n",
            "0.7540794 ['Voice', '16:30:00']\n",
            "0.7540203 ['Voice', '18:10:00']\n",
            "0.7534699 ['Voice', '17:40:00']\n",
            "0.7502682 ['Voice', '12:45:00']\n",
            "0.7489001 ['Voice', '17:45:00']\n",
            "0.7487121 ['Voice', '17:00:00']\n",
            "0.7454698 ['Voice', '10:00:00']\n",
            "0.7451533 ['Voice', '11:00:00']\n",
            "0.7439784 ['Voice', '15:30:00']\n",
            "0.7432715 ['Voice', '13:00:00']\n",
            "0.74226725 ['Voice', '13:30:00']\n",
            "0.74154615 ['Voice', '08:00:00']\n",
            "0.7412284 ['Voice', '07:00:00']\n",
            "0.7409609 ['SMS', '12:30:00']\n",
            "0.7393732 ['Voice', '10:30:00']\n",
            "0.73885775 ['Voice', '11:45:00']\n",
            "0.7379225 ['SMS', '08:30:00']\n",
            "0.7377205 ['Voice', '12:00:00']\n",
            "0.73674655 ['Voice', '11:30:00']\n",
            "0.7356252 ['SMS', '08:45:00']\n",
            "0.7337891 ['SMS', '17:15:00']\n",
            "0.7320818 ['Voice', '08:15:00']\n",
            "0.73178387 ['Voice', '00:00:00']\n",
            "0.7313 ['SMS', '15:00:00']\n",
            "0.7298943 ['SMS', '17:17:00']\n",
            "0.7293877 ['SMS', '17:30:00']\n",
            "0.7292323 ['SMS', '17:20:00']\n",
            "0.72720665 ['SMS', '09:30:00']\n",
            "0.7269968 ['SMS', '16:00:00']\n",
            "0.7264853 ['SMS', '16:30:00']\n",
            "0.7257405 ['Voice', '07:30:00']\n",
            "0.7254003 ['SMS', '09:00:00']\n",
            "0.7238669 ['SMS', '13:30:00']\n"
          ],
          "name": "stdout"
        }
      ]
    }
  ]
}