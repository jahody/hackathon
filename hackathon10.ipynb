{
 "cells": [
  {
   "cell_type": "markdown",
   "metadata": {},
   "source": [
    "# Contents"
   ]
  },
  {
   "cell_type": "markdown",
   "metadata": {
    "toc": true
   },
   "source": [
    "<h1><span class=\"tocSkip\"></span></h1>\n",
    "<div class=\"toc\"><ul class=\"toc-item\"><li><span><a href=\"#Contents\" data-toc-modified-id=\"Contents-1\"><span class=\"toc-item-num\">1&nbsp;&nbsp;</span>Contents</a></span></li><li><span><a href=\"#Libraries\" data-toc-modified-id=\"Libraries-2\"><span class=\"toc-item-num\">2&nbsp;&nbsp;</span>Libraries</a></span></li><li><span><a href=\"#Data\" data-toc-modified-id=\"Data-3\"><span class=\"toc-item-num\">3&nbsp;&nbsp;</span>Data</a></span><ul class=\"toc-item\"><li><span><a href=\"#Clinics-synced-with-demographics\" data-toc-modified-id=\"Clinics-synced-with-demographics-3.1\"><span class=\"toc-item-num\">3.1&nbsp;&nbsp;</span>Clinics synced with demographics</a></span></li><li><span><a href=\"#Patients-demographics\" data-toc-modified-id=\"Patients-demographics-3.2\"><span class=\"toc-item-num\">3.2&nbsp;&nbsp;</span>Patients demographics</a></span></li><li><span><a href=\"#Jobs\" data-toc-modified-id=\"Jobs-3.3\"><span class=\"toc-item-num\">3.3&nbsp;&nbsp;</span>Jobs</a></span></li></ul></li><li><span><a href=\"#Merge\" data-toc-modified-id=\"Merge-4\"><span class=\"toc-item-num\">4&nbsp;&nbsp;</span>Merge</a></span></li><li><span><a href=\"#Cleaning\" data-toc-modified-id=\"Cleaning-5\"><span class=\"toc-item-num\">5&nbsp;&nbsp;</span>Cleaning</a></span><ul class=\"toc-item\"><li><span><a href=\"#Apt-id\" data-toc-modified-id=\"Apt-id-5.1\"><span class=\"toc-item-num\">5.1&nbsp;&nbsp;</span>Apt id</a></span></li><li><span><a href=\"#Response\" data-toc-modified-id=\"Response-5.2\"><span class=\"toc-item-num\">5.2&nbsp;&nbsp;</span>Response</a></span></li><li><span><a href=\"#Gender\" data-toc-modified-id=\"Gender-5.3\"><span class=\"toc-item-num\">5.3&nbsp;&nbsp;</span>Gender</a></span></li><li><span><a href=\"#Type\" data-toc-modified-id=\"Type-5.4\"><span class=\"toc-item-num\">5.4&nbsp;&nbsp;</span>Type</a></span></li><li><span><a href=\"#Province\" data-toc-modified-id=\"Province-5.5\"><span class=\"toc-item-num\">5.5&nbsp;&nbsp;</span>Province</a></span></li><li><span><a href=\"#City\" data-toc-modified-id=\"City-5.6\"><span class=\"toc-item-num\">5.6&nbsp;&nbsp;</span>City</a></span></li><li><span><a href=\"#Apt-type\" data-toc-modified-id=\"Apt-type-5.7\"><span class=\"toc-item-num\">5.7&nbsp;&nbsp;</span>Apt type</a></span></li><li><span><a href=\"#Apt-date\" data-toc-modified-id=\"Apt-date-5.8\"><span class=\"toc-item-num\">5.8&nbsp;&nbsp;</span>Apt date</a></span></li><li><span><a href=\"#Sent-time\" data-toc-modified-id=\"Sent-time-5.9\"><span class=\"toc-item-num\">5.9&nbsp;&nbsp;</span>Sent time</a></span></li><li><span><a href=\"#Send_time\" data-toc-modified-id=\"Send_time-5.10\"><span class=\"toc-item-num\">5.10&nbsp;&nbsp;</span>Send_time</a></span></li><li><span><a href=\"#Net_hour\" data-toc-modified-id=\"Net_hour-5.11\"><span class=\"toc-item-num\">5.11&nbsp;&nbsp;</span>Net_hour</a></span></li></ul></li><li><span><a href=\"#Feature-engineering\" data-toc-modified-id=\"Feature-engineering-6\"><span class=\"toc-item-num\">6&nbsp;&nbsp;</span>Feature engineering</a></span><ul class=\"toc-item\"><li><span><a href=\"#Data\" data-toc-modified-id=\"Data-6.1\"><span class=\"toc-item-num\">6.1&nbsp;&nbsp;</span>Data</a></span></li><li><span><a href=\"#Age\" data-toc-modified-id=\"Age-6.2\"><span class=\"toc-item-num\">6.2&nbsp;&nbsp;</span>Age</a></span></li><li><span><a href=\"#Family-size\" data-toc-modified-id=\"Family-size-6.3\"><span class=\"toc-item-num\">6.3&nbsp;&nbsp;</span>Family size</a></span></li><li><span><a href=\"#Distance-to-clinic\" data-toc-modified-id=\"Distance-to-clinic-6.4\"><span class=\"toc-item-num\">6.4&nbsp;&nbsp;</span>Distance to clinic</a></span><ul class=\"toc-item\"><li><span><a href=\"#Zips-list\" data-toc-modified-id=\"Zips-list-6.4.1\"><span class=\"toc-item-num\">6.4.1&nbsp;&nbsp;</span>Zips list</a></span></li><li><span><a href=\"#Clinic-zip\" data-toc-modified-id=\"Clinic-zip-6.4.2\"><span class=\"toc-item-num\">6.4.2&nbsp;&nbsp;</span>Clinic zip</a></span></li><li><span><a href=\"#Patient-zip\" data-toc-modified-id=\"Patient-zip-6.4.3\"><span class=\"toc-item-num\">6.4.3&nbsp;&nbsp;</span>Patient zip</a></span></li><li><span><a href=\"#Coordinates\" data-toc-modified-id=\"Coordinates-6.4.4\"><span class=\"toc-item-num\">6.4.4&nbsp;&nbsp;</span>Coordinates</a></span></li><li><span><a href=\"#Clinic-coordinates\" data-toc-modified-id=\"Clinic-coordinates-6.4.5\"><span class=\"toc-item-num\">6.4.5&nbsp;&nbsp;</span>Clinic coordinates</a></span></li><li><span><a href=\"#Patient-coordinates\" data-toc-modified-id=\"Patient-coordinates-6.4.6\"><span class=\"toc-item-num\">6.4.6&nbsp;&nbsp;</span>Patient coordinates</a></span></li><li><span><a href=\"#Distance\" data-toc-modified-id=\"Distance-6.4.7\"><span class=\"toc-item-num\">6.4.7&nbsp;&nbsp;</span>Distance</a></span></li></ul></li><li><span><a href=\"#Area-type---urban/rural\" data-toc-modified-id=\"Area-type---urban/rural-6.5\"><span class=\"toc-item-num\">6.5&nbsp;&nbsp;</span>Area type - urban/rural</a></span><ul class=\"toc-item\"><li><span><a href=\"#Areas\" data-toc-modified-id=\"Areas-6.5.1\"><span class=\"toc-item-num\">6.5.1&nbsp;&nbsp;</span>Areas</a></span></li><li><span><a href=\"#Clinic-area\" data-toc-modified-id=\"Clinic-area-6.5.2\"><span class=\"toc-item-num\">6.5.2&nbsp;&nbsp;</span>Clinic area</a></span></li><li><span><a href=\"#Patient-area\" data-toc-modified-id=\"Patient-area-6.5.3\"><span class=\"toc-item-num\">6.5.3&nbsp;&nbsp;</span>Patient area</a></span></li></ul></li><li><span><a href=\"#Size-of-the-clinic\" data-toc-modified-id=\"Size-of-the-clinic-6.6\"><span class=\"toc-item-num\">6.6&nbsp;&nbsp;</span>Size of the clinic</a></span></li><li><span><a href=\"#Unique-pat_id\" data-toc-modified-id=\"Unique-pat_id-6.7\"><span class=\"toc-item-num\">6.7&nbsp;&nbsp;</span>Unique pat_id</a></span></li><li><span><a href=\"#Unique-family_id\" data-toc-modified-id=\"Unique-family_id-6.8\"><span class=\"toc-item-num\">6.8&nbsp;&nbsp;</span>Unique family_id</a></span></li></ul></li><li><span><a href=\"#Export---all-data\" data-toc-modified-id=\"Export---all-data-7\"><span class=\"toc-item-num\">7&nbsp;&nbsp;</span>Export - all data</a></span><ul class=\"toc-item\"><li><span><a href=\"#Column-names-and-order\" data-toc-modified-id=\"Column-names-and-order-7.1\"><span class=\"toc-item-num\">7.1&nbsp;&nbsp;</span>Column names and order</a></span></li><li><span><a href=\"#Shuffle\" data-toc-modified-id=\"Shuffle-7.2\"><span class=\"toc-item-num\">7.2&nbsp;&nbsp;</span>Shuffle</a></span></li><li><span><a href=\"#Export\" data-toc-modified-id=\"Export-7.3\"><span class=\"toc-item-num\">7.3&nbsp;&nbsp;</span>Export</a></span></li></ul></li><li><span><a href=\"#Train,-test\" data-toc-modified-id=\"Train,-test-8\"><span class=\"toc-item-num\">8&nbsp;&nbsp;</span>Train, test</a></span><ul class=\"toc-item\"><li><span><a href=\"#Load\" data-toc-modified-id=\"Load-8.1\"><span class=\"toc-item-num\">8.1&nbsp;&nbsp;</span>Load</a></span></li><li><span><a href=\"#Train,-test\" data-toc-modified-id=\"Train,-test-8.2\"><span class=\"toc-item-num\">8.2&nbsp;&nbsp;</span>Train, test</a></span></li><li><span><a href=\"#Test_x,-text_y\" data-toc-modified-id=\"Test_x,-text_y-8.3\"><span class=\"toc-item-num\">8.3&nbsp;&nbsp;</span>Test_x, text_y</a></span></li><li><span><a href=\"#Export---competition-files\" data-toc-modified-id=\"Export---competition-files-8.4\"><span class=\"toc-item-num\">8.4&nbsp;&nbsp;</span>Export - competition files</a></span></li><li><span><a href=\"#Sample-Submission\" data-toc-modified-id=\"Sample-Submission-8.5\"><span class=\"toc-item-num\">8.5&nbsp;&nbsp;</span>Sample Submission</a></span></li></ul></li></ul></div>"
   ]
  },
  {
   "cell_type": "markdown",
   "metadata": {},
   "source": [
    "# Libraries"
   ]
  },
  {
   "cell_type": "code",
   "execution_count": 2,
   "metadata": {
    "ExecuteTime": {
     "end_time": "2019-01-28T18:01:16.362606Z",
     "start_time": "2019-01-28T18:01:15.470705Z"
    }
   },
   "outputs": [],
   "source": [
    "import pandas as pd\n",
    "import numpy as np\n",
    "import matplotlib.pyplot as plt\n",
    "%matplotlib inline\n",
    "\n",
    "import datetime"
   ]
  },
  {
   "cell_type": "code",
   "execution_count": 3,
   "metadata": {
    "ExecuteTime": {
     "end_time": "2019-01-28T18:01:16.362606Z",
     "start_time": "2019-01-28T18:01:15.470705Z"
    }
   },
   "outputs": [],
   "source": [
    "import dask.dataframe as dd"
   ]
  },
  {
   "cell_type": "code",
   "execution_count": 4,
   "metadata": {},
   "outputs": [],
   "source": [
    "from sklearn.utils import shuffle"
   ]
  },
  {
   "cell_type": "code",
   "execution_count": 5,
   "metadata": {},
   "outputs": [],
   "source": [
    "pd.set_option('display.max_columns', 100)"
   ]
  },
  {
   "cell_type": "markdown",
   "metadata": {},
   "source": [
    "# Data"
   ]
  },
  {
   "cell_type": "markdown",
   "metadata": {},
   "source": [
    "## Clinics synced with demographics"
   ]
  },
  {
   "cell_type": "code",
   "execution_count": 6,
   "metadata": {
    "ExecuteTime": {
     "end_time": "2019-01-28T18:01:22.577158Z",
     "start_time": "2019-01-28T18:01:21.118789Z"
    }
   },
   "outputs": [],
   "source": [
    "clin = pd.read_csv(\"data/05/patdemo_clinics.csv\")"
   ]
  },
  {
   "cell_type": "code",
   "execution_count": 7,
   "metadata": {},
   "outputs": [
    {
     "data": {
      "text/plain": [
       "806"
      ]
     },
     "execution_count": 7,
     "metadata": {},
     "output_type": "execute_result"
    }
   ],
   "source": [
    "# number of synsed clinics\n",
    "len(clin)"
   ]
  },
  {
   "cell_type": "code",
   "execution_count": 8,
   "metadata": {},
   "outputs": [
    {
     "data": {
      "text/html": [
       "<div>\n",
       "<style scoped>\n",
       "    .dataframe tbody tr th:only-of-type {\n",
       "        vertical-align: middle;\n",
       "    }\n",
       "\n",
       "    .dataframe tbody tr th {\n",
       "        vertical-align: top;\n",
       "    }\n",
       "\n",
       "    .dataframe thead th {\n",
       "        text-align: right;\n",
       "    }\n",
       "</style>\n",
       "<table border=\"1\" class=\"dataframe\">\n",
       "  <thead>\n",
       "    <tr style=\"text-align: right;\">\n",
       "      <th></th>\n",
       "      <th>CLINIC</th>\n",
       "      <th>SUM_PAT</th>\n",
       "    </tr>\n",
       "  </thead>\n",
       "  <tbody>\n",
       "    <tr>\n",
       "      <th>0</th>\n",
       "      <td>4</td>\n",
       "      <td>7687</td>\n",
       "    </tr>\n",
       "    <tr>\n",
       "      <th>1</th>\n",
       "      <td>8</td>\n",
       "      <td>21199</td>\n",
       "    </tr>\n",
       "    <tr>\n",
       "      <th>2</th>\n",
       "      <td>10</td>\n",
       "      <td>6799</td>\n",
       "    </tr>\n",
       "    <tr>\n",
       "      <th>3</th>\n",
       "      <td>22</td>\n",
       "      <td>7326</td>\n",
       "    </tr>\n",
       "    <tr>\n",
       "      <th>4</th>\n",
       "      <td>23</td>\n",
       "      <td>9922</td>\n",
       "    </tr>\n",
       "  </tbody>\n",
       "</table>\n",
       "</div>"
      ],
      "text/plain": [
       "   CLINIC  SUM_PAT\n",
       "0       4     7687\n",
       "1       8    21199\n",
       "2      10     6799\n",
       "3      22     7326\n",
       "4      23     9922"
      ]
     },
     "execution_count": 8,
     "metadata": {},
     "output_type": "execute_result"
    }
   ],
   "source": [
    "# clinic id, number of patients in each clinic\n",
    "clin.head()"
   ]
  },
  {
   "cell_type": "code",
   "execution_count": 9,
   "metadata": {
    "scrolled": true
   },
   "outputs": [
    {
     "name": "stdout",
     "output_type": "stream",
     "text": [
      "[4, 8, 10, 22, 23, 81, 159, 10001, 10022, 10023, 10024, 10026, 10029, 10030, 10032, 10040, 10043, 20000, 20005, 20017, 20021, 20024, 20085, 20086, 20088, 20089, 20090, 20092, 20093, 20098, 20101, 20103, 20104, 20108, 20109, 20152, 20153, 20154, 20184, 20217, 20219, 20222, 20223, 20230, 20294, 20307, 20311, 20312, 20313, 20327, 20329, 20330, 20341, 20348, 20401, 20402, 20407, 20408, 20413, 20414, 20419, 20420, 20421, 20422, 20426, 20435, 20436, 20437, 20486, 20499, 20586, 20597, 20608, 20628, 20697, 20699, 20708, 20738, 20756, 20758, 20759, 120782, 120816, 120817, 120831, 120833, 120848, 120850, 120875, 120880, 120882, 120883, 120885, 120917, 120919, 120922, 120926, 120928, 120930, 120932, 120933, 120934, 120936, 120937, 120953, 120956, 120969, 120972, 120993, 120994, 120995, 120998, 121000, 121008, 121031, 121039, 121058, 121059, 121063, 121083, 121085, 121125, 121152, 121155, 121159, 121160, 121161, 121164, 121174, 121206, 121223, 121255, 121259, 121260, 121261, 121262, 121264, 121267, 121269, 121276, 121277, 121279, 121281, 121283, 121285, 121288, 121295, 121299, 121302, 121306, 121308, 121312, 121315, 121328, 121347, 121412, 121413, 121415, 121417, 121420, 121422, 121424, 121425, 121499, 121501, 121527, 121531, 121536, 121539, 121540, 121542, 121573, 121576, 121577, 121581, 121582, 121584, 121586, 121591, 121594, 121601, 121602, 121603, 121605, 121617, 121632, 121642, 121664, 121668, 121672, 121675, 121678, 121679, 121706, 121723, 121739, 121755, 121757, 121758, 121762, 121777, 121785, 121799, 121800, 121803, 121805, 121808, 121809, 121811, 121813, 121814, 121816, 121819, 121831, 121832, 121833, 121834, 121835, 121836, 121838, 121840, 121841, 121844, 121846, 121852, 121855, 121866, 121867, 121869, 121876, 121878, 121881, 121886, 121889, 121890, 121892, 121899, 121906, 121917, 121919, 121923, 121944, 121945, 121946, 121947, 121948, 121949, 121952, 121954, 121958, 121967, 121979, 121980, 122009, 122013, 122023, 122053, 122054, 122057, 122065, 122066, 122067, 122085, 122094, 122095, 122138, 122143, 122150, 122154, 122167, 122174, 122175, 122176, 122192, 122194, 122195, 122198, 122206, 122211, 122213, 122214, 122215, 122224, 122225, 122227, 122274, 122281, 122284, 122287, 122288, 122290, 122294, 122295, 122301, 122303, 122307, 122311, 122312, 122314, 122315, 122316, 122317, 122324, 122328, 122329, 122330, 122331, 122332, 122333, 122335, 122337, 122353, 122357, 122359, 122360, 122384, 122390, 122395, 122423, 122426, 122428, 122432, 122433, 122438, 122440, 122452, 122453, 122454, 122455, 122484, 122491, 122496, 122500, 122501, 122502, 122503, 122506, 122510, 122513, 122515, 122517, 122521, 122523, 122531, 122542, 122543, 122551, 122552, 122557, 122564, 122567, 122568, 122570, 122572, 122573, 122576, 122580, 122583, 122586, 122590, 122591, 122597, 122600, 122603, 122615, 122619, 122620, 122621, 122627, 122628, 122629, 122631, 122632, 122636, 122643, 122650, 122657, 122665, 122667, 122668, 122684, 122690, 122691, 122692, 122695, 122697, 122705, 122708, 122756, 122758, 122759, 122761, 122764, 122767, 122768, 122769, 122770, 122773, 122774, 122775, 122778, 122779, 122781, 122782, 122783, 122789, 122792, 122793, 122794, 122797, 122799, 122801, 122804, 122809, 122813, 122814, 122820, 122821, 122822, 122827, 122828, 122829, 122830, 122842, 122843, 122844, 122900, 122901, 122912, 122970, 122973, 122974, 122979, 122980, 122983, 122986, 122989, 122990, 122994, 122995, 122997, 123005, 123011, 123012, 123013, 123015, 123017, 123019, 123023, 123025, 123027, 123050, 123054, 123057, 123062, 123064, 123065, 123067, 123071, 123077, 123078, 123085, 123086, 123087, 123088, 123095, 123100, 123101, 123102, 123103, 123104, 123106, 123107, 123114, 123115, 123119, 123120, 123128, 123131, 123137, 123141, 123143, 123151, 123155, 123156, 123157, 123158, 123160, 123161, 123162, 123163, 123164, 123165, 123166, 123167, 123168, 123169, 123170, 123171, 123173, 123174, 123175, 123179, 123180, 123181, 123182, 123183, 123184, 123185, 123186, 123187, 123188, 123189, 123190, 123191, 123192, 123193, 123194, 123195, 123196, 123198, 123199, 123201, 123204, 123208, 123209, 123211, 123212, 123217, 123219, 123225, 123226, 123228, 123234, 123236, 123238, 123240, 123242, 123245, 123247, 123251, 123260, 123292, 123294, 123298, 123301, 123302, 123314, 123318, 123323, 123329, 123333, 123337, 123342, 123343, 123346, 123359, 123363, 123376, 123379, 123380, 123382, 123384, 123386, 133405, 133412, 133416, 133417, 133418, 133419, 133423, 133442, 133443, 133444, 133446, 133448, 133450, 133452, 133454, 133455, 133457, 133458, 133459, 133462, 133463, 133465, 133466, 133469, 133471, 133472, 133473, 133474, 133478, 133482, 133484, 133485, 133488, 133490, 133491, 133492, 143436, 143442, 143443, 143444, 143445, 143448, 143449, 143450, 143455, 143462, 143463, 143464, 143465, 143466, 143467, 143468, 143469, 143471, 143475, 143478, 143485, 143486, 143488, 143490, 143492, 143494, 143497, 143498, 143503, 143505, 143508, 143509, 143510, 143512, 143515, 143517, 143522, 143526, 143527, 143528, 143531, 143536, 143537, 143543, 143546, 143548, 143550, 143551, 143552, 143553, 143554, 143555, 143556, 143561, 143562, 143563, 143564, 143565, 143572, 143573, 143574, 143575, 143577, 143578, 143579, 143584, 143585, 143586, 143593, 143595, 143599, 143600, 143601, 143602, 143603, 143605, 143606, 143607, 143608, 143609, 143611, 143614, 143615, 143616, 143619, 143621, 143622, 143623, 143624, 143625, 143626, 143628, 143630, 143632, 143634, 143635, 143636, 143637, 143638, 143641, 143643, 143644, 143656, 143657, 143659, 143660, 143661, 143662, 143663, 143664, 143666, 143667, 143669, 143686, 143690, 143691, 143695, 143700, 143701, 143703, 143706, 143707, 143711, 143712, 143713, 143714, 143715, 143716, 143717, 143718, 143719, 143720, 143723, 143728, 143729, 143730, 143731, 143732, 143733, 143734, 143736, 143741, 143742, 143743, 143746, 143747, 143748, 143749, 143755, 143760, 143763, 143764, 143765, 143766, 143767, 143768, 143771, 143772, 143773, 143774, 143776, 143778, 143779, 143780, 143782, 143783, 143784, 143786, 143788, 143790, 143791, 143794, 143797, 143798, 143800, 143812, 143815, 143816, 143819, 143820, 143821, 143822, 143823, 143828, 143831, 143832, 143835, 143836, 143837, 143838, 143839, 143843, 143844, 143847, 143849, 143855, 143856, 143857, 143858, 143859, 143865, 143866, 143867, 143868, 143871, 143875]\n"
     ]
    }
   ],
   "source": [
    "print(list(clin.CLINIC))"
   ]
  },
  {
   "cell_type": "markdown",
   "metadata": {},
   "source": [
    "## Patients demographics"
   ]
  },
  {
   "cell_type": "code",
   "execution_count": 10,
   "metadata": {
    "ExecuteTime": {
     "end_time": "2019-01-28T18:01:22.577158Z",
     "start_time": "2019-01-28T18:01:21.118789Z"
    }
   },
   "outputs": [
    {
     "name": "stderr",
     "output_type": "stream",
     "text": [
      "C:\\Users\\adame\\Anaconda3\\lib\\site-packages\\numpy\\lib\\arraysetops.py:522: FutureWarning: elementwise comparison failed; returning scalar instead, but in the future will perform elementwise comparison\n",
      "  mask |= (ar1 == a)\n"
     ]
    }
   ],
   "source": [
    "pat = pd.read_csv(\"data/05/patdemo.csv\", index_col=0)"
   ]
  },
  {
   "cell_type": "code",
   "execution_count": 11,
   "metadata": {
    "ExecuteTime": {
     "end_time": "2019-01-28T18:01:26.009633Z",
     "start_time": "2019-01-28T18:01:26.001641Z"
    }
   },
   "outputs": [
    {
     "data": {
      "text/plain": [
       "9509641"
      ]
     },
     "execution_count": 11,
     "metadata": {},
     "output_type": "execute_result"
    }
   ],
   "source": [
    "len(pat)"
   ]
  },
  {
   "cell_type": "code",
   "execution_count": 12,
   "metadata": {
    "ExecuteTime": {
     "end_time": "2019-01-28T18:01:30.637533Z",
     "start_time": "2019-01-28T18:01:30.622544Z"
    }
   },
   "outputs": [
    {
     "data": {
      "text/html": [
       "<div>\n",
       "<style scoped>\n",
       "    .dataframe tbody tr th:only-of-type {\n",
       "        vertical-align: middle;\n",
       "    }\n",
       "\n",
       "    .dataframe tbody tr th {\n",
       "        vertical-align: top;\n",
       "    }\n",
       "\n",
       "    .dataframe thead th {\n",
       "        text-align: right;\n",
       "    }\n",
       "</style>\n",
       "<table border=\"1\" class=\"dataframe\">\n",
       "  <thead>\n",
       "    <tr style=\"text-align: right;\">\n",
       "      <th></th>\n",
       "      <th>CLINIC</th>\n",
       "      <th>pat_id</th>\n",
       "      <th>gender</th>\n",
       "      <th>zip_code</th>\n",
       "    </tr>\n",
       "  </thead>\n",
       "  <tbody>\n",
       "    <tr>\n",
       "      <th>0</th>\n",
       "      <td>122154</td>\n",
       "      <td>3</td>\n",
       "      <td>F</td>\n",
       "      <td>J6A6T7</td>\n",
       "    </tr>\n",
       "    <tr>\n",
       "      <th>1</th>\n",
       "      <td>122154</td>\n",
       "      <td>4</td>\n",
       "      <td>F</td>\n",
       "      <td>J7P0C1</td>\n",
       "    </tr>\n",
       "    <tr>\n",
       "      <th>2</th>\n",
       "      <td>122154</td>\n",
       "      <td>5</td>\n",
       "      <td>M</td>\n",
       "      <td>J7R1Q4</td>\n",
       "    </tr>\n",
       "    <tr>\n",
       "      <th>3</th>\n",
       "      <td>122154</td>\n",
       "      <td>6</td>\n",
       "      <td>M</td>\n",
       "      <td>J0N1P0</td>\n",
       "    </tr>\n",
       "    <tr>\n",
       "      <th>4</th>\n",
       "      <td>122154</td>\n",
       "      <td>8</td>\n",
       "      <td>M</td>\n",
       "      <td>J7P3L7</td>\n",
       "    </tr>\n",
       "  </tbody>\n",
       "</table>\n",
       "</div>"
      ],
      "text/plain": [
       "   CLINIC  pat_id gender zip_code\n",
       "0  122154       3      F   J6A6T7\n",
       "1  122154       4      F   J7P0C1\n",
       "2  122154       5      M   J7R1Q4\n",
       "3  122154       6      M   J0N1P0\n",
       "4  122154       8      M   J7P3L7"
      ]
     },
     "execution_count": 12,
     "metadata": {},
     "output_type": "execute_result"
    }
   ],
   "source": [
    "pat.head()"
   ]
  },
  {
   "cell_type": "markdown",
   "metadata": {},
   "source": [
    "## Jobs"
   ]
  },
  {
   "cell_type": "code",
   "execution_count": 41,
   "metadata": {
    "ExecuteTime": {
     "end_time": "2019-01-28T18:01:22.577158Z",
     "start_time": "2019-01-28T18:01:21.118789Z"
    }
   },
   "outputs": [],
   "source": [
    "job = pd.read_csv(\"data/05/jobs.csv\")"
   ]
  },
  {
   "cell_type": "code",
   "execution_count": 42,
   "metadata": {},
   "outputs": [
    {
     "data": {
      "text/plain": [
       "(693517, 15)"
      ]
     },
     "execution_count": 42,
     "metadata": {},
     "output_type": "execute_result"
    }
   ],
   "source": [
    "job.shape"
   ]
  },
  {
   "cell_type": "code",
   "execution_count": 43,
   "metadata": {},
   "outputs": [
    {
     "data": {
      "text/html": [
       "<div>\n",
       "<style scoped>\n",
       "    .dataframe tbody tr th:only-of-type {\n",
       "        vertical-align: middle;\n",
       "    }\n",
       "\n",
       "    .dataframe tbody tr th {\n",
       "        vertical-align: top;\n",
       "    }\n",
       "\n",
       "    .dataframe thead th {\n",
       "        text-align: right;\n",
       "    }\n",
       "</style>\n",
       "<table border=\"1\" class=\"dataframe\">\n",
       "  <thead>\n",
       "    <tr style=\"text-align: right;\">\n",
       "      <th></th>\n",
       "      <th>APT_ID</th>\n",
       "      <th>APT_TYPE</th>\n",
       "      <th>APT_DATE</th>\n",
       "      <th>SENT_TIME</th>\n",
       "      <th>RESPONSE</th>\n",
       "      <th>TYPE</th>\n",
       "      <th>net_hour</th>\n",
       "      <th>send_time</th>\n",
       "      <th>CLINIC</th>\n",
       "      <th>city</th>\n",
       "      <th>province</th>\n",
       "      <th>postal_code</th>\n",
       "      <th>pat_id</th>\n",
       "      <th>birth_in_date</th>\n",
       "      <th>family_id</th>\n",
       "    </tr>\n",
       "  </thead>\n",
       "  <tbody>\n",
       "    <tr>\n",
       "      <th>0</th>\n",
       "      <td>50863</td>\n",
       "      <td>NEW PATIENT</td>\n",
       "      <td>2019-02-05 14:00:00</td>\n",
       "      <td>2019-02-01 10:03:26</td>\n",
       "      <td>confirmed</td>\n",
       "      <td>SMS</td>\n",
       "      <td>-96</td>\n",
       "      <td>10:00:00</td>\n",
       "      <td>4</td>\n",
       "      <td>Coquitlam</td>\n",
       "      <td>BC</td>\n",
       "      <td>V3K 3R8</td>\n",
       "      <td>7066</td>\n",
       "      <td>1994-07-02</td>\n",
       "      <td>4706</td>\n",
       "    </tr>\n",
       "    <tr>\n",
       "      <th>1</th>\n",
       "      <td>50863</td>\n",
       "      <td>NEW PATIENT</td>\n",
       "      <td>2019-02-05 14:00:00</td>\n",
       "      <td>2019-02-01 10:03:26</td>\n",
       "      <td>NaN</td>\n",
       "      <td>Email</td>\n",
       "      <td>-96</td>\n",
       "      <td>10:00:00</td>\n",
       "      <td>4</td>\n",
       "      <td>Coquitlam</td>\n",
       "      <td>BC</td>\n",
       "      <td>V3K 3R8</td>\n",
       "      <td>7066</td>\n",
       "      <td>1994-07-02</td>\n",
       "      <td>4706</td>\n",
       "    </tr>\n",
       "    <tr>\n",
       "      <th>2</th>\n",
       "      <td>61926</td>\n",
       "      <td>C&amp;B</td>\n",
       "      <td>2019-01-21 14:30:00</td>\n",
       "      <td>2019-01-17 10:05:19</td>\n",
       "      <td>confirmed</td>\n",
       "      <td>SMS</td>\n",
       "      <td>-96</td>\n",
       "      <td>10:00:00</td>\n",
       "      <td>4</td>\n",
       "      <td>Coquitlam</td>\n",
       "      <td>BC</td>\n",
       "      <td>V3K 3R8</td>\n",
       "      <td>7681</td>\n",
       "      <td>1959-02-01</td>\n",
       "      <td>5106</td>\n",
       "    </tr>\n",
       "    <tr>\n",
       "      <th>3</th>\n",
       "      <td>62431</td>\n",
       "      <td>ENDO</td>\n",
       "      <td>2019-01-28 13:30:00</td>\n",
       "      <td>2019-01-24 10:03:38</td>\n",
       "      <td>NaN</td>\n",
       "      <td>SMS</td>\n",
       "      <td>-96</td>\n",
       "      <td>10:00:00</td>\n",
       "      <td>4</td>\n",
       "      <td>Coquitlam</td>\n",
       "      <td>BC</td>\n",
       "      <td>V3K 3R8</td>\n",
       "      <td>6599</td>\n",
       "      <td>1973-12-18</td>\n",
       "      <td>4396</td>\n",
       "    </tr>\n",
       "    <tr>\n",
       "      <th>4</th>\n",
       "      <td>62431</td>\n",
       "      <td>ENDO</td>\n",
       "      <td>2019-01-28 13:30:00</td>\n",
       "      <td>2019-01-24 10:03:38</td>\n",
       "      <td>read email</td>\n",
       "      <td>Email</td>\n",
       "      <td>-96</td>\n",
       "      <td>10:00:00</td>\n",
       "      <td>4</td>\n",
       "      <td>Coquitlam</td>\n",
       "      <td>BC</td>\n",
       "      <td>V3K 3R8</td>\n",
       "      <td>6599</td>\n",
       "      <td>1973-12-18</td>\n",
       "      <td>4396</td>\n",
       "    </tr>\n",
       "  </tbody>\n",
       "</table>\n",
       "</div>"
      ],
      "text/plain": [
       "   APT_ID     APT_TYPE             APT_DATE            SENT_TIME    RESPONSE  \\\n",
       "0   50863  NEW PATIENT  2019-02-05 14:00:00  2019-02-01 10:03:26   confirmed   \n",
       "1   50863  NEW PATIENT  2019-02-05 14:00:00  2019-02-01 10:03:26         NaN   \n",
       "2   61926          C&B  2019-01-21 14:30:00  2019-01-17 10:05:19   confirmed   \n",
       "3   62431         ENDO  2019-01-28 13:30:00  2019-01-24 10:03:38         NaN   \n",
       "4   62431         ENDO  2019-01-28 13:30:00  2019-01-24 10:03:38  read email   \n",
       "\n",
       "    TYPE  net_hour send_time  CLINIC       city province postal_code  pat_id  \\\n",
       "0    SMS       -96  10:00:00       4  Coquitlam       BC     V3K 3R8    7066   \n",
       "1  Email       -96  10:00:00       4  Coquitlam       BC     V3K 3R8    7066   \n",
       "2    SMS       -96  10:00:00       4  Coquitlam       BC     V3K 3R8    7681   \n",
       "3    SMS       -96  10:00:00       4  Coquitlam       BC     V3K 3R8    6599   \n",
       "4  Email       -96  10:00:00       4  Coquitlam       BC     V3K 3R8    6599   \n",
       "\n",
       "  birth_in_date  family_id  \n",
       "0    1994-07-02       4706  \n",
       "1    1994-07-02       4706  \n",
       "2    1959-02-01       5106  \n",
       "3    1973-12-18       4396  \n",
       "4    1973-12-18       4396  "
      ]
     },
     "execution_count": 43,
     "metadata": {},
     "output_type": "execute_result"
    }
   ],
   "source": [
    "job.head()"
   ]
  },
  {
   "cell_type": "code",
   "execution_count": 44,
   "metadata": {},
   "outputs": [],
   "source": [
    "ajob = pd.read_csv(\"data/05/ajobs.csv\")"
   ]
  },
  {
   "cell_type": "code",
   "execution_count": 45,
   "metadata": {},
   "outputs": [
    {
     "data": {
      "text/plain": [
       "(984023, 16)"
      ]
     },
     "execution_count": 45,
     "metadata": {},
     "output_type": "execute_result"
    }
   ],
   "source": [
    "ajob.shape"
   ]
  },
  {
   "cell_type": "code",
   "execution_count": 46,
   "metadata": {},
   "outputs": [
    {
     "data": {
      "text/html": [
       "<div>\n",
       "<style scoped>\n",
       "    .dataframe tbody tr th:only-of-type {\n",
       "        vertical-align: middle;\n",
       "    }\n",
       "\n",
       "    .dataframe tbody tr th {\n",
       "        vertical-align: top;\n",
       "    }\n",
       "\n",
       "    .dataframe thead th {\n",
       "        text-align: right;\n",
       "    }\n",
       "</style>\n",
       "<table border=\"1\" class=\"dataframe\">\n",
       "  <thead>\n",
       "    <tr style=\"text-align: right;\">\n",
       "      <th></th>\n",
       "      <th>id</th>\n",
       "      <th>APT_ID</th>\n",
       "      <th>APT_TYPE</th>\n",
       "      <th>APT_DATE</th>\n",
       "      <th>SENT_TIME</th>\n",
       "      <th>RESPONSE</th>\n",
       "      <th>TYPE</th>\n",
       "      <th>net_hour</th>\n",
       "      <th>send_time</th>\n",
       "      <th>CLINIC</th>\n",
       "      <th>city</th>\n",
       "      <th>province</th>\n",
       "      <th>postal_code</th>\n",
       "      <th>pat_id</th>\n",
       "      <th>birth_in_date</th>\n",
       "      <th>family_id</th>\n",
       "    </tr>\n",
       "  </thead>\n",
       "  <tbody>\n",
       "    <tr>\n",
       "      <th>0</th>\n",
       "      <td>2005714284</td>\n",
       "      <td>19836</td>\n",
       "      <td>Recall</td>\n",
       "      <td>2017-11-21 10:00:00</td>\n",
       "      <td>2017-11-17 11:30:40</td>\n",
       "      <td>confirmed</td>\n",
       "      <td>SMS</td>\n",
       "      <td>-48</td>\n",
       "      <td>15:30:00</td>\n",
       "      <td>20437</td>\n",
       "      <td>Vancouver</td>\n",
       "      <td>BC</td>\n",
       "      <td>V5Z 1J4</td>\n",
       "      <td>20</td>\n",
       "      <td>1985-09-19</td>\n",
       "      <td>1020</td>\n",
       "    </tr>\n",
       "    <tr>\n",
       "      <th>1</th>\n",
       "      <td>2007037288</td>\n",
       "      <td>19836</td>\n",
       "      <td>Recall</td>\n",
       "      <td>2017-11-21 10:00:00</td>\n",
       "      <td>2017-11-17 08:02:42</td>\n",
       "      <td>read email</td>\n",
       "      <td>Email</td>\n",
       "      <td>-48</td>\n",
       "      <td>15:00:00</td>\n",
       "      <td>20437</td>\n",
       "      <td>Vancouver</td>\n",
       "      <td>BC</td>\n",
       "      <td>V5Z 1J4</td>\n",
       "      <td>20</td>\n",
       "      <td>1985-09-19</td>\n",
       "      <td>1020</td>\n",
       "    </tr>\n",
       "    <tr>\n",
       "      <th>2</th>\n",
       "      <td>2009249374</td>\n",
       "      <td>278260</td>\n",
       "      <td>hygiene</td>\n",
       "      <td>2017-09-15 08:50:00</td>\n",
       "      <td>2017-09-09 08:01:15</td>\n",
       "      <td>NaN</td>\n",
       "      <td>Email</td>\n",
       "      <td>-144</td>\n",
       "      <td>8:00:00</td>\n",
       "      <td>20089</td>\n",
       "      <td>Lloydminster</td>\n",
       "      <td>AB</td>\n",
       "      <td>T9V 0A9</td>\n",
       "      <td>7735</td>\n",
       "      <td>1980-04-03</td>\n",
       "      <td>4373</td>\n",
       "    </tr>\n",
       "    <tr>\n",
       "      <th>3</th>\n",
       "      <td>2009249375</td>\n",
       "      <td>278260</td>\n",
       "      <td>hygiene</td>\n",
       "      <td>2017-09-15 08:50:00</td>\n",
       "      <td>2017-09-08 11:00:34</td>\n",
       "      <td>confirmed</td>\n",
       "      <td>SMS</td>\n",
       "      <td>-168</td>\n",
       "      <td>11:00:00</td>\n",
       "      <td>20089</td>\n",
       "      <td>Lloydminster</td>\n",
       "      <td>AB</td>\n",
       "      <td>T9V 0A9</td>\n",
       "      <td>7735</td>\n",
       "      <td>1980-04-03</td>\n",
       "      <td>4373</td>\n",
       "    </tr>\n",
       "    <tr>\n",
       "      <th>4</th>\n",
       "      <td>2012670768</td>\n",
       "      <td>291420</td>\n",
       "      <td>hygiene</td>\n",
       "      <td>2017-03-29 14:30:00</td>\n",
       "      <td>2017-03-22 11:00:43</td>\n",
       "      <td>confirmed</td>\n",
       "      <td>SMS</td>\n",
       "      <td>-168</td>\n",
       "      <td>11:00:00</td>\n",
       "      <td>20089</td>\n",
       "      <td>Lloydminster</td>\n",
       "      <td>AB</td>\n",
       "      <td>T9V 0A9</td>\n",
       "      <td>25798</td>\n",
       "      <td>1968-04-29</td>\n",
       "      <td>13954</td>\n",
       "    </tr>\n",
       "  </tbody>\n",
       "</table>\n",
       "</div>"
      ],
      "text/plain": [
       "           id   APT_ID  APT_TYPE             APT_DATE            SENT_TIME  \\\n",
       "0  2005714284    19836    Recall  2017-11-21 10:00:00  2017-11-17 11:30:40   \n",
       "1  2007037288    19836    Recall  2017-11-21 10:00:00  2017-11-17 08:02:42   \n",
       "2  2009249374   278260   hygiene  2017-09-15 08:50:00  2017-09-09 08:01:15   \n",
       "3  2009249375   278260   hygiene  2017-09-15 08:50:00  2017-09-08 11:00:34   \n",
       "4  2012670768   291420   hygiene  2017-03-29 14:30:00  2017-03-22 11:00:43   \n",
       "\n",
       "     RESPONSE   TYPE   net_hour  send_time   CLINIC          city  province  \\\n",
       "0   confirmed    SMS        -48   15:30:00    20437     Vancouver        BC   \n",
       "1  read email  Email        -48   15:00:00    20437     Vancouver        BC   \n",
       "2         NaN  Email       -144    8:00:00    20089  Lloydminster        AB   \n",
       "3   confirmed    SMS       -168   11:00:00    20089  Lloydminster        AB   \n",
       "4   confirmed    SMS       -168   11:00:00    20089  Lloydminster        AB   \n",
       "\n",
       "   postal_code   pat_id  birth_in_date   family_id  \n",
       "0      V5Z 1J4       20     1985-09-19        1020  \n",
       "1      V5Z 1J4       20     1985-09-19        1020  \n",
       "2      T9V 0A9     7735     1980-04-03        4373  \n",
       "3      T9V 0A9     7735     1980-04-03        4373  \n",
       "4      T9V 0A9    25798     1968-04-29       13954  "
      ]
     },
     "execution_count": 46,
     "metadata": {},
     "output_type": "execute_result"
    }
   ],
   "source": [
    "ajob.head()"
   ]
  },
  {
   "cell_type": "code",
   "execution_count": 47,
   "metadata": {},
   "outputs": [],
   "source": [
    "ajob.drop(\"id\", inplace=True, axis=1)"
   ]
  },
  {
   "cell_type": "code",
   "execution_count": 58,
   "metadata": {},
   "outputs": [
    {
     "data": {
      "text/plain": [
       "Index([' APT_ID', ' APT_TYPE', ' APT_DATE', ' SENT_TIME', ' RESPONSE', ' TYPE',\n",
       "       ' net_hour', ' send_time', ' CLINIC', ' city', ' province',\n",
       "       ' postal_code', ' pat_id', ' birth_in_date', ' family_id'],\n",
       "      dtype='object')"
      ]
     },
     "execution_count": 58,
     "metadata": {},
     "output_type": "execute_result"
    }
   ],
   "source": [
    "ajob.columns"
   ]
  },
  {
   "cell_type": "code",
   "execution_count": 60,
   "metadata": {},
   "outputs": [
    {
     "data": {
      "text/plain": [
       "Index(['APT_ID', 'APT_TYPE', 'APT_DATE', 'SENT_TIME', 'RESPONSE', 'TYPE',\n",
       "       'net_hour', 'send_time', 'CLINIC', 'city', 'province', 'postal_code',\n",
       "       'pat_id', 'birth_in_date', 'family_id'],\n",
       "      dtype='object')"
      ]
     },
     "execution_count": 60,
     "metadata": {},
     "output_type": "execute_result"
    }
   ],
   "source": [
    "job.columns"
   ]
  },
  {
   "cell_type": "code",
   "execution_count": 61,
   "metadata": {},
   "outputs": [],
   "source": [
    "ajob.columns = job.columns"
   ]
  },
  {
   "cell_type": "code",
   "execution_count": 62,
   "metadata": {},
   "outputs": [],
   "source": [
    "jobs = pd.concat([ajob, job])"
   ]
  },
  {
   "cell_type": "code",
   "execution_count": 63,
   "metadata": {},
   "outputs": [
    {
     "data": {
      "text/plain": [
       "(1677540, 15)"
      ]
     },
     "execution_count": 63,
     "metadata": {},
     "output_type": "execute_result"
    }
   ],
   "source": [
    "jobs.shape"
   ]
  },
  {
   "cell_type": "code",
   "execution_count": 64,
   "metadata": {},
   "outputs": [
    {
     "data": {
      "text/html": [
       "<div>\n",
       "<style scoped>\n",
       "    .dataframe tbody tr th:only-of-type {\n",
       "        vertical-align: middle;\n",
       "    }\n",
       "\n",
       "    .dataframe tbody tr th {\n",
       "        vertical-align: top;\n",
       "    }\n",
       "\n",
       "    .dataframe thead th {\n",
       "        text-align: right;\n",
       "    }\n",
       "</style>\n",
       "<table border=\"1\" class=\"dataframe\">\n",
       "  <thead>\n",
       "    <tr style=\"text-align: right;\">\n",
       "      <th></th>\n",
       "      <th>APT_ID</th>\n",
       "      <th>APT_TYPE</th>\n",
       "      <th>APT_DATE</th>\n",
       "      <th>SENT_TIME</th>\n",
       "      <th>RESPONSE</th>\n",
       "      <th>TYPE</th>\n",
       "      <th>net_hour</th>\n",
       "      <th>send_time</th>\n",
       "      <th>CLINIC</th>\n",
       "      <th>city</th>\n",
       "      <th>province</th>\n",
       "      <th>postal_code</th>\n",
       "      <th>pat_id</th>\n",
       "      <th>birth_in_date</th>\n",
       "      <th>family_id</th>\n",
       "    </tr>\n",
       "  </thead>\n",
       "  <tbody>\n",
       "    <tr>\n",
       "      <th>0</th>\n",
       "      <td>19836</td>\n",
       "      <td>Recall</td>\n",
       "      <td>2017-11-21 10:00:00</td>\n",
       "      <td>2017-11-17 11:30:40</td>\n",
       "      <td>confirmed</td>\n",
       "      <td>SMS</td>\n",
       "      <td>-48</td>\n",
       "      <td>15:30:00</td>\n",
       "      <td>20437</td>\n",
       "      <td>Vancouver</td>\n",
       "      <td>BC</td>\n",
       "      <td>V5Z 1J4</td>\n",
       "      <td>20</td>\n",
       "      <td>1985-09-19</td>\n",
       "      <td>1020</td>\n",
       "    </tr>\n",
       "    <tr>\n",
       "      <th>1</th>\n",
       "      <td>19836</td>\n",
       "      <td>Recall</td>\n",
       "      <td>2017-11-21 10:00:00</td>\n",
       "      <td>2017-11-17 08:02:42</td>\n",
       "      <td>read email</td>\n",
       "      <td>Email</td>\n",
       "      <td>-48</td>\n",
       "      <td>15:00:00</td>\n",
       "      <td>20437</td>\n",
       "      <td>Vancouver</td>\n",
       "      <td>BC</td>\n",
       "      <td>V5Z 1J4</td>\n",
       "      <td>20</td>\n",
       "      <td>1985-09-19</td>\n",
       "      <td>1020</td>\n",
       "    </tr>\n",
       "    <tr>\n",
       "      <th>2</th>\n",
       "      <td>278260</td>\n",
       "      <td>hygiene</td>\n",
       "      <td>2017-09-15 08:50:00</td>\n",
       "      <td>2017-09-09 08:01:15</td>\n",
       "      <td>NaN</td>\n",
       "      <td>Email</td>\n",
       "      <td>-144</td>\n",
       "      <td>8:00:00</td>\n",
       "      <td>20089</td>\n",
       "      <td>Lloydminster</td>\n",
       "      <td>AB</td>\n",
       "      <td>T9V 0A9</td>\n",
       "      <td>7735</td>\n",
       "      <td>1980-04-03</td>\n",
       "      <td>4373</td>\n",
       "    </tr>\n",
       "    <tr>\n",
       "      <th>3</th>\n",
       "      <td>278260</td>\n",
       "      <td>hygiene</td>\n",
       "      <td>2017-09-15 08:50:00</td>\n",
       "      <td>2017-09-08 11:00:34</td>\n",
       "      <td>confirmed</td>\n",
       "      <td>SMS</td>\n",
       "      <td>-168</td>\n",
       "      <td>11:00:00</td>\n",
       "      <td>20089</td>\n",
       "      <td>Lloydminster</td>\n",
       "      <td>AB</td>\n",
       "      <td>T9V 0A9</td>\n",
       "      <td>7735</td>\n",
       "      <td>1980-04-03</td>\n",
       "      <td>4373</td>\n",
       "    </tr>\n",
       "    <tr>\n",
       "      <th>4</th>\n",
       "      <td>291420</td>\n",
       "      <td>hygiene</td>\n",
       "      <td>2017-03-29 14:30:00</td>\n",
       "      <td>2017-03-22 11:00:43</td>\n",
       "      <td>confirmed</td>\n",
       "      <td>SMS</td>\n",
       "      <td>-168</td>\n",
       "      <td>11:00:00</td>\n",
       "      <td>20089</td>\n",
       "      <td>Lloydminster</td>\n",
       "      <td>AB</td>\n",
       "      <td>T9V 0A9</td>\n",
       "      <td>25798</td>\n",
       "      <td>1968-04-29</td>\n",
       "      <td>13954</td>\n",
       "    </tr>\n",
       "  </tbody>\n",
       "</table>\n",
       "</div>"
      ],
      "text/plain": [
       "   APT_ID APT_TYPE             APT_DATE            SENT_TIME    RESPONSE  \\\n",
       "0   19836   Recall  2017-11-21 10:00:00  2017-11-17 11:30:40   confirmed   \n",
       "1   19836   Recall  2017-11-21 10:00:00  2017-11-17 08:02:42  read email   \n",
       "2  278260  hygiene  2017-09-15 08:50:00  2017-09-09 08:01:15         NaN   \n",
       "3  278260  hygiene  2017-09-15 08:50:00  2017-09-08 11:00:34   confirmed   \n",
       "4  291420  hygiene  2017-03-29 14:30:00  2017-03-22 11:00:43   confirmed   \n",
       "\n",
       "    TYPE  net_hour send_time  CLINIC          city province postal_code  \\\n",
       "0    SMS       -48  15:30:00   20437     Vancouver       BC     V5Z 1J4   \n",
       "1  Email       -48  15:00:00   20437     Vancouver       BC     V5Z 1J4   \n",
       "2  Email      -144   8:00:00   20089  Lloydminster       AB     T9V 0A9   \n",
       "3    SMS      -168  11:00:00   20089  Lloydminster       AB     T9V 0A9   \n",
       "4    SMS      -168  11:00:00   20089  Lloydminster       AB     T9V 0A9   \n",
       "\n",
       "   pat_id birth_in_date  family_id  \n",
       "0      20    1985-09-19       1020  \n",
       "1      20    1985-09-19       1020  \n",
       "2    7735    1980-04-03       4373  \n",
       "3    7735    1980-04-03       4373  \n",
       "4   25798    1968-04-29      13954  "
      ]
     },
     "execution_count": 64,
     "metadata": {},
     "output_type": "execute_result"
    }
   ],
   "source": [
    "jobs.head()"
   ]
  },
  {
   "cell_type": "code",
   "execution_count": 65,
   "metadata": {},
   "outputs": [
    {
     "name": "stdout",
     "output_type": "stream",
     "text": [
      "Wall time: 4.38 s\n"
     ]
    }
   ],
   "source": [
    "%%time\n",
    "jobs.APT_DATE = pd.to_datetime(jobs.APT_DATE)\n",
    "jobs.SENT_TIME = pd.to_datetime(jobs.SENT_TIME)"
   ]
  },
  {
   "cell_type": "code",
   "execution_count": 66,
   "metadata": {},
   "outputs": [
    {
     "name": "stdout",
     "output_type": "stream",
     "text": [
      "<class 'pandas.core.frame.DataFrame'>\n",
      "Int64Index: 1677540 entries, 0 to 693516\n",
      "Data columns (total 15 columns):\n",
      "APT_ID           1677540 non-null int64\n",
      "APT_TYPE         1677476 non-null object\n",
      "APT_DATE         1677540 non-null datetime64[ns]\n",
      "SENT_TIME        1677540 non-null datetime64[ns]\n",
      "RESPONSE         1021830 non-null object\n",
      "TYPE             1677540 non-null object\n",
      "net_hour         1677540 non-null int64\n",
      "send_time        1677540 non-null object\n",
      "CLINIC           1677540 non-null int64\n",
      "city             1676522 non-null object\n",
      "province         1677540 non-null object\n",
      "postal_code      1676522 non-null object\n",
      "pat_id           1677540 non-null int64\n",
      "birth_in_date    1677540 non-null object\n",
      "family_id        1677540 non-null int64\n",
      "dtypes: datetime64[ns](2), int64(5), object(8)\n",
      "memory usage: 204.8+ MB\n"
     ]
    }
   ],
   "source": [
    "jobs.info()"
   ]
  },
  {
   "cell_type": "code",
   "execution_count": 67,
   "metadata": {},
   "outputs": [
    {
     "data": {
      "text/plain": [
       "False    1672250\n",
       "True        5290\n",
       "dtype: int64"
      ]
     },
     "execution_count": 67,
     "metadata": {},
     "output_type": "execute_result"
    }
   ],
   "source": [
    "jobs.duplicated().value_counts()"
   ]
  },
  {
   "cell_type": "code",
   "execution_count": 68,
   "metadata": {},
   "outputs": [],
   "source": [
    "jobs.drop_duplicates(inplace=True)"
   ]
  },
  {
   "cell_type": "code",
   "execution_count": 69,
   "metadata": {
    "ExecuteTime": {
     "end_time": "2019-01-28T18:01:54.372421Z",
     "start_time": "2019-01-28T18:01:54.366427Z"
    }
   },
   "outputs": [
    {
     "data": {
      "text/plain": [
       "1672250"
      ]
     },
     "execution_count": 69,
     "metadata": {},
     "output_type": "execute_result"
    }
   ],
   "source": [
    "len(jobs)"
   ]
  },
  {
   "cell_type": "markdown",
   "metadata": {},
   "source": [
    "# Merge"
   ]
  },
  {
   "cell_type": "code",
   "execution_count": 70,
   "metadata": {
    "ExecuteTime": {
     "end_time": "2019-01-28T18:02:05.040414Z",
     "start_time": "2019-01-28T18:02:04.639179Z"
    }
   },
   "outputs": [],
   "source": [
    "alles = pd.merge(jobs, pat, how=\"inner\")"
   ]
  },
  {
   "cell_type": "code",
   "execution_count": 71,
   "metadata": {
    "ExecuteTime": {
     "end_time": "2019-01-28T18:02:06.419146Z",
     "start_time": "2019-01-28T18:02:06.414151Z"
    }
   },
   "outputs": [
    {
     "data": {
      "text/plain": [
       "1112888"
      ]
     },
     "execution_count": 71,
     "metadata": {},
     "output_type": "execute_result"
    }
   ],
   "source": [
    "len(alles)"
   ]
  },
  {
   "cell_type": "code",
   "execution_count": 72,
   "metadata": {
    "ExecuteTime": {
     "end_time": "2019-01-28T18:02:07.813937Z",
     "start_time": "2019-01-28T18:02:07.710000Z"
    },
    "scrolled": true
   },
   "outputs": [
    {
     "data": {
      "text/html": [
       "<div>\n",
       "<style scoped>\n",
       "    .dataframe tbody tr th:only-of-type {\n",
       "        vertical-align: middle;\n",
       "    }\n",
       "\n",
       "    .dataframe tbody tr th {\n",
       "        vertical-align: top;\n",
       "    }\n",
       "\n",
       "    .dataframe thead th {\n",
       "        text-align: right;\n",
       "    }\n",
       "</style>\n",
       "<table border=\"1\" class=\"dataframe\">\n",
       "  <thead>\n",
       "    <tr style=\"text-align: right;\">\n",
       "      <th></th>\n",
       "      <th>APT_ID</th>\n",
       "      <th>APT_TYPE</th>\n",
       "      <th>APT_DATE</th>\n",
       "      <th>SENT_TIME</th>\n",
       "      <th>RESPONSE</th>\n",
       "      <th>TYPE</th>\n",
       "      <th>net_hour</th>\n",
       "      <th>send_time</th>\n",
       "      <th>CLINIC</th>\n",
       "      <th>city</th>\n",
       "      <th>province</th>\n",
       "      <th>postal_code</th>\n",
       "      <th>pat_id</th>\n",
       "      <th>birth_in_date</th>\n",
       "      <th>family_id</th>\n",
       "      <th>gender</th>\n",
       "      <th>zip_code</th>\n",
       "    </tr>\n",
       "  </thead>\n",
       "  <tbody>\n",
       "    <tr>\n",
       "      <th>0</th>\n",
       "      <td>19836</td>\n",
       "      <td>Recall</td>\n",
       "      <td>2017-11-21 10:00:00</td>\n",
       "      <td>2017-11-17 11:30:40</td>\n",
       "      <td>confirmed</td>\n",
       "      <td>SMS</td>\n",
       "      <td>-48</td>\n",
       "      <td>15:30:00</td>\n",
       "      <td>20437</td>\n",
       "      <td>Vancouver</td>\n",
       "      <td>BC</td>\n",
       "      <td>V5Z 1J4</td>\n",
       "      <td>20</td>\n",
       "      <td>1985-09-19</td>\n",
       "      <td>1020</td>\n",
       "      <td>M</td>\n",
       "      <td>V7K1Z8</td>\n",
       "    </tr>\n",
       "    <tr>\n",
       "      <th>1</th>\n",
       "      <td>19836</td>\n",
       "      <td>Recall</td>\n",
       "      <td>2017-11-21 10:00:00</td>\n",
       "      <td>2017-11-17 08:02:42</td>\n",
       "      <td>read email</td>\n",
       "      <td>Email</td>\n",
       "      <td>-48</td>\n",
       "      <td>15:00:00</td>\n",
       "      <td>20437</td>\n",
       "      <td>Vancouver</td>\n",
       "      <td>BC</td>\n",
       "      <td>V5Z 1J4</td>\n",
       "      <td>20</td>\n",
       "      <td>1985-09-19</td>\n",
       "      <td>1020</td>\n",
       "      <td>M</td>\n",
       "      <td>V7K1Z8</td>\n",
       "    </tr>\n",
       "    <tr>\n",
       "      <th>2</th>\n",
       "      <td>278260</td>\n",
       "      <td>hygiene</td>\n",
       "      <td>2017-09-15 08:50:00</td>\n",
       "      <td>2017-09-09 08:01:15</td>\n",
       "      <td>NaN</td>\n",
       "      <td>Email</td>\n",
       "      <td>-144</td>\n",
       "      <td>8:00:00</td>\n",
       "      <td>20089</td>\n",
       "      <td>Lloydminster</td>\n",
       "      <td>AB</td>\n",
       "      <td>T9V 0A9</td>\n",
       "      <td>7735</td>\n",
       "      <td>1980-04-03</td>\n",
       "      <td>4373</td>\n",
       "      <td>F</td>\n",
       "      <td>T9V3N2</td>\n",
       "    </tr>\n",
       "    <tr>\n",
       "      <th>3</th>\n",
       "      <td>278260</td>\n",
       "      <td>hygiene</td>\n",
       "      <td>2017-09-15 08:50:00</td>\n",
       "      <td>2017-09-08 11:00:34</td>\n",
       "      <td>confirmed</td>\n",
       "      <td>SMS</td>\n",
       "      <td>-168</td>\n",
       "      <td>11:00:00</td>\n",
       "      <td>20089</td>\n",
       "      <td>Lloydminster</td>\n",
       "      <td>AB</td>\n",
       "      <td>T9V 0A9</td>\n",
       "      <td>7735</td>\n",
       "      <td>1980-04-03</td>\n",
       "      <td>4373</td>\n",
       "      <td>F</td>\n",
       "      <td>T9V3N2</td>\n",
       "    </tr>\n",
       "    <tr>\n",
       "      <th>4</th>\n",
       "      <td>291420</td>\n",
       "      <td>hygiene</td>\n",
       "      <td>2017-03-29 14:30:00</td>\n",
       "      <td>2017-03-22 11:00:43</td>\n",
       "      <td>confirmed</td>\n",
       "      <td>SMS</td>\n",
       "      <td>-168</td>\n",
       "      <td>11:00:00</td>\n",
       "      <td>20089</td>\n",
       "      <td>Lloydminster</td>\n",
       "      <td>AB</td>\n",
       "      <td>T9V 0A9</td>\n",
       "      <td>25798</td>\n",
       "      <td>1968-04-29</td>\n",
       "      <td>13954</td>\n",
       "      <td>F</td>\n",
       "      <td>T9V3G9</td>\n",
       "    </tr>\n",
       "  </tbody>\n",
       "</table>\n",
       "</div>"
      ],
      "text/plain": [
       "   APT_ID APT_TYPE            APT_DATE           SENT_TIME    RESPONSE   TYPE  \\\n",
       "0   19836   Recall 2017-11-21 10:00:00 2017-11-17 11:30:40   confirmed    SMS   \n",
       "1   19836   Recall 2017-11-21 10:00:00 2017-11-17 08:02:42  read email  Email   \n",
       "2  278260  hygiene 2017-09-15 08:50:00 2017-09-09 08:01:15         NaN  Email   \n",
       "3  278260  hygiene 2017-09-15 08:50:00 2017-09-08 11:00:34   confirmed    SMS   \n",
       "4  291420  hygiene 2017-03-29 14:30:00 2017-03-22 11:00:43   confirmed    SMS   \n",
       "\n",
       "   net_hour send_time  CLINIC          city province postal_code  pat_id  \\\n",
       "0       -48  15:30:00   20437     Vancouver       BC     V5Z 1J4      20   \n",
       "1       -48  15:00:00   20437     Vancouver       BC     V5Z 1J4      20   \n",
       "2      -144   8:00:00   20089  Lloydminster       AB     T9V 0A9    7735   \n",
       "3      -168  11:00:00   20089  Lloydminster       AB     T9V 0A9    7735   \n",
       "4      -168  11:00:00   20089  Lloydminster       AB     T9V 0A9   25798   \n",
       "\n",
       "  birth_in_date  family_id gender zip_code  \n",
       "0    1985-09-19       1020      M   V7K1Z8  \n",
       "1    1985-09-19       1020      M   V7K1Z8  \n",
       "2    1980-04-03       4373      F   T9V3N2  \n",
       "3    1980-04-03       4373      F   T9V3N2  \n",
       "4    1968-04-29      13954      F   T9V3G9  "
      ]
     },
     "execution_count": 72,
     "metadata": {},
     "output_type": "execute_result"
    }
   ],
   "source": [
    "alles.head()"
   ]
  },
  {
   "cell_type": "markdown",
   "metadata": {},
   "source": [
    "# Cleaning"
   ]
  },
  {
   "cell_type": "markdown",
   "metadata": {},
   "source": [
    "## Apt id"
   ]
  },
  {
   "cell_type": "code",
   "execution_count": 73,
   "metadata": {},
   "outputs": [
    {
     "data": {
      "text/plain": [
       "478962"
      ]
     },
     "execution_count": 73,
     "metadata": {},
     "output_type": "execute_result"
    }
   ],
   "source": [
    "alles.APT_ID.nunique()"
   ]
  },
  {
   "cell_type": "code",
   "execution_count": 74,
   "metadata": {},
   "outputs": [],
   "source": [
    "alles = shuffle(alles)"
   ]
  },
  {
   "cell_type": "code",
   "execution_count": 25,
   "metadata": {},
   "outputs": [],
   "source": [
    "# alles.drop_duplicates(\"APT_ID\", inplace=True)"
   ]
  },
  {
   "cell_type": "code",
   "execution_count": 75,
   "metadata": {},
   "outputs": [],
   "source": [
    "alles.drop(\"APT_ID\", inplace=True, axis=1)"
   ]
  },
  {
   "cell_type": "code",
   "execution_count": 76,
   "metadata": {},
   "outputs": [
    {
     "data": {
      "text/plain": [
       "1112888"
      ]
     },
     "execution_count": 76,
     "metadata": {},
     "output_type": "execute_result"
    }
   ],
   "source": [
    "len(alles)"
   ]
  },
  {
   "cell_type": "markdown",
   "metadata": {},
   "source": [
    "## Response"
   ]
  },
  {
   "cell_type": "code",
   "execution_count": 77,
   "metadata": {
    "ExecuteTime": {
     "end_time": "2019-01-28T18:02:18.359816Z",
     "start_time": "2019-01-28T18:02:18.350825Z"
    }
   },
   "outputs": [],
   "source": [
    "alles.RESPONSE.fillna(\"0\", inplace=True)"
   ]
  },
  {
   "cell_type": "code",
   "execution_count": 78,
   "metadata": {},
   "outputs": [
    {
     "data": {
      "text/plain": [
       "confirmed                          590974\n",
       "0                                  390311\n",
       "read email                         114296\n",
       "Human Answered: No Input            13549\n",
       "Invalid Response                     3682\n",
       "Human Answered: Patient Hung Up        76\n",
       "Name: RESPONSE, dtype: int64"
      ]
     },
     "execution_count": 78,
     "metadata": {},
     "output_type": "execute_result"
    }
   ],
   "source": [
    "alles.RESPONSE.value_counts()"
   ]
  },
  {
   "cell_type": "code",
   "execution_count": 79,
   "metadata": {},
   "outputs": [
    {
     "name": "stderr",
     "output_type": "stream",
     "text": [
      "C:\\Users\\adame\\Anaconda3\\lib\\site-packages\\pandas\\core\\indexing.py:189: SettingWithCopyWarning: \n",
      "A value is trying to be set on a copy of a slice from a DataFrame\n",
      "\n",
      "See the caveats in the documentation: http://pandas.pydata.org/pandas-docs/stable/indexing.html#indexing-view-versus-copy\n",
      "  self._setitem_with_indexer(indexer, value)\n"
     ]
    }
   ],
   "source": [
    "alles[\"RESPONSE\"].loc[alles[\"RESPONSE\"] != \"confirmed\"] = 0"
   ]
  },
  {
   "cell_type": "code",
   "execution_count": 80,
   "metadata": {},
   "outputs": [
    {
     "name": "stderr",
     "output_type": "stream",
     "text": [
      "C:\\Users\\adame\\Anaconda3\\lib\\site-packages\\pandas\\core\\indexing.py:189: SettingWithCopyWarning: \n",
      "A value is trying to be set on a copy of a slice from a DataFrame\n",
      "\n",
      "See the caveats in the documentation: http://pandas.pydata.org/pandas-docs/stable/indexing.html#indexing-view-versus-copy\n",
      "  self._setitem_with_indexer(indexer, value)\n"
     ]
    }
   ],
   "source": [
    "alles[\"RESPONSE\"].loc[alles[\"RESPONSE\"] == \"confirmed\"] = 1"
   ]
  },
  {
   "cell_type": "code",
   "execution_count": 81,
   "metadata": {
    "ExecuteTime": {
     "end_time": "2019-01-28T18:02:57.661737Z",
     "start_time": "2019-01-28T18:02:57.533816Z"
    }
   },
   "outputs": [
    {
     "data": {
      "image/png": "[encoded data removed]",
      "text/plain": [
       "<Figure size 432x288 with 1 Axes>"
      ]
     },
     "metadata": {},
     "output_type": "display_data"
    }
   ],
   "source": [
    "plt.rcParams.update({'font.size': 10})\n",
    "alles.RESPONSE.value_counts().plot.pie(autopct='%1.0f%%');"
   ]
  },
  {
   "cell_type": "markdown",
   "metadata": {},
   "source": [
    "## Gender"
   ]
  },
  {
   "cell_type": "code",
   "execution_count": 82,
   "metadata": {
    "ExecuteTime": {
     "end_time": "2019-01-28T17:55:49.872749Z",
     "start_time": "2019-01-28T17:55:49.729837Z"
    }
   },
   "outputs": [
    {
     "data": {
      "image/png": "[encoded data removed]",
      "text/plain": [
       "<Figure size 432x288 with 1 Axes>"
      ]
     },
     "metadata": {},
     "output_type": "display_data"
    }
   ],
   "source": [
    "alles.gender.value_counts().plot.pie(autopct='%1.2f%%');"
   ]
  },
  {
   "cell_type": "code",
   "execution_count": 83,
   "metadata": {},
   "outputs": [
    {
     "data": {
      "text/plain": [
       "1858"
      ]
     },
     "execution_count": 83,
     "metadata": {},
     "output_type": "execute_result"
    }
   ],
   "source": [
    "len(alles[alles[\"gender\"] == \"N\"])"
   ]
  },
  {
   "cell_type": "code",
   "execution_count": 84,
   "metadata": {},
   "outputs": [],
   "source": [
    "alles = alles[alles[\"gender\"] != \"N\"]"
   ]
  },
  {
   "cell_type": "code",
   "execution_count": 85,
   "metadata": {
    "ExecuteTime": {
     "end_time": "2019-01-28T17:55:50.024656Z",
     "start_time": "2019-01-28T17:55:49.876748Z"
    }
   },
   "outputs": [
    {
     "data": {
      "image/png": "[encoded data removed]",
      "text/plain": [
       "<Figure size 576x432 with 2 Axes>"
      ]
     },
     "metadata": {},
     "output_type": "display_data"
    }
   ],
   "source": [
    "plt.figure(figsize=(8,6))\n",
    "\n",
    "plt.subplot(1,2,1)\n",
    "alles[alles.gender == \"M\"].RESPONSE.value_counts().plot.pie(autopct='%1.0f%%')\n",
    "plt.ylabel('Men')\n",
    "\n",
    "plt.subplot(1,2,2)\n",
    "alles[alles.gender == \"F\"].RESPONSE.value_counts().plot.pie(autopct='%1.0f%%')\n",
    "plt.ylabel('Women')\n",
    "\n",
    "plt.show()"
   ]
  },
  {
   "cell_type": "markdown",
   "metadata": {},
   "source": [
    "## Type"
   ]
  },
  {
   "cell_type": "code",
   "execution_count": 86,
   "metadata": {
    "ExecuteTime": {
     "end_time": "2019-01-28T17:55:49.725840Z",
     "start_time": "2019-01-28T17:55:49.585925Z"
    }
   },
   "outputs": [
    {
     "data": {
      "image/png": "[encoded data removed]",
      "text/plain": [
       "<Figure size 432x288 with 1 Axes>"
      ]
     },
     "metadata": {},
     "output_type": "display_data"
    }
   ],
   "source": [
    "alles.TYPE.value_counts().plot.pie(autopct='%1.0f%%');"
   ]
  },
  {
   "cell_type": "code",
   "execution_count": 87,
   "metadata": {},
   "outputs": [
    {
     "data": {
      "image/png": "[encoded data removed]",
      "text/plain": [
       "<Figure size 864x432 with 3 Axes>"
      ]
     },
     "metadata": {},
     "output_type": "display_data"
    }
   ],
   "source": [
    "plt.figure(figsize=(12,6))\n",
    "\n",
    "plt.subplot(1,3,1)\n",
    "alles[alles.TYPE == \"Email\"].RESPONSE.value_counts().sort_index().plot.pie(autopct='%1.0f%%')\n",
    "plt.ylabel('Email')\n",
    "\n",
    "plt.subplot(1,3,2)\n",
    "alles[alles.TYPE == \"SMS\"].RESPONSE.value_counts().sort_index().plot.pie(autopct='%1.0f%%')\n",
    "plt.ylabel('SMS')\n",
    "\n",
    "plt.subplot(1,3,3)\n",
    "alles[alles.TYPE == \"Voice\"].RESPONSE.value_counts().sort_index().plot.pie(autopct='%1.0f%%')\n",
    "plt.ylabel('Voice')\n",
    "\n",
    "plt.show()"
   ]
  },
  {
   "cell_type": "markdown",
   "metadata": {},
   "source": [
    "## Province"
   ]
  },
  {
   "cell_type": "code",
   "execution_count": 88,
   "metadata": {},
   "outputs": [],
   "source": [
    "alles.province = alles.province.map(lambda x: x.upper()[:2])"
   ]
  },
  {
   "cell_type": "code",
   "execution_count": 89,
   "metadata": {
    "ExecuteTime": {
     "end_time": "2019-01-28T17:59:06.334444Z",
     "start_time": "2019-01-28T17:59:06.306461Z"
    }
   },
   "outputs": [
    {
     "data": {
      "image/png": "[encoded data removed]",
      "text/plain": [
       "<Figure size 864x432 with 1 Axes>"
      ]
     },
     "metadata": {},
     "output_type": "display_data"
    }
   ],
   "source": [
    "plt.figure(figsize=(12,6))\n",
    "alles.province.value_counts().plot.pie()\n",
    "plt.legend();"
   ]
  },
  {
   "cell_type": "markdown",
   "metadata": {},
   "source": [
    "## City"
   ]
  },
  {
   "cell_type": "code",
   "execution_count": 90,
   "metadata": {
    "ExecuteTime": {
     "end_time": "2019-01-28T17:55:50.950087Z",
     "start_time": "2019-01-28T17:55:50.500364Z"
    }
   },
   "outputs": [
    {
     "name": "stdout",
     "output_type": "stream",
     "text": [
      "Vancouver    58967\n",
      "Victoria     47479\n",
      "Toronto      42469\n",
      "Calgary      40376\n",
      "Burnaby      37241\n",
      "Name: city, dtype: int64\n",
      "Nepean                68\n",
      "Ormstown              58\n",
      "Saint-Constant        50\n",
      "Brockville            35\n",
      "Salt Spring Island    27\n",
      "Name: city, dtype: int64\n"
     ]
    }
   ],
   "source": [
    "print(alles.city.value_counts().head())\n",
    "print(alles.city.value_counts().tail())"
   ]
  },
  {
   "cell_type": "markdown",
   "metadata": {},
   "source": [
    "## Apt type"
   ]
  },
  {
   "cell_type": "code",
   "execution_count": 91,
   "metadata": {},
   "outputs": [],
   "source": [
    "alles.APT_TYPE = alles.APT_TYPE.astype(str).map(lambda x: x.lower())"
   ]
  },
  {
   "cell_type": "code",
   "execution_count": 92,
   "metadata": {
    "ExecuteTime": {
     "end_time": "2019-01-28T17:55:51.210928Z",
     "start_time": "2019-01-28T17:55:51.180945Z"
    }
   },
   "outputs": [
    {
     "data": {
      "text/plain": [
       "count     1111030\n",
       "unique       3391\n",
       "top       general\n",
       "freq       259176\n",
       "Name: APT_TYPE, dtype: object"
      ]
     },
     "execution_count": 92,
     "metadata": {},
     "output_type": "execute_result"
    }
   ],
   "source": [
    "alles.APT_TYPE.describe()"
   ]
  },
  {
   "cell_type": "code",
   "execution_count": 94,
   "metadata": {
    "scrolled": true
   },
   "outputs": [
    {
     "data": {
      "text/plain": [
       "array(['general', 'blank', 'scaling 4unit only-scprogram.', ...,\n",
       "       'v-various', 'np is', 'dr. omer mallhi'], dtype=object)"
      ]
     },
     "execution_count": 94,
     "metadata": {},
     "output_type": "execute_result"
    }
   ],
   "source": [
    "(alles.APT_TYPE.unique())"
   ]
  },
  {
   "cell_type": "code",
   "execution_count": 95,
   "metadata": {},
   "outputs": [
    {
     "data": {
      "text/plain": [
       "array(['np cleaning', 'rc,clean', 'rc clean', 'cleaning only', 'clean',\n",
       "       'cleaning', 'np clean', 'np coe & cleaning',\n",
       "       'recall exam and cleaning', 'initial cleaning previous pt.',\n",
       "       'hygiene - cleaning only', 'initial clean',\n",
       "       'new pt exam & cleaning', 'coe & cleaning',\n",
       "       'new pt exam and cleaning - child', 'new patient clean',\n",
       "       'first cleaning', 'new patient cleaning & dr. intro',\n",
       "       'np exam/initial clean', 'npe and clean', '(2 nd )deep cleaning',\n",
       "       'np-cleaning,exam,xrays', 'new patient cleaning',\n",
       "       'np exam/cleaning', 'np / clean', 'clean only', 'clean*',\n",
       "       '1st cleaning', 'hyg cleaning only', 'finish clean',\n",
       "       'np exam/initial cleaning', 'hygiene, new patient cleaning',\n",
       "       'hygiene - 1st cleaning', 'regular cleaning'], dtype=object)"
      ]
     },
     "execution_count": 95,
     "metadata": {},
     "output_type": "execute_result"
    }
   ],
   "source": [
    "alles[alles.APT_TYPE.str.contains(\"clean\")].APT_TYPE.unique()"
   ]
  },
  {
   "cell_type": "code",
   "execution_count": 96,
   "metadata": {},
   "outputs": [],
   "source": [
    "alles.loc[alles.APT_TYPE.str.contains(\"only\"), \"APT_TYPE\"] = alles.APT_TYPE.str.replace(\"only\", \"\")\n",
    "alles.APT_TYPE = alles.APT_TYPE.str.rstrip()\n",
    "alles.APT_TYPE = alles.APT_TYPE.str.lstrip()"
   ]
  },
  {
   "cell_type": "code",
   "execution_count": 97,
   "metadata": {},
   "outputs": [],
   "source": [
    "alles.loc[alles.APT_TYPE.str.startswith(\"em_\"), \"APT_TYPE\"] = alles.loc[alles.APT_TYPE.str.startswith(\"em_\"), \"APT_TYPE\"].str[3:]"
   ]
  },
  {
   "cell_type": "code",
   "execution_count": 98,
   "metadata": {},
   "outputs": [],
   "source": [
    "alles.loc[alles.APT_TYPE.str.contains(\"hygiene\"), \"APT_TYPE\"] = \"hygiene\""
   ]
  },
  {
   "cell_type": "code",
   "execution_count": 99,
   "metadata": {},
   "outputs": [],
   "source": [
    "alles.loc[alles.APT_TYPE.str.contains(\"ortho\"), \"APT_TYPE\"] = \"ortho\""
   ]
  },
  {
   "cell_type": "code",
   "execution_count": 100,
   "metadata": {},
   "outputs": [],
   "source": [
    "alles.loc[alles.APT_TYPE.str.contains(\"fill\"), \"APT_TYPE\"] = \"filling\""
   ]
  },
  {
   "cell_type": "code",
   "execution_count": 101,
   "metadata": {},
   "outputs": [],
   "source": [
    "alles.loc[alles.APT_TYPE.str.contains(\"emer\"), \"APT_TYPE\"] = \"emergency\""
   ]
  },
  {
   "cell_type": "code",
   "execution_count": 102,
   "metadata": {},
   "outputs": [],
   "source": [
    "alles.loc[alles.APT_TYPE.str.contains(\"clean\"), \"APT_TYPE\"] = \"cleaning\""
   ]
  },
  {
   "cell_type": "code",
   "execution_count": 103,
   "metadata": {},
   "outputs": [],
   "source": [
    "alles.loc[alles.APT_TYPE.str.contains(\"new patient\"), \"APT_TYPE\"] = \"new patient\""
   ]
  },
  {
   "cell_type": "code",
   "execution_count": 104,
   "metadata": {},
   "outputs": [],
   "source": [
    "alles.loc[alles.APT_TYPE.str.contains(\"crown\"), \"APT_TYPE\"] = \"crown\""
   ]
  },
  {
   "cell_type": "code",
   "execution_count": 105,
   "metadata": {},
   "outputs": [
    {
     "data": {
      "text/plain": [
       "2957"
      ]
     },
     "execution_count": 105,
     "metadata": {},
     "output_type": "execute_result"
    }
   ],
   "source": [
    "alles.APT_TYPE.nunique()"
   ]
  },
  {
   "cell_type": "markdown",
   "metadata": {},
   "source": [
    "## Apt date"
   ]
  },
  {
   "cell_type": "code",
   "execution_count": 106,
   "metadata": {
    "ExecuteTime": {
     "end_time": "2019-01-28T17:55:51.109990Z",
     "start_time": "2019-01-28T17:55:50.995060Z"
    }
   },
   "outputs": [],
   "source": [
    "alles.APT_DATE = pd.to_datetime(alles.APT_DATE)"
   ]
  },
  {
   "cell_type": "code",
   "execution_count": 107,
   "metadata": {
    "ExecuteTime": {
     "end_time": "2019-01-28T17:55:51.144968Z",
     "start_time": "2019-01-28T17:55:51.116985Z"
    }
   },
   "outputs": [
    {
     "data": {
      "text/plain": [
       "count                 1111030\n",
       "unique                  37407\n",
       "top       2019-01-15 14:00:00\n",
       "freq                      964\n",
       "first     2017-03-21 15:30:00\n",
       "last      2024-05-27 18:00:00\n",
       "Name: APT_DATE, dtype: object"
      ]
     },
     "execution_count": 107,
     "metadata": {},
     "output_type": "execute_result"
    }
   ],
   "source": [
    "alles.APT_DATE.describe()"
   ]
  },
  {
   "cell_type": "markdown",
   "metadata": {},
   "source": [
    "## Sent time"
   ]
  },
  {
   "cell_type": "code",
   "execution_count": 108,
   "metadata": {},
   "outputs": [],
   "source": [
    "alles.SENT_TIME = pd.to_datetime(alles.SENT_TIME)"
   ]
  },
  {
   "cell_type": "code",
   "execution_count": 109,
   "metadata": {},
   "outputs": [
    {
     "data": {
      "text/plain": [
       "count                 1111030\n",
       "unique                 198320\n",
       "top       2019-02-07 14:08:53\n",
       "freq                     1020\n",
       "first     2017-02-18 08:30:51\n",
       "last      2019-02-13 16:39:06\n",
       "Name: SENT_TIME, dtype: object"
      ]
     },
     "execution_count": 109,
     "metadata": {},
     "output_type": "execute_result"
    }
   ],
   "source": [
    "alles.SENT_TIME.describe()"
   ]
  },
  {
   "cell_type": "code",
   "execution_count": null,
   "metadata": {},
   "outputs": [],
   "source": [
    "(alles.send_time.str[:2].astype(int) == alles.SENT_TIME.dt.hour.astype(int)).value_counts().plot.pie(autopct='%1.0f%%');"
   ]
  },
  {
   "cell_type": "markdown",
   "metadata": {},
   "source": [
    "## Send_time"
   ]
  },
  {
   "cell_type": "code",
   "execution_count": 112,
   "metadata": {},
   "outputs": [
    {
     "data": {
      "text/plain": [
       "array(['08:00:00', '8:00:00', '11:00:00', '12:00:00', '15:00:00',\n",
       "       '10:00:00', '10:30:00', '11:30:00', '9:00:00', '9:30:00',\n",
       "       '13:00:00', '18:00:00', '09:00:00', '17:00:00', '00:00:00',\n",
       "       '0:00:00', '14:00:00', '07:00:00', '09:30:00', '8:15:00',\n",
       "       '8:30:00', '17:30:00', '15:30:00', '16:00:00', '17:20:00',\n",
       "       '18:10:00', '19:00:00', '7:00:00', '08:30:00', '13:30:00',\n",
       "       '18:30:00', '11:20:00', '16:30:00', '07:30:00', '12:45:00',\n",
       "       '12:30:00', '10:01:00', '08:15:00', '18:40:00', '17:40:00',\n",
       "       '17:15:00', '17:17:00', '11:45:00', '17:50:00', '17:45:00',\n",
       "       '17:19:00', '14:30:00', '08:31:00', '06:00:00', '08:45:00'],\n",
       "      dtype=object)"
      ]
     },
     "execution_count": 112,
     "metadata": {},
     "output_type": "execute_result"
    }
   ],
   "source": [
    "alles.send_time.unique()"
   ]
  },
  {
   "cell_type": "code",
   "execution_count": 118,
   "metadata": {},
   "outputs": [
    {
     "name": "stderr",
     "output_type": "stream",
     "text": [
      "C:\\Users\\adame\\Anaconda3\\lib\\site-packages\\pandas\\core\\indexing.py:189: SettingWithCopyWarning: \n",
      "A value is trying to be set on a copy of a slice from a DataFrame\n",
      "\n",
      "See the caveats in the documentation: http://pandas.pydata.org/pandas-docs/stable/indexing.html#indexing-view-versus-copy\n",
      "  self._setitem_with_indexer(indexer, value)\n"
     ]
    }
   ],
   "source": [
    "alles[\"send_time\"].loc[alles[\"send_time\"] == \"0:00:00\"] = '00:00:00'\n",
    "alles[\"send_time\"].loc[alles[\"send_time\"] == \"7:00:00\"] = '07:00:00'\n",
    "alles[\"send_time\"].loc[alles[\"send_time\"] == \"8:00:00\"] = '08:00:00'\n",
    "alles[\"send_time\"].loc[alles[\"send_time\"] == \"8:15:00\"] = '08:15:00'\n",
    "alles[\"send_time\"].loc[alles[\"send_time\"] == \"8:30:00\"] = '08:30:00'\n",
    "alles[\"send_time\"].loc[alles[\"send_time\"] == \"9:00:00\"] = '09:00:00'\n",
    "alles[\"send_time\"].loc[alles[\"send_time\"] == \"9:30:00\"] = '09:30:00'"
   ]
  },
  {
   "cell_type": "code",
   "execution_count": 119,
   "metadata": {},
   "outputs": [
    {
     "data": {
      "image/png": "[encoded data removed]",
      "text/plain": [
       "<Figure size 864x432 with 1 Axes>"
      ]
     },
     "metadata": {
      "needs_background": "light"
     },
     "output_type": "display_data"
    }
   ],
   "source": [
    "plt.figure(figsize=(12,6))\n",
    "plt.title(\"Value counts\")\n",
    "alles.groupby(\"send_time\").RESPONSE.count().plot.bar();"
   ]
  },
  {
   "cell_type": "markdown",
   "metadata": {},
   "source": [
    "## Net_hour"
   ]
  },
  {
   "cell_type": "code",
   "execution_count": 120,
   "metadata": {},
   "outputs": [
    {
     "data": {
      "image/png": "[encoded data removed]",
      "text/plain": [
       "<Figure size 864x432 with 1 Axes>"
      ]
     },
     "metadata": {
      "needs_background": "light"
     },
     "output_type": "display_data"
    }
   ],
   "source": [
    "plt.figure(figsize=(12,6))\n",
    "plt.title(\"Value counts\")\n",
    "alles.groupby(\"net_hour\").RESPONSE.count().plot.bar();"
   ]
  },
  {
   "cell_type": "code",
   "execution_count": 121,
   "metadata": {},
   "outputs": [
    {
     "data": {
      "image/png": "[encoded data removed]",
      "text/plain": [
       "<Figure size 864x432 with 1 Axes>"
      ]
     },
     "metadata": {
      "needs_background": "light"
     },
     "output_type": "display_data"
    }
   ],
   "source": [
    "plt.figure(figsize=(12,6))\n",
    "plt.title(\"Response % by net_hour\")\n",
    "(alles.groupby(\"net_hour\").RESPONSE.mean()).plot.bar();"
   ]
  },
  {
   "cell_type": "markdown",
   "metadata": {},
   "source": [
    "# Feature engineering"
   ]
  },
  {
   "cell_type": "markdown",
   "metadata": {},
   "source": [
    "## Data"
   ]
  },
  {
   "cell_type": "code",
   "execution_count": 122,
   "metadata": {
    "ExecuteTime": {
     "end_time": "2019-01-28T17:59:36.976749Z",
     "start_time": "2019-01-28T17:59:36.960763Z"
    }
   },
   "outputs": [],
   "source": [
    "tab = alles.copy()"
   ]
  },
  {
   "cell_type": "code",
   "execution_count": 123,
   "metadata": {
    "ExecuteTime": {
     "end_time": "2019-01-28T17:59:39.941331Z",
     "start_time": "2019-01-28T17:59:39.935337Z"
    }
   },
   "outputs": [
    {
     "data": {
      "text/plain": [
       "1111030"
      ]
     },
     "execution_count": 123,
     "metadata": {},
     "output_type": "execute_result"
    }
   ],
   "source": [
    "len(tab)"
   ]
  },
  {
   "cell_type": "code",
   "execution_count": 124,
   "metadata": {
    "ExecuteTime": {
     "end_time": "2019-01-28T17:56:11.136927Z",
     "start_time": "2019-01-28T17:56:11.095952Z"
    }
   },
   "outputs": [
    {
     "data": {
      "text/html": [
       "<div>\n",
       "<style scoped>\n",
       "    .dataframe tbody tr th:only-of-type {\n",
       "        vertical-align: middle;\n",
       "    }\n",
       "\n",
       "    .dataframe tbody tr th {\n",
       "        vertical-align: top;\n",
       "    }\n",
       "\n",
       "    .dataframe thead th {\n",
       "        text-align: right;\n",
       "    }\n",
       "</style>\n",
       "<table border=\"1\" class=\"dataframe\">\n",
       "  <thead>\n",
       "    <tr style=\"text-align: right;\">\n",
       "      <th></th>\n",
       "      <th>APT_TYPE</th>\n",
       "      <th>APT_DATE</th>\n",
       "      <th>SENT_TIME</th>\n",
       "      <th>RESPONSE</th>\n",
       "      <th>TYPE</th>\n",
       "      <th>net_hour</th>\n",
       "      <th>send_time</th>\n",
       "      <th>CLINIC</th>\n",
       "      <th>city</th>\n",
       "      <th>province</th>\n",
       "      <th>postal_code</th>\n",
       "      <th>pat_id</th>\n",
       "      <th>birth_in_date</th>\n",
       "      <th>family_id</th>\n",
       "      <th>gender</th>\n",
       "      <th>zip_code</th>\n",
       "    </tr>\n",
       "  </thead>\n",
       "  <tbody>\n",
       "    <tr>\n",
       "      <th>836159</th>\n",
       "      <td>general</td>\n",
       "      <td>2019-02-13 12:15:00</td>\n",
       "      <td>2019-02-08 08:06:35</td>\n",
       "      <td>1</td>\n",
       "      <td>Email</td>\n",
       "      <td>-48</td>\n",
       "      <td>08:00:00</td>\n",
       "      <td>121958</td>\n",
       "      <td>Kelowna</td>\n",
       "      <td>BC</td>\n",
       "      <td>V1X 7N6</td>\n",
       "      <td>111826</td>\n",
       "      <td>1986-05-27</td>\n",
       "      <td>111826</td>\n",
       "      <td>F</td>\n",
       "      <td>V1X1W2</td>\n",
       "    </tr>\n",
       "    <tr>\n",
       "      <th>224236</th>\n",
       "      <td>blank</td>\n",
       "      <td>2019-01-26 09:00:00</td>\n",
       "      <td>2019-01-12 08:01:47</td>\n",
       "      <td>0</td>\n",
       "      <td>Email</td>\n",
       "      <td>-336</td>\n",
       "      <td>08:00:00</td>\n",
       "      <td>122329</td>\n",
       "      <td>Burlington</td>\n",
       "      <td>ON</td>\n",
       "      <td>L7M 4B8</td>\n",
       "      <td>1856</td>\n",
       "      <td>1968-10-29</td>\n",
       "      <td>1855</td>\n",
       "      <td>M</td>\n",
       "      <td>L5N5N9</td>\n",
       "    </tr>\n",
       "    <tr>\n",
       "      <th>554055</th>\n",
       "      <td>scaling 4unit -scprogram.</td>\n",
       "      <td>2017-06-10 11:00:00</td>\n",
       "      <td>2017-06-08 08:00:24</td>\n",
       "      <td>0</td>\n",
       "      <td>Email</td>\n",
       "      <td>-72</td>\n",
       "      <td>08:00:00</td>\n",
       "      <td>121892</td>\n",
       "      <td>Burlington</td>\n",
       "      <td>ON</td>\n",
       "      <td>L7M 4E4</td>\n",
       "      <td>279</td>\n",
       "      <td>1977-01-24</td>\n",
       "      <td>279</td>\n",
       "      <td>M</td>\n",
       "      <td>L7L6G9</td>\n",
       "    </tr>\n",
       "    <tr>\n",
       "      <th>971339</th>\n",
       "      <td>perio</td>\n",
       "      <td>2019-02-21 19:15:00</td>\n",
       "      <td>2019-02-07 11:09:36</td>\n",
       "      <td>0</td>\n",
       "      <td>Email</td>\n",
       "      <td>-336</td>\n",
       "      <td>11:00:00</td>\n",
       "      <td>123294</td>\n",
       "      <td>Toronto</td>\n",
       "      <td>ON</td>\n",
       "      <td>M4K1R2</td>\n",
       "      <td>7606</td>\n",
       "      <td>1972-11-05</td>\n",
       "      <td>7606</td>\n",
       "      <td>M</td>\n",
       "      <td>M1K1Y2</td>\n",
       "    </tr>\n",
       "    <tr>\n",
       "      <th>832354</th>\n",
       "      <td>general</td>\n",
       "      <td>2019-01-04 13:00:00</td>\n",
       "      <td>2018-12-28 12:02:48</td>\n",
       "      <td>1</td>\n",
       "      <td>SMS</td>\n",
       "      <td>-168</td>\n",
       "      <td>12:00:00</td>\n",
       "      <td>121945</td>\n",
       "      <td>Calgary</td>\n",
       "      <td>AB</td>\n",
       "      <td>T2N 1M7</td>\n",
       "      <td>27444</td>\n",
       "      <td>2005-01-14</td>\n",
       "      <td>27441</td>\n",
       "      <td>M</td>\n",
       "      <td>T2N0W5</td>\n",
       "    </tr>\n",
       "  </tbody>\n",
       "</table>\n",
       "</div>"
      ],
      "text/plain": [
       "                         APT_TYPE            APT_DATE           SENT_TIME  \\\n",
       "836159                    general 2019-02-13 12:15:00 2019-02-08 08:06:35   \n",
       "224236                      blank 2019-01-26 09:00:00 2019-01-12 08:01:47   \n",
       "554055  scaling 4unit -scprogram. 2017-06-10 11:00:00 2017-06-08 08:00:24   \n",
       "971339                      perio 2019-02-21 19:15:00 2019-02-07 11:09:36   \n",
       "832354                    general 2019-01-04 13:00:00 2018-12-28 12:02:48   \n",
       "\n",
       "        RESPONSE   TYPE  net_hour send_time  CLINIC        city province  \\\n",
       "836159         1  Email       -48  08:00:00  121958     Kelowna       BC   \n",
       "224236         0  Email      -336  08:00:00  122329  Burlington       ON   \n",
       "554055         0  Email       -72  08:00:00  121892  Burlington       ON   \n",
       "971339         0  Email      -336  11:00:00  123294     Toronto       ON   \n",
       "832354         1    SMS      -168  12:00:00  121945     Calgary       AB   \n",
       "\n",
       "       postal_code  pat_id birth_in_date  family_id gender zip_code  \n",
       "836159     V1X 7N6  111826    1986-05-27     111826      F   V1X1W2  \n",
       "224236     L7M 4B8    1856    1968-10-29       1855      M   L5N5N9  \n",
       "554055     L7M 4E4     279    1977-01-24        279      M   L7L6G9  \n",
       "971339      M4K1R2    7606    1972-11-05       7606      M   M1K1Y2  \n",
       "832354     T2N 1M7   27444    2005-01-14      27441      M   T2N0W5  "
      ]
     },
     "execution_count": 124,
     "metadata": {},
     "output_type": "execute_result"
    }
   ],
   "source": [
    "tab.head()"
   ]
  },
  {
   "cell_type": "code",
   "execution_count": 125,
   "metadata": {
    "ExecuteTime": {
     "end_time": "2019-01-28T17:56:11.148919Z",
     "start_time": "2019-01-28T17:56:11.141924Z"
    }
   },
   "outputs": [],
   "source": [
    "tab.rename(columns={\"postal_code\" : \"cli_zip\", \"zip_code\" : \"pat_zip\"}, inplace=True)"
   ]
  },
  {
   "cell_type": "markdown",
   "metadata": {},
   "source": [
    "## Age"
   ]
  },
  {
   "cell_type": "code",
   "execution_count": 126,
   "metadata": {
    "ExecuteTime": {
     "end_time": "2019-01-28T17:56:11.157914Z",
     "start_time": "2019-01-28T17:56:11.153915Z"
    }
   },
   "outputs": [],
   "source": [
    "current_year = datetime.datetime.now().year"
   ]
  },
  {
   "cell_type": "code",
   "execution_count": 127,
   "metadata": {
    "ExecuteTime": {
     "end_time": "2019-01-28T17:56:11.170905Z",
     "start_time": "2019-01-28T17:56:11.162911Z"
    }
   },
   "outputs": [],
   "source": [
    "tab.birth_in_date = tab.birth_in_date.str[:4].astype(int)"
   ]
  },
  {
   "cell_type": "code",
   "execution_count": 128,
   "metadata": {
    "ExecuteTime": {
     "end_time": "2019-01-28T17:56:11.213881Z",
     "start_time": "2019-01-28T17:56:11.175903Z"
    }
   },
   "outputs": [],
   "source": [
    "tab[\"age\"] = current_year - tab.birth_in_date"
   ]
  },
  {
   "cell_type": "code",
   "execution_count": 129,
   "metadata": {
    "ExecuteTime": {
     "end_time": "2019-01-28T17:56:11.226871Z",
     "start_time": "2019-01-28T17:56:11.216878Z"
    }
   },
   "outputs": [
    {
     "data": {
      "text/plain": [
       "1100"
      ]
     },
     "execution_count": 129,
     "metadata": {},
     "output_type": "execute_result"
    }
   ],
   "source": [
    "(tab.age > 100).sum()"
   ]
  },
  {
   "cell_type": "code",
   "execution_count": 130,
   "metadata": {},
   "outputs": [
    {
     "data": {
      "text/plain": [
       "0"
      ]
     },
     "execution_count": 130,
     "metadata": {},
     "output_type": "execute_result"
    }
   ],
   "source": [
    "(tab.age < 0).sum()"
   ]
  },
  {
   "cell_type": "code",
   "execution_count": 131,
   "metadata": {
    "ExecuteTime": {
     "end_time": "2019-01-28T17:56:11.240048Z",
     "start_time": "2019-01-28T17:56:11.231054Z"
    }
   },
   "outputs": [],
   "source": [
    "# delete outliers\n",
    "tab = tab[(tab[\"age\"] < 100) & (tab[\"age\"] > 0)]"
   ]
  },
  {
   "cell_type": "code",
   "execution_count": 132,
   "metadata": {
    "ExecuteTime": {
     "end_time": "2019-01-28T17:56:11.261036Z",
     "start_time": "2019-01-28T17:56:11.245045Z"
    }
   },
   "outputs": [
    {
     "data": {
      "text/plain": [
       "count    1109893.0\n",
       "mean          43.0\n",
       "std           21.0\n",
       "min            1.0\n",
       "25%           27.0\n",
       "50%           44.0\n",
       "75%           59.0\n",
       "max           99.0\n",
       "Name: age, dtype: float64"
      ]
     },
     "execution_count": 132,
     "metadata": {},
     "output_type": "execute_result"
    }
   ],
   "source": [
    "tab.age.describe().round()"
   ]
  },
  {
   "cell_type": "code",
   "execution_count": 133,
   "metadata": {
    "ExecuteTime": {
     "end_time": "2019-01-28T17:56:11.629809Z",
     "start_time": "2019-01-28T17:56:11.270029Z"
    }
   },
   "outputs": [
    {
     "data": {
      "image/png": "[encoded data removed]",
      "text/plain": [
       "<Figure size 1728x432 with 1 Axes>"
      ]
     },
     "metadata": {
      "needs_background": "light"
     },
     "output_type": "display_data"
    }
   ],
   "source": [
    "plt.figure(figsize=(24,6))\n",
    "tab.age.value_counts().sort_index().plot.bar();"
   ]
  },
  {
   "cell_type": "code",
   "execution_count": 134,
   "metadata": {},
   "outputs": [],
   "source": [
    "tab.loc[(tab.age > 0) & (tab.age < 5), \"age\"] = 5\n",
    "tab.loc[(tab.age > 5) & (tab.age < 10), \"age\"] = 10\n",
    "tab.loc[(tab.age > 10) & (tab.age < 15), \"age\"] = 15\n",
    "tab.loc[(tab.age > 15) & (tab.age < 20), \"age\"] = 20\n",
    "tab.loc[(tab.age > 20) & (tab.age < 25), \"age\"] = 25\n",
    "tab.loc[(tab.age > 25) & (tab.age < 30), \"age\"] = 30\n",
    "tab.loc[(tab.age > 30) & (tab.age < 35), \"age\"] = 35\n",
    "tab.loc[(tab.age > 35) & (tab.age < 40), \"age\"] = 40\n",
    "tab.loc[(tab.age > 40) & (tab.age < 45), \"age\"] = 45\n",
    "tab.loc[(tab.age > 45) & (tab.age < 50), \"age\"] = 50\n",
    "tab.loc[(tab.age > 50) & (tab.age < 55), \"age\"] = 55\n",
    "tab.loc[(tab.age > 55) & (tab.age < 60), \"age\"] = 60\n",
    "tab.loc[(tab.age > 60) & (tab.age < 65), \"age\"] = 65\n",
    "tab.loc[(tab.age > 65) & (tab.age < 70), \"age\"] = 70\n",
    "tab.loc[(tab.age > 70) & (tab.age < 75), \"age\"] = 75\n",
    "tab.loc[(tab.age > 75) & (tab.age < 80), \"age\"] = 80\n",
    "tab.loc[(tab.age > 80) & (tab.age < 85), \"age\"] = 85\n",
    "tab.loc[(tab.age > 85) & (tab.age < 90), \"age\"] = 90\n",
    "tab.loc[(tab.age > 90) & (tab.age < 95), \"age\"] = 95\n",
    "tab.loc[(tab.age > 95) & (tab.age < 100), \"age\"] = 100"
   ]
  },
  {
   "cell_type": "code",
   "execution_count": 135,
   "metadata": {
    "ExecuteTime": {
     "end_time": "2019-01-28T17:56:11.629809Z",
     "start_time": "2019-01-28T17:56:11.270029Z"
    }
   },
   "outputs": [
    {
     "data": {
      "image/png": "[encoded data removed]",
      "text/plain": [
       "<Figure size 1728x432 with 1 Axes>"
      ]
     },
     "metadata": {
      "needs_background": "light"
     },
     "output_type": "display_data"
    }
   ],
   "source": [
    "plt.figure(figsize=(24,6))\n",
    "tab.age.value_counts().sort_index().plot.bar();"
   ]
  },
  {
   "cell_type": "code",
   "execution_count": 136,
   "metadata": {},
   "outputs": [],
   "source": [
    "tab.drop(\"birth_in_date\", axis=1, inplace=True)"
   ]
  },
  {
   "cell_type": "markdown",
   "metadata": {},
   "source": [
    "## Family size"
   ]
  },
  {
   "cell_type": "code",
   "execution_count": 137,
   "metadata": {
    "ExecuteTime": {
     "end_time": "2019-01-28T17:56:11.643802Z",
     "start_time": "2019-01-28T17:56:11.633806Z"
    }
   },
   "outputs": [
    {
     "data": {
      "text/plain": [
       "45623"
      ]
     },
     "execution_count": 137,
     "metadata": {},
     "output_type": "execute_result"
    }
   ],
   "source": [
    "tab.family_id.nunique()"
   ]
  },
  {
   "cell_type": "markdown",
   "metadata": {
    "ExecuteTime": {
     "end_time": "2019-01-28T17:56:11.659789Z",
     "start_time": "2019-01-28T17:56:11.647797Z"
    },
    "scrolled": true
   },
   "source": [
    "Note: same family_id's in different clinics"
   ]
  },
  {
   "cell_type": "code",
   "execution_count": 138,
   "metadata": {
    "ExecuteTime": {
     "end_time": "2019-01-28T17:56:11.671783Z",
     "start_time": "2019-01-28T17:56:11.663788Z"
    }
   },
   "outputs": [],
   "source": [
    "# fam = unique family ID\n",
    "tab[\"fam\"] = tab[\"CLINIC\"].astype(str) + \"-\" + tab[\"family_id\"].astype(str)"
   ]
  },
  {
   "cell_type": "code",
   "execution_count": 139,
   "metadata": {
    "ExecuteTime": {
     "end_time": "2019-01-28T17:56:11.685775Z",
     "start_time": "2019-01-28T17:56:11.676779Z"
    },
    "scrolled": true
   },
   "outputs": [
    {
     "data": {
      "text/plain": [
       "836159    121958-111826\n",
       "224236      122329-1855\n",
       "554055       121892-279\n",
       "971339      123294-7606\n",
       "832354     121945-27441\n",
       "Name: fam, dtype: object"
      ]
     },
     "execution_count": 139,
     "metadata": {},
     "output_type": "execute_result"
    }
   ],
   "source": [
    "tab.fam.head()"
   ]
  },
  {
   "cell_type": "code",
   "execution_count": 140,
   "metadata": {
    "ExecuteTime": {
     "end_time": "2019-01-28T17:56:11.697767Z",
     "start_time": "2019-01-28T17:56:11.690770Z"
    }
   },
   "outputs": [
    {
     "data": {
      "text/plain": [
       "384384"
      ]
     },
     "execution_count": 140,
     "metadata": {},
     "output_type": "execute_result"
    }
   ],
   "source": [
    "len(tab.fam.unique())"
   ]
  },
  {
   "cell_type": "code",
   "execution_count": 141,
   "metadata": {
    "scrolled": true
   },
   "outputs": [
    {
     "name": "stdout",
     "output_type": "stream",
     "text": [
      "Wall time: 2.57 s\n"
     ]
    }
   ],
   "source": [
    "%%time\n",
    "fam_size = tab.groupby(\"fam\")[\"pat_id\"].nunique().to_dict()"
   ]
  },
  {
   "cell_type": "code",
   "execution_count": 142,
   "metadata": {
    "ExecuteTime": {
     "end_time": "2019-01-28T17:56:11.743739Z",
     "start_time": "2019-01-28T17:56:11.738741Z"
    }
   },
   "outputs": [],
   "source": [
    "tab[\"fam\"] = tab.fam.map(fam_size)"
   ]
  },
  {
   "cell_type": "code",
   "execution_count": 143,
   "metadata": {
    "ExecuteTime": {
     "end_time": "2019-01-28T17:56:11.789710Z",
     "start_time": "2019-01-28T17:56:11.747736Z"
    }
   },
   "outputs": [
    {
     "data": {
      "text/html": [
       "<div>\n",
       "<style scoped>\n",
       "    .dataframe tbody tr th:only-of-type {\n",
       "        vertical-align: middle;\n",
       "    }\n",
       "\n",
       "    .dataframe tbody tr th {\n",
       "        vertical-align: top;\n",
       "    }\n",
       "\n",
       "    .dataframe thead th {\n",
       "        text-align: right;\n",
       "    }\n",
       "</style>\n",
       "<table border=\"1\" class=\"dataframe\">\n",
       "  <thead>\n",
       "    <tr style=\"text-align: right;\">\n",
       "      <th></th>\n",
       "      <th>APT_TYPE</th>\n",
       "      <th>APT_DATE</th>\n",
       "      <th>SENT_TIME</th>\n",
       "      <th>RESPONSE</th>\n",
       "      <th>TYPE</th>\n",
       "      <th>net_hour</th>\n",
       "      <th>send_time</th>\n",
       "      <th>CLINIC</th>\n",
       "      <th>city</th>\n",
       "      <th>province</th>\n",
       "      <th>cli_zip</th>\n",
       "      <th>pat_id</th>\n",
       "      <th>family_id</th>\n",
       "      <th>gender</th>\n",
       "      <th>pat_zip</th>\n",
       "      <th>age</th>\n",
       "      <th>fam</th>\n",
       "    </tr>\n",
       "  </thead>\n",
       "  <tbody>\n",
       "    <tr>\n",
       "      <th>836159</th>\n",
       "      <td>general</td>\n",
       "      <td>2019-02-13 12:15:00</td>\n",
       "      <td>2019-02-08 08:06:35</td>\n",
       "      <td>1</td>\n",
       "      <td>Email</td>\n",
       "      <td>-48</td>\n",
       "      <td>08:00:00</td>\n",
       "      <td>121958</td>\n",
       "      <td>Kelowna</td>\n",
       "      <td>BC</td>\n",
       "      <td>V1X 7N6</td>\n",
       "      <td>111826</td>\n",
       "      <td>111826</td>\n",
       "      <td>F</td>\n",
       "      <td>V1X1W2</td>\n",
       "      <td>35</td>\n",
       "      <td>1</td>\n",
       "    </tr>\n",
       "    <tr>\n",
       "      <th>224236</th>\n",
       "      <td>blank</td>\n",
       "      <td>2019-01-26 09:00:00</td>\n",
       "      <td>2019-01-12 08:01:47</td>\n",
       "      <td>0</td>\n",
       "      <td>Email</td>\n",
       "      <td>-336</td>\n",
       "      <td>08:00:00</td>\n",
       "      <td>122329</td>\n",
       "      <td>Burlington</td>\n",
       "      <td>ON</td>\n",
       "      <td>L7M 4B8</td>\n",
       "      <td>1856</td>\n",
       "      <td>1855</td>\n",
       "      <td>M</td>\n",
       "      <td>L5N5N9</td>\n",
       "      <td>55</td>\n",
       "      <td>1</td>\n",
       "    </tr>\n",
       "    <tr>\n",
       "      <th>554055</th>\n",
       "      <td>scaling 4unit -scprogram.</td>\n",
       "      <td>2017-06-10 11:00:00</td>\n",
       "      <td>2017-06-08 08:00:24</td>\n",
       "      <td>0</td>\n",
       "      <td>Email</td>\n",
       "      <td>-72</td>\n",
       "      <td>08:00:00</td>\n",
       "      <td>121892</td>\n",
       "      <td>Burlington</td>\n",
       "      <td>ON</td>\n",
       "      <td>L7M 4E4</td>\n",
       "      <td>279</td>\n",
       "      <td>279</td>\n",
       "      <td>M</td>\n",
       "      <td>L7L6G9</td>\n",
       "      <td>45</td>\n",
       "      <td>3</td>\n",
       "    </tr>\n",
       "    <tr>\n",
       "      <th>971339</th>\n",
       "      <td>perio</td>\n",
       "      <td>2019-02-21 19:15:00</td>\n",
       "      <td>2019-02-07 11:09:36</td>\n",
       "      <td>0</td>\n",
       "      <td>Email</td>\n",
       "      <td>-336</td>\n",
       "      <td>11:00:00</td>\n",
       "      <td>123294</td>\n",
       "      <td>Toronto</td>\n",
       "      <td>ON</td>\n",
       "      <td>M4K1R2</td>\n",
       "      <td>7606</td>\n",
       "      <td>7606</td>\n",
       "      <td>M</td>\n",
       "      <td>M1K1Y2</td>\n",
       "      <td>50</td>\n",
       "      <td>2</td>\n",
       "    </tr>\n",
       "    <tr>\n",
       "      <th>832354</th>\n",
       "      <td>general</td>\n",
       "      <td>2019-01-04 13:00:00</td>\n",
       "      <td>2018-12-28 12:02:48</td>\n",
       "      <td>1</td>\n",
       "      <td>SMS</td>\n",
       "      <td>-168</td>\n",
       "      <td>12:00:00</td>\n",
       "      <td>121945</td>\n",
       "      <td>Calgary</td>\n",
       "      <td>AB</td>\n",
       "      <td>T2N 1M7</td>\n",
       "      <td>27444</td>\n",
       "      <td>27441</td>\n",
       "      <td>M</td>\n",
       "      <td>T2N0W5</td>\n",
       "      <td>15</td>\n",
       "      <td>2</td>\n",
       "    </tr>\n",
       "  </tbody>\n",
       "</table>\n",
       "</div>"
      ],
      "text/plain": [
       "                         APT_TYPE            APT_DATE           SENT_TIME  \\\n",
       "836159                    general 2019-02-13 12:15:00 2019-02-08 08:06:35   \n",
       "224236                      blank 2019-01-26 09:00:00 2019-01-12 08:01:47   \n",
       "554055  scaling 4unit -scprogram. 2017-06-10 11:00:00 2017-06-08 08:00:24   \n",
       "971339                      perio 2019-02-21 19:15:00 2019-02-07 11:09:36   \n",
       "832354                    general 2019-01-04 13:00:00 2018-12-28 12:02:48   \n",
       "\n",
       "        RESPONSE   TYPE  net_hour send_time  CLINIC        city province  \\\n",
       "836159         1  Email       -48  08:00:00  121958     Kelowna       BC   \n",
       "224236         0  Email      -336  08:00:00  122329  Burlington       ON   \n",
       "554055         0  Email       -72  08:00:00  121892  Burlington       ON   \n",
       "971339         0  Email      -336  11:00:00  123294     Toronto       ON   \n",
       "832354         1    SMS      -168  12:00:00  121945     Calgary       AB   \n",
       "\n",
       "        cli_zip  pat_id  family_id gender pat_zip  age  fam  \n",
       "836159  V1X 7N6  111826     111826      F  V1X1W2   35    1  \n",
       "224236  L7M 4B8    1856       1855      M  L5N5N9   55    1  \n",
       "554055  L7M 4E4     279        279      M  L7L6G9   45    3  \n",
       "971339   M4K1R2    7606       7606      M  M1K1Y2   50    2  \n",
       "832354  T2N 1M7   27444      27441      M  T2N0W5   15    2  "
      ]
     },
     "execution_count": 143,
     "metadata": {},
     "output_type": "execute_result"
    }
   ],
   "source": [
    "tab.head()"
   ]
  },
  {
   "cell_type": "code",
   "execution_count": 144,
   "metadata": {
    "ExecuteTime": {
     "end_time": "2019-01-28T17:56:12.063542Z",
     "start_time": "2019-01-28T17:56:11.794707Z"
    }
   },
   "outputs": [
    {
     "data": {
      "image/png": "[encoded data removed]",
      "text/plain": [
       "<Figure size 432x288 with 1 Axes>"
      ]
     },
     "metadata": {
      "needs_background": "light"
     },
     "output_type": "display_data"
    }
   ],
   "source": [
    "tab.fam.value_counts().sort_index().plot.bar();"
   ]
  },
  {
   "cell_type": "code",
   "execution_count": 145,
   "metadata": {},
   "outputs": [],
   "source": [
    "# drop outliers\n",
    "tab = tab[tab.fam < 7]"
   ]
  },
  {
   "cell_type": "code",
   "execution_count": 146,
   "metadata": {},
   "outputs": [
    {
     "data": {
      "text/plain": [
       "1086947"
      ]
     },
     "execution_count": 146,
     "metadata": {},
     "output_type": "execute_result"
    }
   ],
   "source": [
    "len(tab)"
   ]
  },
  {
   "cell_type": "markdown",
   "metadata": {},
   "source": [
    "## Distance to clinic"
   ]
  },
  {
   "cell_type": "code",
   "execution_count": 147,
   "metadata": {},
   "outputs": [
    {
     "data": {
      "text/html": [
       "<div>\n",
       "<style scoped>\n",
       "    .dataframe tbody tr th:only-of-type {\n",
       "        vertical-align: middle;\n",
       "    }\n",
       "\n",
       "    .dataframe tbody tr th {\n",
       "        vertical-align: top;\n",
       "    }\n",
       "\n",
       "    .dataframe thead th {\n",
       "        text-align: right;\n",
       "    }\n",
       "</style>\n",
       "<table border=\"1\" class=\"dataframe\">\n",
       "  <thead>\n",
       "    <tr style=\"text-align: right;\">\n",
       "      <th></th>\n",
       "      <th>APT_TYPE</th>\n",
       "      <th>APT_DATE</th>\n",
       "      <th>SENT_TIME</th>\n",
       "      <th>RESPONSE</th>\n",
       "      <th>TYPE</th>\n",
       "      <th>net_hour</th>\n",
       "      <th>send_time</th>\n",
       "      <th>CLINIC</th>\n",
       "      <th>city</th>\n",
       "      <th>province</th>\n",
       "      <th>cli_zip</th>\n",
       "      <th>pat_id</th>\n",
       "      <th>family_id</th>\n",
       "      <th>gender</th>\n",
       "      <th>pat_zip</th>\n",
       "      <th>age</th>\n",
       "      <th>fam</th>\n",
       "    </tr>\n",
       "  </thead>\n",
       "  <tbody>\n",
       "    <tr>\n",
       "      <th>836159</th>\n",
       "      <td>general</td>\n",
       "      <td>2019-02-13 12:15:00</td>\n",
       "      <td>2019-02-08 08:06:35</td>\n",
       "      <td>1</td>\n",
       "      <td>Email</td>\n",
       "      <td>-48</td>\n",
       "      <td>08:00:00</td>\n",
       "      <td>121958</td>\n",
       "      <td>Kelowna</td>\n",
       "      <td>BC</td>\n",
       "      <td>V1X 7N6</td>\n",
       "      <td>111826</td>\n",
       "      <td>111826</td>\n",
       "      <td>F</td>\n",
       "      <td>V1X1W2</td>\n",
       "      <td>35</td>\n",
       "      <td>1</td>\n",
       "    </tr>\n",
       "    <tr>\n",
       "      <th>224236</th>\n",
       "      <td>blank</td>\n",
       "      <td>2019-01-26 09:00:00</td>\n",
       "      <td>2019-01-12 08:01:47</td>\n",
       "      <td>0</td>\n",
       "      <td>Email</td>\n",
       "      <td>-336</td>\n",
       "      <td>08:00:00</td>\n",
       "      <td>122329</td>\n",
       "      <td>Burlington</td>\n",
       "      <td>ON</td>\n",
       "      <td>L7M 4B8</td>\n",
       "      <td>1856</td>\n",
       "      <td>1855</td>\n",
       "      <td>M</td>\n",
       "      <td>L5N5N9</td>\n",
       "      <td>55</td>\n",
       "      <td>1</td>\n",
       "    </tr>\n",
       "    <tr>\n",
       "      <th>554055</th>\n",
       "      <td>scaling 4unit -scprogram.</td>\n",
       "      <td>2017-06-10 11:00:00</td>\n",
       "      <td>2017-06-08 08:00:24</td>\n",
       "      <td>0</td>\n",
       "      <td>Email</td>\n",
       "      <td>-72</td>\n",
       "      <td>08:00:00</td>\n",
       "      <td>121892</td>\n",
       "      <td>Burlington</td>\n",
       "      <td>ON</td>\n",
       "      <td>L7M 4E4</td>\n",
       "      <td>279</td>\n",
       "      <td>279</td>\n",
       "      <td>M</td>\n",
       "      <td>L7L6G9</td>\n",
       "      <td>45</td>\n",
       "      <td>3</td>\n",
       "    </tr>\n",
       "    <tr>\n",
       "      <th>971339</th>\n",
       "      <td>perio</td>\n",
       "      <td>2019-02-21 19:15:00</td>\n",
       "      <td>2019-02-07 11:09:36</td>\n",
       "      <td>0</td>\n",
       "      <td>Email</td>\n",
       "      <td>-336</td>\n",
       "      <td>11:00:00</td>\n",
       "      <td>123294</td>\n",
       "      <td>Toronto</td>\n",
       "      <td>ON</td>\n",
       "      <td>M4K1R2</td>\n",
       "      <td>7606</td>\n",
       "      <td>7606</td>\n",
       "      <td>M</td>\n",
       "      <td>M1K1Y2</td>\n",
       "      <td>50</td>\n",
       "      <td>2</td>\n",
       "    </tr>\n",
       "    <tr>\n",
       "      <th>832354</th>\n",
       "      <td>general</td>\n",
       "      <td>2019-01-04 13:00:00</td>\n",
       "      <td>2018-12-28 12:02:48</td>\n",
       "      <td>1</td>\n",
       "      <td>SMS</td>\n",
       "      <td>-168</td>\n",
       "      <td>12:00:00</td>\n",
       "      <td>121945</td>\n",
       "      <td>Calgary</td>\n",
       "      <td>AB</td>\n",
       "      <td>T2N 1M7</td>\n",
       "      <td>27444</td>\n",
       "      <td>27441</td>\n",
       "      <td>M</td>\n",
       "      <td>T2N0W5</td>\n",
       "      <td>15</td>\n",
       "      <td>2</td>\n",
       "    </tr>\n",
       "  </tbody>\n",
       "</table>\n",
       "</div>"
      ],
      "text/plain": [
       "                         APT_TYPE            APT_DATE           SENT_TIME  \\\n",
       "836159                    general 2019-02-13 12:15:00 2019-02-08 08:06:35   \n",
       "224236                      blank 2019-01-26 09:00:00 2019-01-12 08:01:47   \n",
       "554055  scaling 4unit -scprogram. 2017-06-10 11:00:00 2017-06-08 08:00:24   \n",
       "971339                      perio 2019-02-21 19:15:00 2019-02-07 11:09:36   \n",
       "832354                    general 2019-01-04 13:00:00 2018-12-28 12:02:48   \n",
       "\n",
       "        RESPONSE   TYPE  net_hour send_time  CLINIC        city province  \\\n",
       "836159         1  Email       -48  08:00:00  121958     Kelowna       BC   \n",
       "224236         0  Email      -336  08:00:00  122329  Burlington       ON   \n",
       "554055         0  Email       -72  08:00:00  121892  Burlington       ON   \n",
       "971339         0  Email      -336  11:00:00  123294     Toronto       ON   \n",
       "832354         1    SMS      -168  12:00:00  121945     Calgary       AB   \n",
       "\n",
       "        cli_zip  pat_id  family_id gender pat_zip  age  fam  \n",
       "836159  V1X 7N6  111826     111826      F  V1X1W2   35    1  \n",
       "224236  L7M 4B8    1856       1855      M  L5N5N9   55    1  \n",
       "554055  L7M 4E4     279        279      M  L7L6G9   45    3  \n",
       "971339   M4K1R2    7606       7606      M  M1K1Y2   50    2  \n",
       "832354  T2N 1M7   27444      27441      M  T2N0W5   15    2  "
      ]
     },
     "execution_count": 147,
     "metadata": {},
     "output_type": "execute_result"
    }
   ],
   "source": [
    "tab.head()"
   ]
  },
  {
   "cell_type": "markdown",
   "metadata": {},
   "source": [
    "### Zips list"
   ]
  },
  {
   "cell_type": "code",
   "execution_count": 148,
   "metadata": {
    "ExecuteTime": {
     "end_time": "2019-01-28T17:56:15.865508Z",
     "start_time": "2019-01-28T17:56:12.067541Z"
    }
   },
   "outputs": [],
   "source": [
    "zips = pd.read_csv(\"data/zips.csv\")"
   ]
  },
  {
   "cell_type": "code",
   "execution_count": 149,
   "metadata": {
    "ExecuteTime": {
     "end_time": "2019-01-28T17:56:15.912478Z",
     "start_time": "2019-01-28T17:56:15.876502Z"
    },
    "scrolled": true
   },
   "outputs": [
    {
     "data": {
      "text/html": [
       "<div>\n",
       "<style scoped>\n",
       "    .dataframe tbody tr th:only-of-type {\n",
       "        vertical-align: middle;\n",
       "    }\n",
       "\n",
       "    .dataframe tbody tr th {\n",
       "        vertical-align: top;\n",
       "    }\n",
       "\n",
       "    .dataframe thead th {\n",
       "        text-align: right;\n",
       "    }\n",
       "</style>\n",
       "<table border=\"1\" class=\"dataframe\">\n",
       "  <thead>\n",
       "    <tr style=\"text-align: right;\">\n",
       "      <th></th>\n",
       "      <th>PostalCode</th>\n",
       "      <th>FSA</th>\n",
       "      <th>Latitude</th>\n",
       "      <th>Longitude</th>\n",
       "      <th>Place Name</th>\n",
       "      <th>FSA1</th>\n",
       "      <th>FSA-Province</th>\n",
       "      <th>AreaType</th>\n",
       "    </tr>\n",
       "  </thead>\n",
       "  <tbody>\n",
       "    <tr>\n",
       "      <th>0</th>\n",
       "      <td>A0A0A0</td>\n",
       "      <td>A0A</td>\n",
       "      <td>48.567450</td>\n",
       "      <td>-54.843225</td>\n",
       "      <td>Gander</td>\n",
       "      <td>A</td>\n",
       "      <td>10.0</td>\n",
       "      <td>Rural</td>\n",
       "    </tr>\n",
       "    <tr>\n",
       "      <th>1</th>\n",
       "      <td>A0A1A0</td>\n",
       "      <td>A0A</td>\n",
       "      <td>47.007347</td>\n",
       "      <td>-52.958921</td>\n",
       "      <td>Aquaforte</td>\n",
       "      <td>A</td>\n",
       "      <td>10.0</td>\n",
       "      <td>Rural</td>\n",
       "    </tr>\n",
       "    <tr>\n",
       "      <th>2</th>\n",
       "      <td>A0A1B0</td>\n",
       "      <td>A0A</td>\n",
       "      <td>47.362280</td>\n",
       "      <td>-53.293993</td>\n",
       "      <td>Avondale</td>\n",
       "      <td>A</td>\n",
       "      <td>10.0</td>\n",
       "      <td>Rural</td>\n",
       "    </tr>\n",
       "    <tr>\n",
       "      <th>3</th>\n",
       "      <td>A0A1C0</td>\n",
       "      <td>A0A</td>\n",
       "      <td>47.403988</td>\n",
       "      <td>-52.799870</td>\n",
       "      <td>Bay Bulls</td>\n",
       "      <td>A</td>\n",
       "      <td>10.0</td>\n",
       "      <td>Rural</td>\n",
       "    </tr>\n",
       "    <tr>\n",
       "      <th>4</th>\n",
       "      <td>A0A1E0</td>\n",
       "      <td>A0A</td>\n",
       "      <td>48.086656</td>\n",
       "      <td>-52.894291</td>\n",
       "      <td>Bay De Verde</td>\n",
       "      <td>A</td>\n",
       "      <td>10.0</td>\n",
       "      <td>Rural</td>\n",
       "    </tr>\n",
       "  </tbody>\n",
       "</table>\n",
       "</div>"
      ],
      "text/plain": [
       "  PostalCode  FSA   Latitude  Longitude    Place Name FSA1  FSA-Province  \\\n",
       "0     A0A0A0  A0A  48.567450 -54.843225        Gander    A          10.0   \n",
       "1     A0A1A0  A0A  47.007347 -52.958921     Aquaforte    A          10.0   \n",
       "2     A0A1B0  A0A  47.362280 -53.293993      Avondale    A          10.0   \n",
       "3     A0A1C0  A0A  47.403988 -52.799870     Bay Bulls    A          10.0   \n",
       "4     A0A1E0  A0A  48.086656 -52.894291  Bay De Verde    A          10.0   \n",
       "\n",
       "  AreaType  \n",
       "0    Rural  \n",
       "1    Rural  \n",
       "2    Rural  \n",
       "3    Rural  \n",
       "4    Rural  "
      ]
     },
     "execution_count": 149,
     "metadata": {},
     "output_type": "execute_result"
    }
   ],
   "source": [
    "zips.head()"
   ]
  },
  {
   "cell_type": "code",
   "execution_count": 150,
   "metadata": {
    "ExecuteTime": {
     "end_time": "2019-01-28T17:56:16.210295Z",
     "start_time": "2019-01-28T17:56:15.921471Z"
    }
   },
   "outputs": [],
   "source": [
    "zips = zips.append({'PostalCode' : 'V4C0C1' , \"Latitude\" : 49.154893, \"Longitude\" : -122.908925,  \"Place Name\" : \"Delta\", \"FSA1\" : \"V\", \"AreaType\" : \"Urban\"} , ignore_index=True)"
   ]
  },
  {
   "cell_type": "code",
   "execution_count": 151,
   "metadata": {
    "ExecuteTime": {
     "end_time": "2019-01-28T17:56:16.682008Z",
     "start_time": "2019-01-28T17:56:16.214291Z"
    }
   },
   "outputs": [],
   "source": [
    "zips = zips.append({'PostalCode' : 'J7V0H2' , \"Latitude\" : 45.386889, \"Longitude\" : -73.996601,  \"Place Name\" : \"Vaudreuil-Dorion\", \"FSA1\" : \"H\", \"AreaType\" : \"Urban\"} , ignore_index=True)"
   ]
  },
  {
   "cell_type": "markdown",
   "metadata": {},
   "source": [
    "### Clinic zip"
   ]
  },
  {
   "cell_type": "code",
   "execution_count": 152,
   "metadata": {
    "ExecuteTime": {
     "end_time": "2019-01-28T17:56:16.692002Z",
     "start_time": "2019-01-28T17:56:16.685003Z"
    }
   },
   "outputs": [],
   "source": [
    "tab[\"cli_zip\"] = tab[\"cli_zip\"].map(lambda x: x.replace(' ',''))"
   ]
  },
  {
   "cell_type": "code",
   "execution_count": 153,
   "metadata": {
    "ExecuteTime": {
     "end_time": "2019-01-28T17:56:16.692002Z",
     "start_time": "2019-01-28T17:56:16.685003Z"
    }
   },
   "outputs": [],
   "source": [
    "tab[\"cli_zip\"] = tab[\"cli_zip\"].map(lambda x: x.upper()[:6])"
   ]
  },
  {
   "cell_type": "code",
   "execution_count": 154,
   "metadata": {
    "ExecuteTime": {
     "end_time": "2019-01-28T17:56:17.244659Z",
     "start_time": "2019-01-28T17:56:16.695996Z"
    }
   },
   "outputs": [
    {
     "data": {
      "text/plain": [
       "True     1038125\n",
       "False      48822\n",
       "Name: cli_zip, dtype: int64"
      ]
     },
     "execution_count": 154,
     "metadata": {},
     "output_type": "execute_result"
    }
   ],
   "source": [
    "tab[\"cli_zip\"].isin(zips.PostalCode).value_counts()"
   ]
  },
  {
   "cell_type": "code",
   "execution_count": 155,
   "metadata": {
    "ExecuteTime": {
     "end_time": "2019-01-28T17:56:17.689385Z",
     "start_time": "2019-01-28T17:56:17.252654Z"
    }
   },
   "outputs": [
    {
     "data": {
      "text/plain": [
       "T8W0K8    5788\n",
       "V4T3L7    3492\n",
       "N3R0B9    2777\n",
       "N2L0C7    2718\n",
       "V1Z4C9    2605\n",
       "V3Z6T3    2271\n",
       "V3H0E2    2051\n",
       "V7H0B5    1539\n",
       "L6A4P8    1422\n",
       "T9K0M5    1391\n",
       "V3Z0S8    1297\n",
       "V7J0A1    1265\n",
       "A1A0H5    1218\n",
       "V8Z0B9    1209\n",
       "K4A0N9    1194\n",
       "K1W0G1    1144\n",
       "M4P0C3    1108\n",
       "L4E0K6    1001\n",
       "L8J0B6     828\n",
       "M6P0A6     800\n",
       "Name: cli_zip, dtype: int64"
      ]
     },
     "execution_count": 155,
     "metadata": {},
     "output_type": "execute_result"
    }
   ],
   "source": [
    "# poastal codes NOT in zips\n",
    "(tab[(tab[\"cli_zip\"].isin(zips.PostalCode) == False)].cli_zip).value_counts().head(20)"
   ]
  },
  {
   "cell_type": "code",
   "execution_count": 156,
   "metadata": {},
   "outputs": [],
   "source": [
    "tab = tab[tab[\"cli_zip\"].isin(zips.PostalCode)]"
   ]
  },
  {
   "cell_type": "markdown",
   "metadata": {},
   "source": [
    "### Patient zip"
   ]
  },
  {
   "cell_type": "code",
   "execution_count": 157,
   "metadata": {
    "ExecuteTime": {
     "end_time": "2019-01-28T17:56:17.765339Z",
     "start_time": "2019-01-28T17:56:17.757345Z"
    }
   },
   "outputs": [],
   "source": [
    "tab[\"pat_zip\"] = tab[\"pat_zip\"].map(lambda x: x.replace(' ',''))"
   ]
  },
  {
   "cell_type": "code",
   "execution_count": 158,
   "metadata": {
    "ExecuteTime": {
     "end_time": "2019-01-28T17:56:17.776333Z",
     "start_time": "2019-01-28T17:56:17.770335Z"
    }
   },
   "outputs": [],
   "source": [
    "tab[\"pat_zip\"] = tab[\"pat_zip\"].map(lambda x: x.replace('-',''))"
   ]
  },
  {
   "cell_type": "code",
   "execution_count": 159,
   "metadata": {
    "ExecuteTime": {
     "end_time": "2019-01-28T17:56:17.788325Z",
     "start_time": "2019-01-28T17:56:17.781329Z"
    }
   },
   "outputs": [],
   "source": [
    "tab[\"pat_zip\"] = tab[\"pat_zip\"].map(lambda x: x.replace('`',''))"
   ]
  },
  {
   "cell_type": "code",
   "execution_count": 160,
   "metadata": {
    "ExecuteTime": {
     "end_time": "2019-01-28T17:56:17.788325Z",
     "start_time": "2019-01-28T17:56:17.781329Z"
    }
   },
   "outputs": [],
   "source": [
    "tab[\"pat_zip\"] = tab[\"pat_zip\"].map(lambda x: x.upper()[:6])"
   ]
  },
  {
   "cell_type": "code",
   "execution_count": 161,
   "metadata": {
    "ExecuteTime": {
     "end_time": "2019-01-28T17:56:17.804314Z",
     "start_time": "2019-01-28T17:56:17.793321Z"
    }
   },
   "outputs": [
    {
     "data": {
      "text/plain": [
       "6    1036862\n",
       "5        709\n",
       "3        341\n",
       "4        146\n",
       "2         34\n",
       "1         33\n",
       "Name: pat_zip, dtype: int64"
      ]
     },
     "execution_count": 161,
     "metadata": {},
     "output_type": "execute_result"
    }
   ],
   "source": [
    "tab.pat_zip.str.len().value_counts()"
   ]
  },
  {
   "cell_type": "code",
   "execution_count": 162,
   "metadata": {
    "ExecuteTime": {
     "end_time": "2019-01-28T17:56:18.263033Z",
     "start_time": "2019-01-28T17:56:17.808312Z"
    }
   },
   "outputs": [
    {
     "data": {
      "text/plain": [
       "True     942695\n",
       "False     95430\n",
       "Name: pat_zip, dtype: int64"
      ]
     },
     "execution_count": 162,
     "metadata": {},
     "output_type": "execute_result"
    }
   ],
   "source": [
    "tab[\"pat_zip\"].isin(zips.PostalCode).value_counts()"
   ]
  },
  {
   "cell_type": "code",
   "execution_count": 163,
   "metadata": {
    "ExecuteTime": {
     "end_time": "2019-01-28T17:56:18.803701Z",
     "start_time": "2019-01-28T17:56:18.269030Z"
    }
   },
   "outputs": [
    {
     "data": {
      "text/plain": [
       "V0N1G2    281\n",
       "V0N1G1    277\n",
       "V0H1T4    221\n",
       "J7V0M7    212\n",
       "J7V0J6    159\n",
       "V0H1T2    122\n",
       "V0H1T1    116\n",
       "J7V0L3     97\n",
       "L0M1B6     87\n",
       "V0X1X1     84\n",
       "T8T0C7     83\n",
       "V0H1T3     83\n",
       "L0M1B5     81\n",
       "V5C0H9     79\n",
       "L7G0G2     79\n",
       "K2M0H8     77\n",
       "T9W0A8     73\n",
       "A1Y1A0     69\n",
       "N0B2M1     68\n",
       "V0H1T5     67\n",
       "Name: pat_zip, dtype: int64"
      ]
     },
     "execution_count": 163,
     "metadata": {},
     "output_type": "execute_result"
    }
   ],
   "source": [
    "(tab[(tab[\"pat_zip\"].isin(zips.PostalCode) == False)].pat_zip).value_counts().head(20)"
   ]
  },
  {
   "cell_type": "code",
   "execution_count": 164,
   "metadata": {
    "ExecuteTime": {
     "end_time": "2019-01-28T17:56:19.202456Z",
     "start_time": "2019-01-28T17:56:18.809696Z"
    }
   },
   "outputs": [],
   "source": [
    "tab = tab[tab[\"pat_zip\"].isin(zips.PostalCode)]"
   ]
  },
  {
   "cell_type": "markdown",
   "metadata": {},
   "source": [
    "### Coordinates"
   ]
  },
  {
   "cell_type": "code",
   "execution_count": 165,
   "metadata": {
    "ExecuteTime": {
     "end_time": "2019-01-28T17:56:19.711315Z",
     "start_time": "2019-01-28T17:56:19.221445Z"
    }
   },
   "outputs": [],
   "source": [
    "lat_dict = pd.Series(zips.Latitude.values, index=zips.PostalCode).to_dict()"
   ]
  },
  {
   "cell_type": "code",
   "execution_count": 166,
   "metadata": {
    "ExecuteTime": {
     "end_time": "2019-01-28T17:56:20.445655Z",
     "start_time": "2019-01-28T17:56:19.720306Z"
    }
   },
   "outputs": [],
   "source": [
    "long_dict = pd.Series(zips.Longitude.values, index=zips.PostalCode).to_dict()"
   ]
  },
  {
   "cell_type": "code",
   "execution_count": 167,
   "metadata": {
    "ExecuteTime": {
     "end_time": "2019-01-28T17:56:20.544632Z",
     "start_time": "2019-01-28T17:56:20.447178Z"
    }
   },
   "outputs": [
    {
     "data": {
      "text/plain": [
       "PostalCode\n",
       "A0A0A0    48.567450\n",
       "A0A1A0    47.007347\n",
       "A0A1B0    47.362280\n",
       "A0A1C0    47.403988\n",
       "A0A1E0    48.086656\n",
       "A0A1G0    47.571957\n",
       "A0A1H0    47.637424\n",
       "A0A1J0    47.539527\n",
       "A0A1K0    47.520422\n",
       "A0A1L0    47.829830\n",
       "dtype: float64"
      ]
     },
     "execution_count": 167,
     "metadata": {},
     "output_type": "execute_result"
    }
   ],
   "source": [
    "# shows head of lat_dict\n",
    "pd.Series(zips.Latitude.values, index=zips.PostalCode).head(10)"
   ]
  },
  {
   "cell_type": "markdown",
   "metadata": {},
   "source": [
    "### Clinic coordinates"
   ]
  },
  {
   "cell_type": "markdown",
   "metadata": {},
   "source": [
    "To avoid applying the function to missing values (and keep them as NaN) na_action='ignore' can be used:"
   ]
  },
  {
   "cell_type": "code",
   "execution_count": 168,
   "metadata": {
    "ExecuteTime": {
     "end_time": "2019-01-28T17:56:22.129336Z",
     "start_time": "2019-01-28T17:56:20.558621Z"
    }
   },
   "outputs": [],
   "source": [
    "tab[\"cli_lat\"] = tab.cli_zip.map(lat_dict, na_action='ignore')"
   ]
  },
  {
   "cell_type": "code",
   "execution_count": 169,
   "metadata": {
    "ExecuteTime": {
     "end_time": "2019-01-28T17:56:23.544715Z",
     "start_time": "2019-01-28T17:56:22.129336Z"
    }
   },
   "outputs": [],
   "source": [
    "tab[\"cli_long\"] = tab.cli_zip.map(long_dict, na_action='ignore')"
   ]
  },
  {
   "cell_type": "code",
   "execution_count": 170,
   "metadata": {
    "ExecuteTime": {
     "end_time": "2019-01-28T17:56:23.568926Z",
     "start_time": "2019-01-28T17:56:23.545721Z"
    }
   },
   "outputs": [
    {
     "data": {
      "text/plain": [
       "False    942695\n",
       "Name: cli_lat, dtype: int64"
      ]
     },
     "execution_count": 170,
     "metadata": {},
     "output_type": "execute_result"
    }
   ],
   "source": [
    "tab.cli_lat.isna().value_counts()"
   ]
  },
  {
   "cell_type": "markdown",
   "metadata": {},
   "source": [
    "### Patient coordinates"
   ]
  },
  {
   "cell_type": "code",
   "execution_count": 171,
   "metadata": {
    "ExecuteTime": {
     "end_time": "2019-01-28T17:56:25.030982Z",
     "start_time": "2019-01-28T17:56:23.574922Z"
    }
   },
   "outputs": [],
   "source": [
    "tab[\"pat_lat\"] = tab.pat_zip.map(lat_dict, na_action='ignore')"
   ]
  },
  {
   "cell_type": "code",
   "execution_count": 172,
   "metadata": {
    "ExecuteTime": {
     "end_time": "2019-01-28T17:56:26.428119Z",
     "start_time": "2019-01-28T17:56:25.035976Z"
    }
   },
   "outputs": [],
   "source": [
    "tab[\"pat_long\"] = tab.pat_zip.map(long_dict, na_action='ignore')"
   ]
  },
  {
   "cell_type": "code",
   "execution_count": 173,
   "metadata": {
    "ExecuteTime": {
     "end_time": "2019-01-28T17:56:26.445257Z",
     "start_time": "2019-01-28T17:56:26.429127Z"
    }
   },
   "outputs": [
    {
     "data": {
      "text/plain": [
       "False    942695\n",
       "Name: pat_long, dtype: int64"
      ]
     },
     "execution_count": 173,
     "metadata": {},
     "output_type": "execute_result"
    }
   ],
   "source": [
    "tab.pat_long.isna().value_counts()"
   ]
  },
  {
   "cell_type": "markdown",
   "metadata": {},
   "source": [
    "### Distance"
   ]
  },
  {
   "cell_type": "code",
   "execution_count": 174,
   "metadata": {
    "ExecuteTime": {
     "end_time": "2019-01-28T17:56:26.458249Z",
     "start_time": "2019-01-28T17:56:26.451253Z"
    }
   },
   "outputs": [],
   "source": [
    "tab = tab.reset_index(drop=True)"
   ]
  },
  {
   "cell_type": "code",
   "execution_count": 176,
   "metadata": {},
   "outputs": [
    {
     "data": {
      "text/html": [
       "<div>\n",
       "<style scoped>\n",
       "    .dataframe tbody tr th:only-of-type {\n",
       "        vertical-align: middle;\n",
       "    }\n",
       "\n",
       "    .dataframe tbody tr th {\n",
       "        vertical-align: top;\n",
       "    }\n",
       "\n",
       "    .dataframe thead th {\n",
       "        text-align: right;\n",
       "    }\n",
       "</style>\n",
       "<table border=\"1\" class=\"dataframe\">\n",
       "  <thead>\n",
       "    <tr style=\"text-align: right;\">\n",
       "      <th></th>\n",
       "      <th>APT_TYPE</th>\n",
       "      <th>APT_DATE</th>\n",
       "      <th>SENT_TIME</th>\n",
       "      <th>RESPONSE</th>\n",
       "      <th>TYPE</th>\n",
       "      <th>net_hour</th>\n",
       "      <th>send_time</th>\n",
       "      <th>CLINIC</th>\n",
       "      <th>city</th>\n",
       "      <th>province</th>\n",
       "      <th>cli_zip</th>\n",
       "      <th>pat_id</th>\n",
       "      <th>family_id</th>\n",
       "      <th>gender</th>\n",
       "      <th>pat_zip</th>\n",
       "      <th>age</th>\n",
       "      <th>fam</th>\n",
       "      <th>cli_lat</th>\n",
       "      <th>cli_long</th>\n",
       "      <th>pat_lat</th>\n",
       "      <th>pat_long</th>\n",
       "    </tr>\n",
       "  </thead>\n",
       "  <tbody>\n",
       "    <tr>\n",
       "      <th>0</th>\n",
       "      <td>general</td>\n",
       "      <td>2019-02-13 12:15:00</td>\n",
       "      <td>2019-02-08 08:06:35</td>\n",
       "      <td>1</td>\n",
       "      <td>Email</td>\n",
       "      <td>-48</td>\n",
       "      <td>08:00:00</td>\n",
       "      <td>121958</td>\n",
       "      <td>Kelowna</td>\n",
       "      <td>BC</td>\n",
       "      <td>V1X7N6</td>\n",
       "      <td>111826</td>\n",
       "      <td>111826</td>\n",
       "      <td>F</td>\n",
       "      <td>V1X1W2</td>\n",
       "      <td>35</td>\n",
       "      <td>1</td>\n",
       "      <td>49.889201</td>\n",
       "      <td>-119.395661</td>\n",
       "      <td>49.886886</td>\n",
       "      <td>-119.385171</td>\n",
       "    </tr>\n",
       "    <tr>\n",
       "      <th>1</th>\n",
       "      <td>blank</td>\n",
       "      <td>2019-01-26 09:00:00</td>\n",
       "      <td>2019-01-12 08:01:47</td>\n",
       "      <td>0</td>\n",
       "      <td>Email</td>\n",
       "      <td>-336</td>\n",
       "      <td>08:00:00</td>\n",
       "      <td>122329</td>\n",
       "      <td>Burlington</td>\n",
       "      <td>ON</td>\n",
       "      <td>L7M4B8</td>\n",
       "      <td>1856</td>\n",
       "      <td>1855</td>\n",
       "      <td>M</td>\n",
       "      <td>L5N5N9</td>\n",
       "      <td>55</td>\n",
       "      <td>1</td>\n",
       "      <td>43.390879</td>\n",
       "      <td>-79.825174</td>\n",
       "      <td>43.588956</td>\n",
       "      <td>-79.778594</td>\n",
       "    </tr>\n",
       "    <tr>\n",
       "      <th>2</th>\n",
       "      <td>scaling 4unit -scprogram.</td>\n",
       "      <td>2017-06-10 11:00:00</td>\n",
       "      <td>2017-06-08 08:00:24</td>\n",
       "      <td>0</td>\n",
       "      <td>Email</td>\n",
       "      <td>-72</td>\n",
       "      <td>08:00:00</td>\n",
       "      <td>121892</td>\n",
       "      <td>Burlington</td>\n",
       "      <td>ON</td>\n",
       "      <td>L7M4E4</td>\n",
       "      <td>279</td>\n",
       "      <td>279</td>\n",
       "      <td>M</td>\n",
       "      <td>L7L6G9</td>\n",
       "      <td>45</td>\n",
       "      <td>3</td>\n",
       "      <td>43.384296</td>\n",
       "      <td>-79.802672</td>\n",
       "      <td>43.399378</td>\n",
       "      <td>-79.791366</td>\n",
       "    </tr>\n",
       "    <tr>\n",
       "      <th>3</th>\n",
       "      <td>perio</td>\n",
       "      <td>2019-02-21 19:15:00</td>\n",
       "      <td>2019-02-07 11:09:36</td>\n",
       "      <td>0</td>\n",
       "      <td>Email</td>\n",
       "      <td>-336</td>\n",
       "      <td>11:00:00</td>\n",
       "      <td>123294</td>\n",
       "      <td>Toronto</td>\n",
       "      <td>ON</td>\n",
       "      <td>M4K1R2</td>\n",
       "      <td>7606</td>\n",
       "      <td>7606</td>\n",
       "      <td>M</td>\n",
       "      <td>M1K1Y2</td>\n",
       "      <td>50</td>\n",
       "      <td>2</td>\n",
       "      <td>43.678680</td>\n",
       "      <td>-79.346175</td>\n",
       "      <td>43.715429</td>\n",
       "      <td>-79.265622</td>\n",
       "    </tr>\n",
       "    <tr>\n",
       "      <th>4</th>\n",
       "      <td>general</td>\n",
       "      <td>2019-01-04 13:00:00</td>\n",
       "      <td>2018-12-28 12:02:48</td>\n",
       "      <td>1</td>\n",
       "      <td>SMS</td>\n",
       "      <td>-168</td>\n",
       "      <td>12:00:00</td>\n",
       "      <td>121945</td>\n",
       "      <td>Calgary</td>\n",
       "      <td>AB</td>\n",
       "      <td>T2N1M7</td>\n",
       "      <td>27444</td>\n",
       "      <td>27441</td>\n",
       "      <td>M</td>\n",
       "      <td>T2N0W5</td>\n",
       "      <td>15</td>\n",
       "      <td>2</td>\n",
       "      <td>51.064404</td>\n",
       "      <td>-114.096480</td>\n",
       "      <td>51.058191</td>\n",
       "      <td>-114.105744</td>\n",
       "    </tr>\n",
       "  </tbody>\n",
       "</table>\n",
       "</div>"
      ],
      "text/plain": [
       "                    APT_TYPE            APT_DATE           SENT_TIME  \\\n",
       "0                    general 2019-02-13 12:15:00 2019-02-08 08:06:35   \n",
       "1                      blank 2019-01-26 09:00:00 2019-01-12 08:01:47   \n",
       "2  scaling 4unit -scprogram. 2017-06-10 11:00:00 2017-06-08 08:00:24   \n",
       "3                      perio 2019-02-21 19:15:00 2019-02-07 11:09:36   \n",
       "4                    general 2019-01-04 13:00:00 2018-12-28 12:02:48   \n",
       "\n",
       "   RESPONSE   TYPE  net_hour send_time  CLINIC        city province cli_zip  \\\n",
       "0         1  Email       -48  08:00:00  121958     Kelowna       BC  V1X7N6   \n",
       "1         0  Email      -336  08:00:00  122329  Burlington       ON  L7M4B8   \n",
       "2         0  Email       -72  08:00:00  121892  Burlington       ON  L7M4E4   \n",
       "3         0  Email      -336  11:00:00  123294     Toronto       ON  M4K1R2   \n",
       "4         1    SMS      -168  12:00:00  121945     Calgary       AB  T2N1M7   \n",
       "\n",
       "   pat_id  family_id gender pat_zip  age  fam    cli_lat    cli_long  \\\n",
       "0  111826     111826      F  V1X1W2   35    1  49.889201 -119.395661   \n",
       "1    1856       1855      M  L5N5N9   55    1  43.390879  -79.825174   \n",
       "2     279        279      M  L7L6G9   45    3  43.384296  -79.802672   \n",
       "3    7606       7606      M  M1K1Y2   50    2  43.678680  -79.346175   \n",
       "4   27444      27441      M  T2N0W5   15    2  51.064404 -114.096480   \n",
       "\n",
       "     pat_lat    pat_long  \n",
       "0  49.886886 -119.385171  \n",
       "1  43.588956  -79.778594  \n",
       "2  43.399378  -79.791366  \n",
       "3  43.715429  -79.265622  \n",
       "4  51.058191 -114.105744  "
      ]
     },
     "execution_count": 176,
     "metadata": {},
     "output_type": "execute_result"
    }
   ],
   "source": [
    "tab.head()"
   ]
  },
  {
   "cell_type": "code",
   "execution_count": 177,
   "metadata": {
    "ExecuteTime": {
     "end_time": "2019-01-28T17:56:26.580698Z",
     "start_time": "2019-01-28T17:56:26.464246Z"
    }
   },
   "outputs": [],
   "source": [
    "import geopy.distance"
   ]
  },
  {
   "cell_type": "code",
   "execution_count": 178,
   "metadata": {
    "ExecuteTime": {
     "end_time": "2019-01-28T17:56:26.983447Z",
     "start_time": "2019-01-28T17:56:26.584696Z"
    }
   },
   "outputs": [
    {
     "data": {
      "text/plain": [
       "0.7966213746268902"
      ]
     },
     "execution_count": 178,
     "metadata": {},
     "output_type": "execute_result"
    }
   ],
   "source": [
    "# test\n",
    "geopy.distance.distance((tab.pat_lat[0], tab.pat_long[0]), (tab.cli_lat[0], tab.cli_long[0])).km"
   ]
  },
  {
   "cell_type": "markdown",
   "metadata": {},
   "source": [
    "np.NaN if pd.isnull(tab.pat_lat[x]) or pd.isnull(tab.pat_lat[x]) or pd.isnull(tab.cli_lat[x]) or pd.isnull(tab.cli_long[x]) else"
   ]
  },
  {
   "cell_type": "code",
   "execution_count": 179,
   "metadata": {
    "ExecuteTime": {
     "end_time": "2019-01-28T17:56:26.985444Z",
     "start_time": "2019-01-28T17:56:11.447Z"
    }
   },
   "outputs": [
    {
     "name": "stdout",
     "output_type": "stream",
     "text": [
      "Wall time: 8min 7s\n"
     ]
    }
   ],
   "source": [
    "%%time\n",
    "tab[\"dist\"] = tab.index.map(lambda x: geopy.distance.distance((tab.pat_lat[x], tab.pat_long[x]), (tab.cli_lat[x], tab.cli_long[x])).km)"
   ]
  },
  {
   "cell_type": "code",
   "execution_count": 180,
   "metadata": {},
   "outputs": [],
   "source": [
    "tab.dist = tab.dist.round(3)"
   ]
  },
  {
   "cell_type": "code",
   "execution_count": 181,
   "metadata": {
    "ExecuteTime": {
     "end_time": "2019-01-28T17:56:26.989443Z",
     "start_time": "2019-01-28T17:56:11.452Z"
    }
   },
   "outputs": [
    {
     "data": {
      "text/plain": [
       "count    942695.0\n",
       "mean         14.0\n",
       "std          83.0\n",
       "min           0.0\n",
       "25%           2.0\n",
       "50%           4.0\n",
       "75%          11.0\n",
       "max        4974.0\n",
       "Name: dist, dtype: float64"
      ]
     },
     "execution_count": 181,
     "metadata": {},
     "output_type": "execute_result"
    }
   ],
   "source": [
    "tab.dist.describe().round()"
   ]
  },
  {
   "cell_type": "code",
   "execution_count": 182,
   "metadata": {
    "ExecuteTime": {
     "end_time": "2019-01-28T17:56:26.992442Z",
     "start_time": "2019-01-28T17:56:11.460Z"
    }
   },
   "outputs": [
    {
     "data": {
      "text/plain": [
       "False    938339\n",
       "True       4356\n",
       "Name: dist, dtype: int64"
      ]
     },
     "execution_count": 182,
     "metadata": {},
     "output_type": "execute_result"
    }
   ],
   "source": [
    "(tab.dist > 250).value_counts()"
   ]
  },
  {
   "cell_type": "code",
   "execution_count": 183,
   "metadata": {
    "ExecuteTime": {
     "end_time": "2019-01-28T17:56:26.995438Z",
     "start_time": "2019-01-28T17:56:11.466Z"
    }
   },
   "outputs": [],
   "source": [
    "# remove outliers\n",
    "tab = tab[tab.dist < 250]"
   ]
  },
  {
   "cell_type": "code",
   "execution_count": 184,
   "metadata": {
    "ExecuteTime": {
     "end_time": "2019-01-28T17:56:26.997437Z",
     "start_time": "2019-01-28T17:56:11.473Z"
    }
   },
   "outputs": [],
   "source": [
    "tab.drop([\"cli_lat\", \"cli_long\", \"pat_lat\", \"pat_long\"], axis=1, inplace=True)"
   ]
  },
  {
   "cell_type": "code",
   "execution_count": 185,
   "metadata": {
    "ExecuteTime": {
     "end_time": "2019-01-28T17:56:26.999436Z",
     "start_time": "2019-01-28T17:56:11.480Z"
    }
   },
   "outputs": [
    {
     "data": {
      "text/html": [
       "<div>\n",
       "<style scoped>\n",
       "    .dataframe tbody tr th:only-of-type {\n",
       "        vertical-align: middle;\n",
       "    }\n",
       "\n",
       "    .dataframe tbody tr th {\n",
       "        vertical-align: top;\n",
       "    }\n",
       "\n",
       "    .dataframe thead th {\n",
       "        text-align: right;\n",
       "    }\n",
       "</style>\n",
       "<table border=\"1\" class=\"dataframe\">\n",
       "  <thead>\n",
       "    <tr style=\"text-align: right;\">\n",
       "      <th></th>\n",
       "      <th>APT_TYPE</th>\n",
       "      <th>APT_DATE</th>\n",
       "      <th>SENT_TIME</th>\n",
       "      <th>RESPONSE</th>\n",
       "      <th>TYPE</th>\n",
       "      <th>net_hour</th>\n",
       "      <th>send_time</th>\n",
       "      <th>CLINIC</th>\n",
       "      <th>city</th>\n",
       "      <th>province</th>\n",
       "      <th>cli_zip</th>\n",
       "      <th>pat_id</th>\n",
       "      <th>family_id</th>\n",
       "      <th>gender</th>\n",
       "      <th>pat_zip</th>\n",
       "      <th>age</th>\n",
       "      <th>fam</th>\n",
       "      <th>dist</th>\n",
       "    </tr>\n",
       "  </thead>\n",
       "  <tbody>\n",
       "    <tr>\n",
       "      <th>0</th>\n",
       "      <td>general</td>\n",
       "      <td>2019-02-13 12:15:00</td>\n",
       "      <td>2019-02-08 08:06:35</td>\n",
       "      <td>1</td>\n",
       "      <td>Email</td>\n",
       "      <td>-48</td>\n",
       "      <td>08:00:00</td>\n",
       "      <td>121958</td>\n",
       "      <td>Kelowna</td>\n",
       "      <td>BC</td>\n",
       "      <td>V1X7N6</td>\n",
       "      <td>111826</td>\n",
       "      <td>111826</td>\n",
       "      <td>F</td>\n",
       "      <td>V1X1W2</td>\n",
       "      <td>35</td>\n",
       "      <td>1</td>\n",
       "      <td>0.797</td>\n",
       "    </tr>\n",
       "    <tr>\n",
       "      <th>1</th>\n",
       "      <td>blank</td>\n",
       "      <td>2019-01-26 09:00:00</td>\n",
       "      <td>2019-01-12 08:01:47</td>\n",
       "      <td>0</td>\n",
       "      <td>Email</td>\n",
       "      <td>-336</td>\n",
       "      <td>08:00:00</td>\n",
       "      <td>122329</td>\n",
       "      <td>Burlington</td>\n",
       "      <td>ON</td>\n",
       "      <td>L7M4B8</td>\n",
       "      <td>1856</td>\n",
       "      <td>1855</td>\n",
       "      <td>M</td>\n",
       "      <td>L5N5N9</td>\n",
       "      <td>55</td>\n",
       "      <td>1</td>\n",
       "      <td>22.327</td>\n",
       "    </tr>\n",
       "    <tr>\n",
       "      <th>2</th>\n",
       "      <td>scaling 4unit -scprogram.</td>\n",
       "      <td>2017-06-10 11:00:00</td>\n",
       "      <td>2017-06-08 08:00:24</td>\n",
       "      <td>0</td>\n",
       "      <td>Email</td>\n",
       "      <td>-72</td>\n",
       "      <td>08:00:00</td>\n",
       "      <td>121892</td>\n",
       "      <td>Burlington</td>\n",
       "      <td>ON</td>\n",
       "      <td>L7M4E4</td>\n",
       "      <td>279</td>\n",
       "      <td>279</td>\n",
       "      <td>M</td>\n",
       "      <td>L7L6G9</td>\n",
       "      <td>45</td>\n",
       "      <td>3</td>\n",
       "      <td>1.910</td>\n",
       "    </tr>\n",
       "    <tr>\n",
       "      <th>3</th>\n",
       "      <td>perio</td>\n",
       "      <td>2019-02-21 19:15:00</td>\n",
       "      <td>2019-02-07 11:09:36</td>\n",
       "      <td>0</td>\n",
       "      <td>Email</td>\n",
       "      <td>-336</td>\n",
       "      <td>11:00:00</td>\n",
       "      <td>123294</td>\n",
       "      <td>Toronto</td>\n",
       "      <td>ON</td>\n",
       "      <td>M4K1R2</td>\n",
       "      <td>7606</td>\n",
       "      <td>7606</td>\n",
       "      <td>M</td>\n",
       "      <td>M1K1Y2</td>\n",
       "      <td>50</td>\n",
       "      <td>2</td>\n",
       "      <td>7.671</td>\n",
       "    </tr>\n",
       "    <tr>\n",
       "      <th>4</th>\n",
       "      <td>general</td>\n",
       "      <td>2019-01-04 13:00:00</td>\n",
       "      <td>2018-12-28 12:02:48</td>\n",
       "      <td>1</td>\n",
       "      <td>SMS</td>\n",
       "      <td>-168</td>\n",
       "      <td>12:00:00</td>\n",
       "      <td>121945</td>\n",
       "      <td>Calgary</td>\n",
       "      <td>AB</td>\n",
       "      <td>T2N1M7</td>\n",
       "      <td>27444</td>\n",
       "      <td>27441</td>\n",
       "      <td>M</td>\n",
       "      <td>T2N0W5</td>\n",
       "      <td>15</td>\n",
       "      <td>2</td>\n",
       "      <td>0.948</td>\n",
       "    </tr>\n",
       "  </tbody>\n",
       "</table>\n",
       "</div>"
      ],
      "text/plain": [
       "                    APT_TYPE            APT_DATE           SENT_TIME  \\\n",
       "0                    general 2019-02-13 12:15:00 2019-02-08 08:06:35   \n",
       "1                      blank 2019-01-26 09:00:00 2019-01-12 08:01:47   \n",
       "2  scaling 4unit -scprogram. 2017-06-10 11:00:00 2017-06-08 08:00:24   \n",
       "3                      perio 2019-02-21 19:15:00 2019-02-07 11:09:36   \n",
       "4                    general 2019-01-04 13:00:00 2018-12-28 12:02:48   \n",
       "\n",
       "   RESPONSE   TYPE  net_hour send_time  CLINIC        city province cli_zip  \\\n",
       "0         1  Email       -48  08:00:00  121958     Kelowna       BC  V1X7N6   \n",
       "1         0  Email      -336  08:00:00  122329  Burlington       ON  L7M4B8   \n",
       "2         0  Email       -72  08:00:00  121892  Burlington       ON  L7M4E4   \n",
       "3         0  Email      -336  11:00:00  123294     Toronto       ON  M4K1R2   \n",
       "4         1    SMS      -168  12:00:00  121945     Calgary       AB  T2N1M7   \n",
       "\n",
       "   pat_id  family_id gender pat_zip  age  fam    dist  \n",
       "0  111826     111826      F  V1X1W2   35    1   0.797  \n",
       "1    1856       1855      M  L5N5N9   55    1  22.327  \n",
       "2     279        279      M  L7L6G9   45    3   1.910  \n",
       "3    7606       7606      M  M1K1Y2   50    2   7.671  \n",
       "4   27444      27441      M  T2N0W5   15    2   0.948  "
      ]
     },
     "execution_count": 185,
     "metadata": {},
     "output_type": "execute_result"
    }
   ],
   "source": [
    "tab.head()"
   ]
  },
  {
   "cell_type": "markdown",
   "metadata": {},
   "source": [
    "## Area type - urban/rural"
   ]
  },
  {
   "cell_type": "markdown",
   "metadata": {},
   "source": [
    "### Areas"
   ]
  },
  {
   "cell_type": "code",
   "execution_count": 186,
   "metadata": {
    "ExecuteTime": {
     "end_time": "2019-01-28T17:56:27.001434Z",
     "start_time": "2019-01-28T17:56:11.487Z"
    }
   },
   "outputs": [],
   "source": [
    "city_dict = pd.Series(zips.AreaType.values, index=zips.PostalCode).to_dict()"
   ]
  },
  {
   "cell_type": "markdown",
   "metadata": {},
   "source": [
    "### Clinic area"
   ]
  },
  {
   "cell_type": "code",
   "execution_count": 187,
   "metadata": {
    "ExecuteTime": {
     "end_time": "2019-01-28T17:56:27.003435Z",
     "start_time": "2019-01-28T17:56:11.499Z"
    }
   },
   "outputs": [],
   "source": [
    "tab[\"cli_area\"] = tab[\"cli_zip\"].map(city_dict, na_action='ignore')"
   ]
  },
  {
   "cell_type": "code",
   "execution_count": 188,
   "metadata": {
    "ExecuteTime": {
     "end_time": "2019-01-28T17:56:27.005431Z",
     "start_time": "2019-01-28T17:56:11.507Z"
    }
   },
   "outputs": [
    {
     "data": {
      "image/png": "[encoded data removed]",
      "text/plain": [
       "<Figure size 432x288 with 1 Axes>"
      ]
     },
     "metadata": {},
     "output_type": "display_data"
    }
   ],
   "source": [
    "tab.cli_area.value_counts().plot.pie(autopct='%1.0f%%');"
   ]
  },
  {
   "cell_type": "markdown",
   "metadata": {},
   "source": [
    "### Patient area"
   ]
  },
  {
   "cell_type": "code",
   "execution_count": 189,
   "metadata": {
    "ExecuteTime": {
     "end_time": "2019-01-28T17:56:27.003435Z",
     "start_time": "2019-01-28T17:56:11.499Z"
    }
   },
   "outputs": [],
   "source": [
    "tab[\"pat_area\"] = tab[\"pat_zip\"].map(city_dict, na_action='ignore')"
   ]
  },
  {
   "cell_type": "code",
   "execution_count": 190,
   "metadata": {
    "ExecuteTime": {
     "end_time": "2019-01-28T17:56:27.005431Z",
     "start_time": "2019-01-28T17:56:11.507Z"
    }
   },
   "outputs": [
    {
     "data": {
      "image/png": "[encoded data removed]",
      "text/plain": [
       "<Figure size 432x288 with 1 Axes>"
      ]
     },
     "metadata": {},
     "output_type": "display_data"
    }
   ],
   "source": [
    "tab.pat_area.value_counts().plot.pie(autopct='%1.0f%%');"
   ]
  },
  {
   "cell_type": "code",
   "execution_count": 191,
   "metadata": {},
   "outputs": [
    {
     "data": {
      "text/plain": [
       "True     862983\n",
       "False     75356\n",
       "dtype: int64"
      ]
     },
     "execution_count": 191,
     "metadata": {},
     "output_type": "execute_result"
    }
   ],
   "source": [
    "(tab.cli_area == tab.pat_area).value_counts()"
   ]
  },
  {
   "cell_type": "code",
   "execution_count": 192,
   "metadata": {},
   "outputs": [],
   "source": [
    "tab.drop(\"pat_zip\", axis=1, inplace=True)"
   ]
  },
  {
   "cell_type": "markdown",
   "metadata": {},
   "source": [
    "## Size of the clinic"
   ]
  },
  {
   "cell_type": "code",
   "execution_count": 193,
   "metadata": {
    "ExecuteTime": {
     "end_time": "2019-01-28T17:56:27.008429Z",
     "start_time": "2019-01-28T17:56:11.523Z"
    }
   },
   "outputs": [
    {
     "name": "stdout",
     "output_type": "stream",
     "text": [
      "Wall time: 424 ms\n"
     ]
    }
   ],
   "source": [
    "%%time\n",
    "cli_dict = tab.groupby(\"CLINIC\")[\"pat_id\"].nunique().to_dict()"
   ]
  },
  {
   "cell_type": "code",
   "execution_count": 194,
   "metadata": {
    "ExecuteTime": {
     "end_time": "2019-01-28T17:56:27.014833Z",
     "start_time": "2019-01-28T17:56:11.535Z"
    }
   },
   "outputs": [
    {
     "data": {
      "text/plain": [
       "CLINIC\n",
       "4        732\n",
       "8        111\n",
       "10        78\n",
       "22       614\n",
       "23       657\n",
       "81       270\n",
       "159      109\n",
       "10001    299\n",
       "10022     85\n",
       "10023     43\n",
       "Name: pat_id, dtype: int64"
      ]
     },
     "execution_count": 194,
     "metadata": {},
     "output_type": "execute_result"
    }
   ],
   "source": [
    "# shows head of cli_dict\n",
    "tab.groupby(\"CLINIC\")[\"pat_id\"].nunique().head(10)"
   ]
  },
  {
   "cell_type": "code",
   "execution_count": 195,
   "metadata": {
    "ExecuteTime": {
     "end_time": "2019-01-28T17:56:27.016425Z",
     "start_time": "2019-01-28T17:56:11.542Z"
    }
   },
   "outputs": [],
   "source": [
    "tab[\"cli_size\"] = tab.CLINIC.map(cli_dict)"
   ]
  },
  {
   "cell_type": "code",
   "execution_count": 196,
   "metadata": {},
   "outputs": [
    {
     "data": {
      "text/plain": [
       "count    938339.0\n",
       "mean       1462.0\n",
       "std        1082.0\n",
       "min           7.0\n",
       "25%         674.0\n",
       "50%        1218.0\n",
       "75%        1956.0\n",
       "max        4735.0\n",
       "Name: cli_size, dtype: float64"
      ]
     },
     "execution_count": 196,
     "metadata": {},
     "output_type": "execute_result"
    }
   ],
   "source": [
    "tab.cli_size.describe().round()"
   ]
  },
  {
   "cell_type": "code",
   "execution_count": 197,
   "metadata": {
    "ExecuteTime": {
     "end_time": "2019-01-28T17:56:27.019425Z",
     "start_time": "2019-01-28T17:56:11.548Z"
    }
   },
   "outputs": [
    {
     "data": {
      "image/png": "[encoded data removed]",
      "text/plain": [
       "<Figure size 1296x432 with 1 Axes>"
      ]
     },
     "metadata": {
      "needs_background": "light"
     },
     "output_type": "display_data"
    }
   ],
   "source": [
    "plt.figure(figsize=(18,6))\n",
    "tab.cli_size.plot.hist(50);"
   ]
  },
  {
   "cell_type": "markdown",
   "metadata": {},
   "source": [
    "## Unique pat_id"
   ]
  },
  {
   "cell_type": "code",
   "execution_count": 198,
   "metadata": {},
   "outputs": [],
   "source": [
    "tab[\"pat_uid\"] = tab.CLINIC.astype(str) + \"-\" + tab.pat_id.astype(str)"
   ]
  },
  {
   "cell_type": "code",
   "execution_count": 199,
   "metadata": {},
   "outputs": [],
   "source": [
    "tab['pat_uid'] = pd.factorize(tab.pat_uid)[0] + 1"
   ]
  },
  {
   "cell_type": "code",
   "execution_count": 200,
   "metadata": {},
   "outputs": [
    {
     "data": {
      "text/plain": [
       "435133"
      ]
     },
     "execution_count": 200,
     "metadata": {},
     "output_type": "execute_result"
    }
   ],
   "source": [
    "len(tab.pat_uid.unique())"
   ]
  },
  {
   "cell_type": "code",
   "execution_count": 201,
   "metadata": {},
   "outputs": [],
   "source": [
    "tab.pat_id = tab.pat_uid"
   ]
  },
  {
   "cell_type": "code",
   "execution_count": 202,
   "metadata": {},
   "outputs": [],
   "source": [
    "tab.drop(\"pat_uid\", axis=1, inplace=True)"
   ]
  },
  {
   "cell_type": "markdown",
   "metadata": {},
   "source": [
    "## Unique family_id"
   ]
  },
  {
   "cell_type": "code",
   "execution_count": 203,
   "metadata": {},
   "outputs": [],
   "source": [
    "tab[\"fam_uid\"] = tab.CLINIC.astype(str) + \"-\" + tab.family_id.astype(str)"
   ]
  },
  {
   "cell_type": "code",
   "execution_count": 204,
   "metadata": {},
   "outputs": [],
   "source": [
    "tab['fam_uid'] = pd.factorize(tab.fam_uid)[0] + 1"
   ]
  },
  {
   "cell_type": "code",
   "execution_count": 205,
   "metadata": {},
   "outputs": [
    {
     "data": {
      "text/plain": [
       "330468"
      ]
     },
     "execution_count": 205,
     "metadata": {},
     "output_type": "execute_result"
    }
   ],
   "source": [
    "len(tab.fam_uid.unique())"
   ]
  },
  {
   "cell_type": "code",
   "execution_count": 206,
   "metadata": {},
   "outputs": [],
   "source": [
    "tab.family_id = tab.fam_uid"
   ]
  },
  {
   "cell_type": "code",
   "execution_count": 207,
   "metadata": {},
   "outputs": [],
   "source": [
    "tab.drop(\"fam_uid\", axis=1, inplace=True)"
   ]
  },
  {
   "cell_type": "markdown",
   "metadata": {},
   "source": [
    "# Export - all data"
   ]
  },
  {
   "cell_type": "code",
   "execution_count": 209,
   "metadata": {},
   "outputs": [
    {
     "data": {
      "text/plain": [
       "(938339, 20)"
      ]
     },
     "execution_count": 209,
     "metadata": {},
     "output_type": "execute_result"
    }
   ],
   "source": [
    "tab.shape"
   ]
  },
  {
   "cell_type": "code",
   "execution_count": 210,
   "metadata": {},
   "outputs": [],
   "source": [
    "# all the variables lowercase\n",
    "tab.columns = tab.columns.str.lower()"
   ]
  },
  {
   "cell_type": "code",
   "execution_count": 211,
   "metadata": {},
   "outputs": [
    {
     "data": {
      "text/html": [
       "<div>\n",
       "<style scoped>\n",
       "    .dataframe tbody tr th:only-of-type {\n",
       "        vertical-align: middle;\n",
       "    }\n",
       "\n",
       "    .dataframe tbody tr th {\n",
       "        vertical-align: top;\n",
       "    }\n",
       "\n",
       "    .dataframe thead th {\n",
       "        text-align: right;\n",
       "    }\n",
       "</style>\n",
       "<table border=\"1\" class=\"dataframe\">\n",
       "  <thead>\n",
       "    <tr style=\"text-align: right;\">\n",
       "      <th></th>\n",
       "      <th>apt_type</th>\n",
       "      <th>apt_date</th>\n",
       "      <th>sent_time</th>\n",
       "      <th>response</th>\n",
       "      <th>type</th>\n",
       "      <th>net_hour</th>\n",
       "      <th>send_time</th>\n",
       "      <th>clinic</th>\n",
       "      <th>city</th>\n",
       "      <th>province</th>\n",
       "      <th>cli_zip</th>\n",
       "      <th>pat_id</th>\n",
       "      <th>family_id</th>\n",
       "      <th>gender</th>\n",
       "      <th>age</th>\n",
       "      <th>fam</th>\n",
       "      <th>dist</th>\n",
       "      <th>cli_area</th>\n",
       "      <th>pat_area</th>\n",
       "      <th>cli_size</th>\n",
       "    </tr>\n",
       "  </thead>\n",
       "  <tbody>\n",
       "    <tr>\n",
       "      <th>0</th>\n",
       "      <td>general</td>\n",
       "      <td>2019-02-13 12:15:00</td>\n",
       "      <td>2019-02-08 08:06:35</td>\n",
       "      <td>1</td>\n",
       "      <td>Email</td>\n",
       "      <td>-48</td>\n",
       "      <td>08:00:00</td>\n",
       "      <td>121958</td>\n",
       "      <td>Kelowna</td>\n",
       "      <td>BC</td>\n",
       "      <td>V1X7N6</td>\n",
       "      <td>1</td>\n",
       "      <td>1</td>\n",
       "      <td>F</td>\n",
       "      <td>35</td>\n",
       "      <td>1</td>\n",
       "      <td>0.797</td>\n",
       "      <td>Urban</td>\n",
       "      <td>Urban</td>\n",
       "      <td>1011</td>\n",
       "    </tr>\n",
       "    <tr>\n",
       "      <th>1</th>\n",
       "      <td>blank</td>\n",
       "      <td>2019-01-26 09:00:00</td>\n",
       "      <td>2019-01-12 08:01:47</td>\n",
       "      <td>0</td>\n",
       "      <td>Email</td>\n",
       "      <td>-336</td>\n",
       "      <td>08:00:00</td>\n",
       "      <td>122329</td>\n",
       "      <td>Burlington</td>\n",
       "      <td>ON</td>\n",
       "      <td>L7M4B8</td>\n",
       "      <td>2</td>\n",
       "      <td>2</td>\n",
       "      <td>M</td>\n",
       "      <td>55</td>\n",
       "      <td>1</td>\n",
       "      <td>22.327</td>\n",
       "      <td>Urban</td>\n",
       "      <td>Urban</td>\n",
       "      <td>513</td>\n",
       "    </tr>\n",
       "    <tr>\n",
       "      <th>2</th>\n",
       "      <td>scaling 4unit -scprogram.</td>\n",
       "      <td>2017-06-10 11:00:00</td>\n",
       "      <td>2017-06-08 08:00:24</td>\n",
       "      <td>0</td>\n",
       "      <td>Email</td>\n",
       "      <td>-72</td>\n",
       "      <td>08:00:00</td>\n",
       "      <td>121892</td>\n",
       "      <td>Burlington</td>\n",
       "      <td>ON</td>\n",
       "      <td>L7M4E4</td>\n",
       "      <td>3</td>\n",
       "      <td>3</td>\n",
       "      <td>M</td>\n",
       "      <td>45</td>\n",
       "      <td>3</td>\n",
       "      <td>1.910</td>\n",
       "      <td>Urban</td>\n",
       "      <td>Urban</td>\n",
       "      <td>284</td>\n",
       "    </tr>\n",
       "    <tr>\n",
       "      <th>3</th>\n",
       "      <td>perio</td>\n",
       "      <td>2019-02-21 19:15:00</td>\n",
       "      <td>2019-02-07 11:09:36</td>\n",
       "      <td>0</td>\n",
       "      <td>Email</td>\n",
       "      <td>-336</td>\n",
       "      <td>11:00:00</td>\n",
       "      <td>123294</td>\n",
       "      <td>Toronto</td>\n",
       "      <td>ON</td>\n",
       "      <td>M4K1R2</td>\n",
       "      <td>4</td>\n",
       "      <td>4</td>\n",
       "      <td>M</td>\n",
       "      <td>50</td>\n",
       "      <td>2</td>\n",
       "      <td>7.671</td>\n",
       "      <td>Urban</td>\n",
       "      <td>Urban</td>\n",
       "      <td>1635</td>\n",
       "    </tr>\n",
       "    <tr>\n",
       "      <th>4</th>\n",
       "      <td>general</td>\n",
       "      <td>2019-01-04 13:00:00</td>\n",
       "      <td>2018-12-28 12:02:48</td>\n",
       "      <td>1</td>\n",
       "      <td>SMS</td>\n",
       "      <td>-168</td>\n",
       "      <td>12:00:00</td>\n",
       "      <td>121945</td>\n",
       "      <td>Calgary</td>\n",
       "      <td>AB</td>\n",
       "      <td>T2N1M7</td>\n",
       "      <td>5</td>\n",
       "      <td>5</td>\n",
       "      <td>M</td>\n",
       "      <td>15</td>\n",
       "      <td>2</td>\n",
       "      <td>0.948</td>\n",
       "      <td>Urban</td>\n",
       "      <td>Urban</td>\n",
       "      <td>1430</td>\n",
       "    </tr>\n",
       "  </tbody>\n",
       "</table>\n",
       "</div>"
      ],
      "text/plain": [
       "                    apt_type            apt_date           sent_time  \\\n",
       "0                    general 2019-02-13 12:15:00 2019-02-08 08:06:35   \n",
       "1                      blank 2019-01-26 09:00:00 2019-01-12 08:01:47   \n",
       "2  scaling 4unit -scprogram. 2017-06-10 11:00:00 2017-06-08 08:00:24   \n",
       "3                      perio 2019-02-21 19:15:00 2019-02-07 11:09:36   \n",
       "4                    general 2019-01-04 13:00:00 2018-12-28 12:02:48   \n",
       "\n",
       "   response   type  net_hour send_time  clinic        city province cli_zip  \\\n",
       "0         1  Email       -48  08:00:00  121958     Kelowna       BC  V1X7N6   \n",
       "1         0  Email      -336  08:00:00  122329  Burlington       ON  L7M4B8   \n",
       "2         0  Email       -72  08:00:00  121892  Burlington       ON  L7M4E4   \n",
       "3         0  Email      -336  11:00:00  123294     Toronto       ON  M4K1R2   \n",
       "4         1    SMS      -168  12:00:00  121945     Calgary       AB  T2N1M7   \n",
       "\n",
       "   pat_id  family_id gender  age  fam    dist cli_area pat_area  cli_size  \n",
       "0       1          1      F   35    1   0.797    Urban    Urban      1011  \n",
       "1       2          2      M   55    1  22.327    Urban    Urban       513  \n",
       "2       3          3      M   45    3   1.910    Urban    Urban       284  \n",
       "3       4          4      M   50    2   7.671    Urban    Urban      1635  \n",
       "4       5          5      M   15    2   0.948    Urban    Urban      1430  "
      ]
     },
     "execution_count": 211,
     "metadata": {},
     "output_type": "execute_result"
    }
   ],
   "source": [
    "tab.head()"
   ]
  },
  {
   "cell_type": "markdown",
   "metadata": {},
   "source": [
    "## Column names and order"
   ]
  },
  {
   "cell_type": "code",
   "execution_count": 212,
   "metadata": {},
   "outputs": [
    {
     "data": {
      "text/plain": [
       "(938339, 20)"
      ]
     },
     "execution_count": 212,
     "metadata": {},
     "output_type": "execute_result"
    }
   ],
   "source": [
    "tab.shape"
   ]
  },
  {
   "cell_type": "code",
   "execution_count": 213,
   "metadata": {},
   "outputs": [
    {
     "data": {
      "text/plain": [
       "Index(['apt_type', 'apt_date', 'sent_time', 'response', 'type', 'net_hour',\n",
       "       'send_time', 'clinic', 'city', 'province', 'cli_zip', 'pat_id',\n",
       "       'family_id', 'gender', 'age', 'fam', 'dist', 'cli_area', 'pat_area',\n",
       "       'cli_size'],\n",
       "      dtype='object')"
      ]
     },
     "execution_count": 213,
     "metadata": {},
     "output_type": "execute_result"
    }
   ],
   "source": [
    "tab.columns"
   ]
  },
  {
   "cell_type": "code",
   "execution_count": 214,
   "metadata": {},
   "outputs": [],
   "source": [
    "tab = tab[[  'response', 'apt_type', 'apt_date', 'sent_time', 'send_time', 'net_hour', 'type',\n",
    "               'clinic', 'city', 'province', 'cli_zip', 'cli_area', 'cli_size',\n",
    "               'pat_id', 'family_id', 'fam', 'gender', 'age', 'pat_area', 'dist'\n",
    "            ]]"
   ]
  },
  {
   "cell_type": "markdown",
   "metadata": {},
   "source": [
    "## Shuffle"
   ]
  },
  {
   "cell_type": "code",
   "execution_count": 215,
   "metadata": {},
   "outputs": [],
   "source": [
    "tab = shuffle(tab)"
   ]
  },
  {
   "cell_type": "code",
   "execution_count": 216,
   "metadata": {},
   "outputs": [],
   "source": [
    "tab.reset_index(inplace=True, drop=True)"
   ]
  },
  {
   "cell_type": "code",
   "execution_count": 217,
   "metadata": {},
   "outputs": [
    {
     "data": {
      "text/html": [
       "<div>\n",
       "<style scoped>\n",
       "    .dataframe tbody tr th:only-of-type {\n",
       "        vertical-align: middle;\n",
       "    }\n",
       "\n",
       "    .dataframe tbody tr th {\n",
       "        vertical-align: top;\n",
       "    }\n",
       "\n",
       "    .dataframe thead th {\n",
       "        text-align: right;\n",
       "    }\n",
       "</style>\n",
       "<table border=\"1\" class=\"dataframe\">\n",
       "  <thead>\n",
       "    <tr style=\"text-align: right;\">\n",
       "      <th></th>\n",
       "      <th>response</th>\n",
       "      <th>apt_type</th>\n",
       "      <th>apt_date</th>\n",
       "      <th>sent_time</th>\n",
       "      <th>send_time</th>\n",
       "      <th>net_hour</th>\n",
       "      <th>type</th>\n",
       "      <th>clinic</th>\n",
       "      <th>city</th>\n",
       "      <th>province</th>\n",
       "      <th>cli_zip</th>\n",
       "      <th>cli_area</th>\n",
       "      <th>cli_size</th>\n",
       "      <th>pat_id</th>\n",
       "      <th>family_id</th>\n",
       "      <th>fam</th>\n",
       "      <th>gender</th>\n",
       "      <th>age</th>\n",
       "      <th>pat_area</th>\n",
       "      <th>dist</th>\n",
       "    </tr>\n",
       "  </thead>\n",
       "  <tbody>\n",
       "    <tr>\n",
       "      <th>0</th>\n",
       "      <td>1</td>\n",
       "      <td>recall</td>\n",
       "      <td>2017-09-18 13:00:00</td>\n",
       "      <td>2017-09-14 19:03:03</td>\n",
       "      <td>17:30:00</td>\n",
       "      <td>-48</td>\n",
       "      <td>Voice</td>\n",
       "      <td>20758</td>\n",
       "      <td>Moncton</td>\n",
       "      <td>NB</td>\n",
       "      <td>E1E4C9</td>\n",
       "      <td>Urban</td>\n",
       "      <td>1239</td>\n",
       "      <td>427789</td>\n",
       "      <td>291683</td>\n",
       "      <td>3</td>\n",
       "      <td>M</td>\n",
       "      <td>20</td>\n",
       "      <td>Urban</td>\n",
       "      <td>65.929</td>\n",
       "    </tr>\n",
       "    <tr>\n",
       "      <th>1</th>\n",
       "      <td>0</td>\n",
       "      <td>6mth-rc</td>\n",
       "      <td>2017-09-06 17:00:00</td>\n",
       "      <td>2017-08-31 18:00:54</td>\n",
       "      <td>18:00:00</td>\n",
       "      <td>-72</td>\n",
       "      <td>Voice</td>\n",
       "      <td>122500</td>\n",
       "      <td>Port Coquitlam</td>\n",
       "      <td>BC</td>\n",
       "      <td>V3B5Y9</td>\n",
       "      <td>Urban</td>\n",
       "      <td>691</td>\n",
       "      <td>172834</td>\n",
       "      <td>49762</td>\n",
       "      <td>4</td>\n",
       "      <td>M</td>\n",
       "      <td>20</td>\n",
       "      <td>Urban</td>\n",
       "      <td>4.104</td>\n",
       "    </tr>\n",
       "    <tr>\n",
       "      <th>2</th>\n",
       "      <td>0</td>\n",
       "      <td>endo</td>\n",
       "      <td>2017-05-02 18:00:00</td>\n",
       "      <td>2017-04-28 10:12:42</td>\n",
       "      <td>10:00:00</td>\n",
       "      <td>-48</td>\n",
       "      <td>Email</td>\n",
       "      <td>20153</td>\n",
       "      <td>Nanaimo</td>\n",
       "      <td>BC</td>\n",
       "      <td>V9T4B5</td>\n",
       "      <td>Urban</td>\n",
       "      <td>1168</td>\n",
       "      <td>132074</td>\n",
       "      <td>101158</td>\n",
       "      <td>4</td>\n",
       "      <td>M</td>\n",
       "      <td>15</td>\n",
       "      <td>Rural</td>\n",
       "      <td>9.246</td>\n",
       "    </tr>\n",
       "    <tr>\n",
       "      <th>3</th>\n",
       "      <td>0</td>\n",
       "      <td>productive</td>\n",
       "      <td>2018-05-30 09:10:00</td>\n",
       "      <td>2018-05-28 09:00:37</td>\n",
       "      <td>09:00:00</td>\n",
       "      <td>-48</td>\n",
       "      <td>SMS</td>\n",
       "      <td>122335</td>\n",
       "      <td>Casselman</td>\n",
       "      <td>ON</td>\n",
       "      <td>K0A1M0</td>\n",
       "      <td>Rural</td>\n",
       "      <td>3425</td>\n",
       "      <td>145832</td>\n",
       "      <td>39367</td>\n",
       "      <td>4</td>\n",
       "      <td>F</td>\n",
       "      <td>50</td>\n",
       "      <td>Rural</td>\n",
       "      <td>10.693</td>\n",
       "    </tr>\n",
       "    <tr>\n",
       "      <th>4</th>\n",
       "      <td>0</td>\n",
       "      <td>filling</td>\n",
       "      <td>2019-02-04 08:00:00</td>\n",
       "      <td>2019-01-31 15:14:07</td>\n",
       "      <td>11:00:00</td>\n",
       "      <td>-48</td>\n",
       "      <td>SMS</td>\n",
       "      <td>143632</td>\n",
       "      <td>Etobicoke</td>\n",
       "      <td>ON</td>\n",
       "      <td>M8W3V5</td>\n",
       "      <td>Urban</td>\n",
       "      <td>274</td>\n",
       "      <td>88996</td>\n",
       "      <td>82480</td>\n",
       "      <td>2</td>\n",
       "      <td>F</td>\n",
       "      <td>65</td>\n",
       "      <td>Urban</td>\n",
       "      <td>6.937</td>\n",
       "    </tr>\n",
       "  </tbody>\n",
       "</table>\n",
       "</div>"
      ],
      "text/plain": [
       "   response    apt_type            apt_date           sent_time send_time  \\\n",
       "0         1      recall 2017-09-18 13:00:00 2017-09-14 19:03:03  17:30:00   \n",
       "1         0     6mth-rc 2017-09-06 17:00:00 2017-08-31 18:00:54  18:00:00   \n",
       "2         0        endo 2017-05-02 18:00:00 2017-04-28 10:12:42  10:00:00   \n",
       "3         0  productive 2018-05-30 09:10:00 2018-05-28 09:00:37  09:00:00   \n",
       "4         0     filling 2019-02-04 08:00:00 2019-01-31 15:14:07  11:00:00   \n",
       "\n",
       "   net_hour   type  clinic            city province cli_zip cli_area  \\\n",
       "0       -48  Voice   20758         Moncton       NB  E1E4C9    Urban   \n",
       "1       -72  Voice  122500  Port Coquitlam       BC  V3B5Y9    Urban   \n",
       "2       -48  Email   20153         Nanaimo       BC  V9T4B5    Urban   \n",
       "3       -48    SMS  122335       Casselman       ON  K0A1M0    Rural   \n",
       "4       -48    SMS  143632       Etobicoke       ON  M8W3V5    Urban   \n",
       "\n",
       "   cli_size  pat_id  family_id  fam gender  age pat_area    dist  \n",
       "0      1239  427789     291683    3      M   20    Urban  65.929  \n",
       "1       691  172834      49762    4      M   20    Urban   4.104  \n",
       "2      1168  132074     101158    4      M   15    Rural   9.246  \n",
       "3      3425  145832      39367    4      F   50    Rural  10.693  \n",
       "4       274   88996      82480    2      F   65    Urban   6.937  "
      ]
     },
     "execution_count": 217,
     "metadata": {},
     "output_type": "execute_result"
    }
   ],
   "source": [
    "tab.head()"
   ]
  },
  {
   "cell_type": "markdown",
   "metadata": {},
   "source": [
    "## Export"
   ]
  },
  {
   "cell_type": "code",
   "execution_count": 218,
   "metadata": {},
   "outputs": [],
   "source": [
    "tab.to_csv(\"export/tab10.csv\")"
   ]
  },
  {
   "cell_type": "markdown",
   "metadata": {},
   "source": [
    "# Train, test"
   ]
  },
  {
   "cell_type": "markdown",
   "metadata": {},
   "source": [
    "## Load"
   ]
  },
  {
   "cell_type": "code",
   "execution_count": 219,
   "metadata": {},
   "outputs": [],
   "source": [
    "data = tab.copy()"
   ]
  },
  {
   "cell_type": "code",
   "execution_count": 220,
   "metadata": {},
   "outputs": [
    {
     "data": {
      "text/html": [
       "<div>\n",
       "<style scoped>\n",
       "    .dataframe tbody tr th:only-of-type {\n",
       "        vertical-align: middle;\n",
       "    }\n",
       "\n",
       "    .dataframe tbody tr th {\n",
       "        vertical-align: top;\n",
       "    }\n",
       "\n",
       "    .dataframe thead th {\n",
       "        text-align: right;\n",
       "    }\n",
       "</style>\n",
       "<table border=\"1\" class=\"dataframe\">\n",
       "  <thead>\n",
       "    <tr style=\"text-align: right;\">\n",
       "      <th></th>\n",
       "      <th>response</th>\n",
       "      <th>apt_type</th>\n",
       "      <th>apt_date</th>\n",
       "      <th>sent_time</th>\n",
       "      <th>send_time</th>\n",
       "      <th>net_hour</th>\n",
       "      <th>type</th>\n",
       "      <th>clinic</th>\n",
       "      <th>city</th>\n",
       "      <th>province</th>\n",
       "      <th>cli_zip</th>\n",
       "      <th>cli_area</th>\n",
       "      <th>cli_size</th>\n",
       "      <th>pat_id</th>\n",
       "      <th>family_id</th>\n",
       "      <th>fam</th>\n",
       "      <th>gender</th>\n",
       "      <th>age</th>\n",
       "      <th>pat_area</th>\n",
       "      <th>dist</th>\n",
       "    </tr>\n",
       "  </thead>\n",
       "  <tbody>\n",
       "    <tr>\n",
       "      <th>0</th>\n",
       "      <td>1</td>\n",
       "      <td>recall</td>\n",
       "      <td>2017-09-18 13:00:00</td>\n",
       "      <td>2017-09-14 19:03:03</td>\n",
       "      <td>17:30:00</td>\n",
       "      <td>-48</td>\n",
       "      <td>Voice</td>\n",
       "      <td>20758</td>\n",
       "      <td>Moncton</td>\n",
       "      <td>NB</td>\n",
       "      <td>E1E4C9</td>\n",
       "      <td>Urban</td>\n",
       "      <td>1239</td>\n",
       "      <td>427789</td>\n",
       "      <td>291683</td>\n",
       "      <td>3</td>\n",
       "      <td>M</td>\n",
       "      <td>20</td>\n",
       "      <td>Urban</td>\n",
       "      <td>65.929</td>\n",
       "    </tr>\n",
       "    <tr>\n",
       "      <th>1</th>\n",
       "      <td>0</td>\n",
       "      <td>6mth-rc</td>\n",
       "      <td>2017-09-06 17:00:00</td>\n",
       "      <td>2017-08-31 18:00:54</td>\n",
       "      <td>18:00:00</td>\n",
       "      <td>-72</td>\n",
       "      <td>Voice</td>\n",
       "      <td>122500</td>\n",
       "      <td>Port Coquitlam</td>\n",
       "      <td>BC</td>\n",
       "      <td>V3B5Y9</td>\n",
       "      <td>Urban</td>\n",
       "      <td>691</td>\n",
       "      <td>172834</td>\n",
       "      <td>49762</td>\n",
       "      <td>4</td>\n",
       "      <td>M</td>\n",
       "      <td>20</td>\n",
       "      <td>Urban</td>\n",
       "      <td>4.104</td>\n",
       "    </tr>\n",
       "    <tr>\n",
       "      <th>2</th>\n",
       "      <td>0</td>\n",
       "      <td>endo</td>\n",
       "      <td>2017-05-02 18:00:00</td>\n",
       "      <td>2017-04-28 10:12:42</td>\n",
       "      <td>10:00:00</td>\n",
       "      <td>-48</td>\n",
       "      <td>Email</td>\n",
       "      <td>20153</td>\n",
       "      <td>Nanaimo</td>\n",
       "      <td>BC</td>\n",
       "      <td>V9T4B5</td>\n",
       "      <td>Urban</td>\n",
       "      <td>1168</td>\n",
       "      <td>132074</td>\n",
       "      <td>101158</td>\n",
       "      <td>4</td>\n",
       "      <td>M</td>\n",
       "      <td>15</td>\n",
       "      <td>Rural</td>\n",
       "      <td>9.246</td>\n",
       "    </tr>\n",
       "    <tr>\n",
       "      <th>3</th>\n",
       "      <td>0</td>\n",
       "      <td>productive</td>\n",
       "      <td>2018-05-30 09:10:00</td>\n",
       "      <td>2018-05-28 09:00:37</td>\n",
       "      <td>09:00:00</td>\n",
       "      <td>-48</td>\n",
       "      <td>SMS</td>\n",
       "      <td>122335</td>\n",
       "      <td>Casselman</td>\n",
       "      <td>ON</td>\n",
       "      <td>K0A1M0</td>\n",
       "      <td>Rural</td>\n",
       "      <td>3425</td>\n",
       "      <td>145832</td>\n",
       "      <td>39367</td>\n",
       "      <td>4</td>\n",
       "      <td>F</td>\n",
       "      <td>50</td>\n",
       "      <td>Rural</td>\n",
       "      <td>10.693</td>\n",
       "    </tr>\n",
       "    <tr>\n",
       "      <th>4</th>\n",
       "      <td>0</td>\n",
       "      <td>filling</td>\n",
       "      <td>2019-02-04 08:00:00</td>\n",
       "      <td>2019-01-31 15:14:07</td>\n",
       "      <td>11:00:00</td>\n",
       "      <td>-48</td>\n",
       "      <td>SMS</td>\n",
       "      <td>143632</td>\n",
       "      <td>Etobicoke</td>\n",
       "      <td>ON</td>\n",
       "      <td>M8W3V5</td>\n",
       "      <td>Urban</td>\n",
       "      <td>274</td>\n",
       "      <td>88996</td>\n",
       "      <td>82480</td>\n",
       "      <td>2</td>\n",
       "      <td>F</td>\n",
       "      <td>65</td>\n",
       "      <td>Urban</td>\n",
       "      <td>6.937</td>\n",
       "    </tr>\n",
       "  </tbody>\n",
       "</table>\n",
       "</div>"
      ],
      "text/plain": [
       "   response    apt_type            apt_date           sent_time send_time  \\\n",
       "0         1      recall 2017-09-18 13:00:00 2017-09-14 19:03:03  17:30:00   \n",
       "1         0     6mth-rc 2017-09-06 17:00:00 2017-08-31 18:00:54  18:00:00   \n",
       "2         0        endo 2017-05-02 18:00:00 2017-04-28 10:12:42  10:00:00   \n",
       "3         0  productive 2018-05-30 09:10:00 2018-05-28 09:00:37  09:00:00   \n",
       "4         0     filling 2019-02-04 08:00:00 2019-01-31 15:14:07  11:00:00   \n",
       "\n",
       "   net_hour   type  clinic            city province cli_zip cli_area  \\\n",
       "0       -48  Voice   20758         Moncton       NB  E1E4C9    Urban   \n",
       "1       -72  Voice  122500  Port Coquitlam       BC  V3B5Y9    Urban   \n",
       "2       -48  Email   20153         Nanaimo       BC  V9T4B5    Urban   \n",
       "3       -48    SMS  122335       Casselman       ON  K0A1M0    Rural   \n",
       "4       -48    SMS  143632       Etobicoke       ON  M8W3V5    Urban   \n",
       "\n",
       "   cli_size  pat_id  family_id  fam gender  age pat_area    dist  \n",
       "0      1239  427789     291683    3      M   20    Urban  65.929  \n",
       "1       691  172834      49762    4      M   20    Urban   4.104  \n",
       "2      1168  132074     101158    4      M   15    Rural   9.246  \n",
       "3      3425  145832      39367    4      F   50    Rural  10.693  \n",
       "4       274   88996      82480    2      F   65    Urban   6.937  "
      ]
     },
     "execution_count": 220,
     "metadata": {},
     "output_type": "execute_result"
    }
   ],
   "source": [
    "data.head()"
   ]
  },
  {
   "cell_type": "code",
   "execution_count": 221,
   "metadata": {},
   "outputs": [
    {
     "name": "stdout",
     "output_type": "stream",
     "text": [
      "<class 'pandas.core.frame.DataFrame'>\n",
      "RangeIndex: 938339 entries, 0 to 938338\n",
      "Data columns (total 20 columns):\n",
      "response     938339 non-null int64\n",
      "apt_type     938339 non-null object\n",
      "apt_date     938339 non-null datetime64[ns]\n",
      "sent_time    938339 non-null datetime64[ns]\n",
      "send_time    938339 non-null object\n",
      "net_hour     938339 non-null int64\n",
      "type         938339 non-null object\n",
      "clinic       938339 non-null int64\n",
      "city         938339 non-null object\n",
      "province     938339 non-null object\n",
      "cli_zip      938339 non-null object\n",
      "cli_area     938339 non-null object\n",
      "cli_size     938339 non-null int64\n",
      "pat_id       938339 non-null int64\n",
      "family_id    938339 non-null int64\n",
      "fam          938339 non-null int64\n",
      "gender       938339 non-null object\n",
      "age          938339 non-null int32\n",
      "pat_area     938339 non-null object\n",
      "dist         938339 non-null float64\n",
      "dtypes: datetime64[ns](2), float64(1), int32(1), int64(7), object(9)\n",
      "memory usage: 139.6+ MB\n"
     ]
    }
   ],
   "source": [
    "data.info()"
   ]
  },
  {
   "cell_type": "markdown",
   "metadata": {},
   "source": [
    "## Train, test"
   ]
  },
  {
   "cell_type": "code",
   "execution_count": 226,
   "metadata": {},
   "outputs": [],
   "source": [
    "msk = np.random.rand(len(data)) < 0.98"
   ]
  },
  {
   "cell_type": "code",
   "execution_count": 227,
   "metadata": {},
   "outputs": [],
   "source": [
    "train_df = data[msk]\n",
    "test_df = data[~msk]"
   ]
  },
  {
   "cell_type": "code",
   "execution_count": 228,
   "metadata": {},
   "outputs": [
    {
     "data": {
      "text/plain": [
       "(919650, 20)"
      ]
     },
     "execution_count": 228,
     "metadata": {},
     "output_type": "execute_result"
    }
   ],
   "source": [
    "train_df.shape"
   ]
  },
  {
   "cell_type": "code",
   "execution_count": 229,
   "metadata": {},
   "outputs": [
    {
     "data": {
      "text/plain": [
       "(18689, 20)"
      ]
     },
     "execution_count": 229,
     "metadata": {},
     "output_type": "execute_result"
    }
   ],
   "source": [
    "test_df.shape"
   ]
  },
  {
   "cell_type": "code",
   "execution_count": 230,
   "metadata": {},
   "outputs": [],
   "source": [
    "train_df.reset_index(inplace=True, drop=True)"
   ]
  },
  {
   "cell_type": "code",
   "execution_count": 231,
   "metadata": {},
   "outputs": [
    {
     "data": {
      "text/html": [
       "<div>\n",
       "<style scoped>\n",
       "    .dataframe tbody tr th:only-of-type {\n",
       "        vertical-align: middle;\n",
       "    }\n",
       "\n",
       "    .dataframe tbody tr th {\n",
       "        vertical-align: top;\n",
       "    }\n",
       "\n",
       "    .dataframe thead th {\n",
       "        text-align: right;\n",
       "    }\n",
       "</style>\n",
       "<table border=\"1\" class=\"dataframe\">\n",
       "  <thead>\n",
       "    <tr style=\"text-align: right;\">\n",
       "      <th></th>\n",
       "      <th>response</th>\n",
       "      <th>apt_type</th>\n",
       "      <th>apt_date</th>\n",
       "      <th>sent_time</th>\n",
       "      <th>send_time</th>\n",
       "      <th>net_hour</th>\n",
       "      <th>type</th>\n",
       "      <th>clinic</th>\n",
       "      <th>city</th>\n",
       "      <th>province</th>\n",
       "      <th>cli_zip</th>\n",
       "      <th>cli_area</th>\n",
       "      <th>cli_size</th>\n",
       "      <th>pat_id</th>\n",
       "      <th>family_id</th>\n",
       "      <th>fam</th>\n",
       "      <th>gender</th>\n",
       "      <th>age</th>\n",
       "      <th>pat_area</th>\n",
       "      <th>dist</th>\n",
       "    </tr>\n",
       "  </thead>\n",
       "  <tbody>\n",
       "    <tr>\n",
       "      <th>0</th>\n",
       "      <td>1</td>\n",
       "      <td>recall</td>\n",
       "      <td>2017-09-18 13:00:00</td>\n",
       "      <td>2017-09-14 19:03:03</td>\n",
       "      <td>17:30:00</td>\n",
       "      <td>-48</td>\n",
       "      <td>Voice</td>\n",
       "      <td>20758</td>\n",
       "      <td>Moncton</td>\n",
       "      <td>NB</td>\n",
       "      <td>E1E4C9</td>\n",
       "      <td>Urban</td>\n",
       "      <td>1239</td>\n",
       "      <td>427789</td>\n",
       "      <td>291683</td>\n",
       "      <td>3</td>\n",
       "      <td>M</td>\n",
       "      <td>20</td>\n",
       "      <td>Urban</td>\n",
       "      <td>65.929</td>\n",
       "    </tr>\n",
       "    <tr>\n",
       "      <th>1</th>\n",
       "      <td>0</td>\n",
       "      <td>6mth-rc</td>\n",
       "      <td>2017-09-06 17:00:00</td>\n",
       "      <td>2017-08-31 18:00:54</td>\n",
       "      <td>18:00:00</td>\n",
       "      <td>-72</td>\n",
       "      <td>Voice</td>\n",
       "      <td>122500</td>\n",
       "      <td>Port Coquitlam</td>\n",
       "      <td>BC</td>\n",
       "      <td>V3B5Y9</td>\n",
       "      <td>Urban</td>\n",
       "      <td>691</td>\n",
       "      <td>172834</td>\n",
       "      <td>49762</td>\n",
       "      <td>4</td>\n",
       "      <td>M</td>\n",
       "      <td>20</td>\n",
       "      <td>Urban</td>\n",
       "      <td>4.104</td>\n",
       "    </tr>\n",
       "    <tr>\n",
       "      <th>2</th>\n",
       "      <td>0</td>\n",
       "      <td>endo</td>\n",
       "      <td>2017-05-02 18:00:00</td>\n",
       "      <td>2017-04-28 10:12:42</td>\n",
       "      <td>10:00:00</td>\n",
       "      <td>-48</td>\n",
       "      <td>Email</td>\n",
       "      <td>20153</td>\n",
       "      <td>Nanaimo</td>\n",
       "      <td>BC</td>\n",
       "      <td>V9T4B5</td>\n",
       "      <td>Urban</td>\n",
       "      <td>1168</td>\n",
       "      <td>132074</td>\n",
       "      <td>101158</td>\n",
       "      <td>4</td>\n",
       "      <td>M</td>\n",
       "      <td>15</td>\n",
       "      <td>Rural</td>\n",
       "      <td>9.246</td>\n",
       "    </tr>\n",
       "    <tr>\n",
       "      <th>3</th>\n",
       "      <td>0</td>\n",
       "      <td>productive</td>\n",
       "      <td>2018-05-30 09:10:00</td>\n",
       "      <td>2018-05-28 09:00:37</td>\n",
       "      <td>09:00:00</td>\n",
       "      <td>-48</td>\n",
       "      <td>SMS</td>\n",
       "      <td>122335</td>\n",
       "      <td>Casselman</td>\n",
       "      <td>ON</td>\n",
       "      <td>K0A1M0</td>\n",
       "      <td>Rural</td>\n",
       "      <td>3425</td>\n",
       "      <td>145832</td>\n",
       "      <td>39367</td>\n",
       "      <td>4</td>\n",
       "      <td>F</td>\n",
       "      <td>50</td>\n",
       "      <td>Rural</td>\n",
       "      <td>10.693</td>\n",
       "    </tr>\n",
       "    <tr>\n",
       "      <th>4</th>\n",
       "      <td>0</td>\n",
       "      <td>filling</td>\n",
       "      <td>2019-02-04 08:00:00</td>\n",
       "      <td>2019-01-31 15:14:07</td>\n",
       "      <td>11:00:00</td>\n",
       "      <td>-48</td>\n",
       "      <td>SMS</td>\n",
       "      <td>143632</td>\n",
       "      <td>Etobicoke</td>\n",
       "      <td>ON</td>\n",
       "      <td>M8W3V5</td>\n",
       "      <td>Urban</td>\n",
       "      <td>274</td>\n",
       "      <td>88996</td>\n",
       "      <td>82480</td>\n",
       "      <td>2</td>\n",
       "      <td>F</td>\n",
       "      <td>65</td>\n",
       "      <td>Urban</td>\n",
       "      <td>6.937</td>\n",
       "    </tr>\n",
       "  </tbody>\n",
       "</table>\n",
       "</div>"
      ],
      "text/plain": [
       "   response    apt_type            apt_date           sent_time send_time  \\\n",
       "0         1      recall 2017-09-18 13:00:00 2017-09-14 19:03:03  17:30:00   \n",
       "1         0     6mth-rc 2017-09-06 17:00:00 2017-08-31 18:00:54  18:00:00   \n",
       "2         0        endo 2017-05-02 18:00:00 2017-04-28 10:12:42  10:00:00   \n",
       "3         0  productive 2018-05-30 09:10:00 2018-05-28 09:00:37  09:00:00   \n",
       "4         0     filling 2019-02-04 08:00:00 2019-01-31 15:14:07  11:00:00   \n",
       "\n",
       "   net_hour   type  clinic            city province cli_zip cli_area  \\\n",
       "0       -48  Voice   20758         Moncton       NB  E1E4C9    Urban   \n",
       "1       -72  Voice  122500  Port Coquitlam       BC  V3B5Y9    Urban   \n",
       "2       -48  Email   20153         Nanaimo       BC  V9T4B5    Urban   \n",
       "3       -48    SMS  122335       Casselman       ON  K0A1M0    Rural   \n",
       "4       -48    SMS  143632       Etobicoke       ON  M8W3V5    Urban   \n",
       "\n",
       "   cli_size  pat_id  family_id  fam gender  age pat_area    dist  \n",
       "0      1239  427789     291683    3      M   20    Urban  65.929  \n",
       "1       691  172834      49762    4      M   20    Urban   4.104  \n",
       "2      1168  132074     101158    4      M   15    Rural   9.246  \n",
       "3      3425  145832      39367    4      F   50    Rural  10.693  \n",
       "4       274   88996      82480    2      F   65    Urban   6.937  "
      ]
     },
     "execution_count": 231,
     "metadata": {},
     "output_type": "execute_result"
    }
   ],
   "source": [
    "train_df.head()"
   ]
  },
  {
   "cell_type": "code",
   "execution_count": 232,
   "metadata": {},
   "outputs": [],
   "source": [
    "test_df.reset_index(inplace=True, drop=True)"
   ]
  },
  {
   "cell_type": "code",
   "execution_count": 233,
   "metadata": {},
   "outputs": [
    {
     "data": {
      "text/html": [
       "<div>\n",
       "<style scoped>\n",
       "    .dataframe tbody tr th:only-of-type {\n",
       "        vertical-align: middle;\n",
       "    }\n",
       "\n",
       "    .dataframe tbody tr th {\n",
       "        vertical-align: top;\n",
       "    }\n",
       "\n",
       "    .dataframe thead th {\n",
       "        text-align: right;\n",
       "    }\n",
       "</style>\n",
       "<table border=\"1\" class=\"dataframe\">\n",
       "  <thead>\n",
       "    <tr style=\"text-align: right;\">\n",
       "      <th></th>\n",
       "      <th>response</th>\n",
       "      <th>apt_type</th>\n",
       "      <th>apt_date</th>\n",
       "      <th>sent_time</th>\n",
       "      <th>send_time</th>\n",
       "      <th>net_hour</th>\n",
       "      <th>type</th>\n",
       "      <th>clinic</th>\n",
       "      <th>city</th>\n",
       "      <th>province</th>\n",
       "      <th>cli_zip</th>\n",
       "      <th>cli_area</th>\n",
       "      <th>cli_size</th>\n",
       "      <th>pat_id</th>\n",
       "      <th>family_id</th>\n",
       "      <th>fam</th>\n",
       "      <th>gender</th>\n",
       "      <th>age</th>\n",
       "      <th>pat_area</th>\n",
       "      <th>dist</th>\n",
       "    </tr>\n",
       "  </thead>\n",
       "  <tbody>\n",
       "    <tr>\n",
       "      <th>0</th>\n",
       "      <td>0</td>\n",
       "      <td>hygiene</td>\n",
       "      <td>2017-11-06 10:20:00</td>\n",
       "      <td>2017-10-30 11:00:53</td>\n",
       "      <td>11:00:00</td>\n",
       "      <td>-168</td>\n",
       "      <td>SMS</td>\n",
       "      <td>20089</td>\n",
       "      <td>Lloydminster</td>\n",
       "      <td>AB</td>\n",
       "      <td>T9V0A9</td>\n",
       "      <td>Urban</td>\n",
       "      <td>4735</td>\n",
       "      <td>34177</td>\n",
       "      <td>33170</td>\n",
       "      <td>3</td>\n",
       "      <td>M</td>\n",
       "      <td>60</td>\n",
       "      <td>Urban</td>\n",
       "      <td>0.833</td>\n",
       "    </tr>\n",
       "    <tr>\n",
       "      <th>1</th>\n",
       "      <td>1</td>\n",
       "      <td>general</td>\n",
       "      <td>2019-01-25 10:00:00</td>\n",
       "      <td>2019-01-23 09:02:26</td>\n",
       "      <td>09:00:00</td>\n",
       "      <td>-48</td>\n",
       "      <td>SMS</td>\n",
       "      <td>122636</td>\n",
       "      <td>Barrie</td>\n",
       "      <td>ON</td>\n",
       "      <td>L4M7G1</td>\n",
       "      <td>Urban</td>\n",
       "      <td>1058</td>\n",
       "      <td>50</td>\n",
       "      <td>50</td>\n",
       "      <td>1</td>\n",
       "      <td>M</td>\n",
       "      <td>55</td>\n",
       "      <td>Urban</td>\n",
       "      <td>9.252</td>\n",
       "    </tr>\n",
       "    <tr>\n",
       "      <th>2</th>\n",
       "      <td>1</td>\n",
       "      <td>general</td>\n",
       "      <td>2017-04-21 18:30:00</td>\n",
       "      <td>2017-04-15 11:00:22</td>\n",
       "      <td>11:00:00</td>\n",
       "      <td>-168</td>\n",
       "      <td>SMS</td>\n",
       "      <td>121164</td>\n",
       "      <td>Burnaby</td>\n",
       "      <td>BC</td>\n",
       "      <td>V5H4P1</td>\n",
       "      <td>Urban</td>\n",
       "      <td>2130</td>\n",
       "      <td>285</td>\n",
       "      <td>285</td>\n",
       "      <td>1</td>\n",
       "      <td>F</td>\n",
       "      <td>50</td>\n",
       "      <td>Urban</td>\n",
       "      <td>3.089</td>\n",
       "    </tr>\n",
       "    <tr>\n",
       "      <th>3</th>\n",
       "      <td>1</td>\n",
       "      <td>general</td>\n",
       "      <td>2019-02-11 15:00:00</td>\n",
       "      <td>2019-02-06 18:03:02</td>\n",
       "      <td>18:00:00</td>\n",
       "      <td>-72</td>\n",
       "      <td>Email</td>\n",
       "      <td>122333</td>\n",
       "      <td>Ottawa</td>\n",
       "      <td>ON</td>\n",
       "      <td>K1H8K2</td>\n",
       "      <td>Urban</td>\n",
       "      <td>3037</td>\n",
       "      <td>431968</td>\n",
       "      <td>328527</td>\n",
       "      <td>1</td>\n",
       "      <td>M</td>\n",
       "      <td>20</td>\n",
       "      <td>Urban</td>\n",
       "      <td>1.363</td>\n",
       "    </tr>\n",
       "    <tr>\n",
       "      <th>4</th>\n",
       "      <td>0</td>\n",
       "      <td>9r</td>\n",
       "      <td>2017-05-04 16:00:00</td>\n",
       "      <td>2017-04-27 08:03:42</td>\n",
       "      <td>08:00:00</td>\n",
       "      <td>-168</td>\n",
       "      <td>Email</td>\n",
       "      <td>20586</td>\n",
       "      <td>Victoria</td>\n",
       "      <td>BC</td>\n",
       "      <td>V9A3N7</td>\n",
       "      <td>Urban</td>\n",
       "      <td>817</td>\n",
       "      <td>128333</td>\n",
       "      <td>115500</td>\n",
       "      <td>1</td>\n",
       "      <td>F</td>\n",
       "      <td>35</td>\n",
       "      <td>Urban</td>\n",
       "      <td>0.841</td>\n",
       "    </tr>\n",
       "  </tbody>\n",
       "</table>\n",
       "</div>"
      ],
      "text/plain": [
       "   response apt_type            apt_date           sent_time send_time  \\\n",
       "0         0  hygiene 2017-11-06 10:20:00 2017-10-30 11:00:53  11:00:00   \n",
       "1         1  general 2019-01-25 10:00:00 2019-01-23 09:02:26  09:00:00   \n",
       "2         1  general 2017-04-21 18:30:00 2017-04-15 11:00:22  11:00:00   \n",
       "3         1  general 2019-02-11 15:00:00 2019-02-06 18:03:02  18:00:00   \n",
       "4         0       9r 2017-05-04 16:00:00 2017-04-27 08:03:42  08:00:00   \n",
       "\n",
       "   net_hour   type  clinic          city province cli_zip cli_area  cli_size  \\\n",
       "0      -168    SMS   20089  Lloydminster       AB  T9V0A9    Urban      4735   \n",
       "1       -48    SMS  122636        Barrie       ON  L4M7G1    Urban      1058   \n",
       "2      -168    SMS  121164       Burnaby       BC  V5H4P1    Urban      2130   \n",
       "3       -72  Email  122333        Ottawa       ON  K1H8K2    Urban      3037   \n",
       "4      -168  Email   20586      Victoria       BC  V9A3N7    Urban       817   \n",
       "\n",
       "   pat_id  family_id  fam gender  age pat_area   dist  \n",
       "0   34177      33170    3      M   60    Urban  0.833  \n",
       "1      50         50    1      M   55    Urban  9.252  \n",
       "2     285        285    1      F   50    Urban  3.089  \n",
       "3  431968     328527    1      M   20    Urban  1.363  \n",
       "4  128333     115500    1      F   35    Urban  0.841  "
      ]
     },
     "execution_count": 233,
     "metadata": {},
     "output_type": "execute_result"
    }
   ],
   "source": [
    "test_df.head()"
   ]
  },
  {
   "cell_type": "markdown",
   "metadata": {},
   "source": [
    "## Test_x, text_y"
   ]
  },
  {
   "cell_type": "code",
   "execution_count": 234,
   "metadata": {},
   "outputs": [],
   "source": [
    "test_df_y = test_df[\"response\"].to_frame()"
   ]
  },
  {
   "cell_type": "code",
   "execution_count": 235,
   "metadata": {},
   "outputs": [],
   "source": [
    "test_df = test_df.drop(\"response\", axis=1)"
   ]
  },
  {
   "cell_type": "code",
   "execution_count": 236,
   "metadata": {},
   "outputs": [
    {
     "data": {
      "text/plain": [
       "(18689, 19)"
      ]
     },
     "execution_count": 236,
     "metadata": {},
     "output_type": "execute_result"
    }
   ],
   "source": [
    "test_df.shape"
   ]
  },
  {
   "cell_type": "code",
   "execution_count": 237,
   "metadata": {},
   "outputs": [
    {
     "data": {
      "text/html": [
       "<div>\n",
       "<style scoped>\n",
       "    .dataframe tbody tr th:only-of-type {\n",
       "        vertical-align: middle;\n",
       "    }\n",
       "\n",
       "    .dataframe tbody tr th {\n",
       "        vertical-align: top;\n",
       "    }\n",
       "\n",
       "    .dataframe thead th {\n",
       "        text-align: right;\n",
       "    }\n",
       "</style>\n",
       "<table border=\"1\" class=\"dataframe\">\n",
       "  <thead>\n",
       "    <tr style=\"text-align: right;\">\n",
       "      <th></th>\n",
       "      <th>apt_type</th>\n",
       "      <th>apt_date</th>\n",
       "      <th>sent_time</th>\n",
       "      <th>send_time</th>\n",
       "      <th>net_hour</th>\n",
       "      <th>type</th>\n",
       "      <th>clinic</th>\n",
       "      <th>city</th>\n",
       "      <th>province</th>\n",
       "      <th>cli_zip</th>\n",
       "      <th>cli_area</th>\n",
       "      <th>cli_size</th>\n",
       "      <th>pat_id</th>\n",
       "      <th>family_id</th>\n",
       "      <th>fam</th>\n",
       "      <th>gender</th>\n",
       "      <th>age</th>\n",
       "      <th>pat_area</th>\n",
       "      <th>dist</th>\n",
       "    </tr>\n",
       "  </thead>\n",
       "  <tbody>\n",
       "    <tr>\n",
       "      <th>0</th>\n",
       "      <td>hygiene</td>\n",
       "      <td>2017-11-06 10:20:00</td>\n",
       "      <td>2017-10-30 11:00:53</td>\n",
       "      <td>11:00:00</td>\n",
       "      <td>-168</td>\n",
       "      <td>SMS</td>\n",
       "      <td>20089</td>\n",
       "      <td>Lloydminster</td>\n",
       "      <td>AB</td>\n",
       "      <td>T9V0A9</td>\n",
       "      <td>Urban</td>\n",
       "      <td>4735</td>\n",
       "      <td>34177</td>\n",
       "      <td>33170</td>\n",
       "      <td>3</td>\n",
       "      <td>M</td>\n",
       "      <td>60</td>\n",
       "      <td>Urban</td>\n",
       "      <td>0.833</td>\n",
       "    </tr>\n",
       "    <tr>\n",
       "      <th>1</th>\n",
       "      <td>general</td>\n",
       "      <td>2019-01-25 10:00:00</td>\n",
       "      <td>2019-01-23 09:02:26</td>\n",
       "      <td>09:00:00</td>\n",
       "      <td>-48</td>\n",
       "      <td>SMS</td>\n",
       "      <td>122636</td>\n",
       "      <td>Barrie</td>\n",
       "      <td>ON</td>\n",
       "      <td>L4M7G1</td>\n",
       "      <td>Urban</td>\n",
       "      <td>1058</td>\n",
       "      <td>50</td>\n",
       "      <td>50</td>\n",
       "      <td>1</td>\n",
       "      <td>M</td>\n",
       "      <td>55</td>\n",
       "      <td>Urban</td>\n",
       "      <td>9.252</td>\n",
       "    </tr>\n",
       "    <tr>\n",
       "      <th>2</th>\n",
       "      <td>general</td>\n",
       "      <td>2017-04-21 18:30:00</td>\n",
       "      <td>2017-04-15 11:00:22</td>\n",
       "      <td>11:00:00</td>\n",
       "      <td>-168</td>\n",
       "      <td>SMS</td>\n",
       "      <td>121164</td>\n",
       "      <td>Burnaby</td>\n",
       "      <td>BC</td>\n",
       "      <td>V5H4P1</td>\n",
       "      <td>Urban</td>\n",
       "      <td>2130</td>\n",
       "      <td>285</td>\n",
       "      <td>285</td>\n",
       "      <td>1</td>\n",
       "      <td>F</td>\n",
       "      <td>50</td>\n",
       "      <td>Urban</td>\n",
       "      <td>3.089</td>\n",
       "    </tr>\n",
       "    <tr>\n",
       "      <th>3</th>\n",
       "      <td>general</td>\n",
       "      <td>2019-02-11 15:00:00</td>\n",
       "      <td>2019-02-06 18:03:02</td>\n",
       "      <td>18:00:00</td>\n",
       "      <td>-72</td>\n",
       "      <td>Email</td>\n",
       "      <td>122333</td>\n",
       "      <td>Ottawa</td>\n",
       "      <td>ON</td>\n",
       "      <td>K1H8K2</td>\n",
       "      <td>Urban</td>\n",
       "      <td>3037</td>\n",
       "      <td>431968</td>\n",
       "      <td>328527</td>\n",
       "      <td>1</td>\n",
       "      <td>M</td>\n",
       "      <td>20</td>\n",
       "      <td>Urban</td>\n",
       "      <td>1.363</td>\n",
       "    </tr>\n",
       "    <tr>\n",
       "      <th>4</th>\n",
       "      <td>9r</td>\n",
       "      <td>2017-05-04 16:00:00</td>\n",
       "      <td>2017-04-27 08:03:42</td>\n",
       "      <td>08:00:00</td>\n",
       "      <td>-168</td>\n",
       "      <td>Email</td>\n",
       "      <td>20586</td>\n",
       "      <td>Victoria</td>\n",
       "      <td>BC</td>\n",
       "      <td>V9A3N7</td>\n",
       "      <td>Urban</td>\n",
       "      <td>817</td>\n",
       "      <td>128333</td>\n",
       "      <td>115500</td>\n",
       "      <td>1</td>\n",
       "      <td>F</td>\n",
       "      <td>35</td>\n",
       "      <td>Urban</td>\n",
       "      <td>0.841</td>\n",
       "    </tr>\n",
       "  </tbody>\n",
       "</table>\n",
       "</div>"
      ],
      "text/plain": [
       "  apt_type            apt_date           sent_time send_time  net_hour   type  \\\n",
       "0  hygiene 2017-11-06 10:20:00 2017-10-30 11:00:53  11:00:00      -168    SMS   \n",
       "1  general 2019-01-25 10:00:00 2019-01-23 09:02:26  09:00:00       -48    SMS   \n",
       "2  general 2017-04-21 18:30:00 2017-04-15 11:00:22  11:00:00      -168    SMS   \n",
       "3  general 2019-02-11 15:00:00 2019-02-06 18:03:02  18:00:00       -72  Email   \n",
       "4       9r 2017-05-04 16:00:00 2017-04-27 08:03:42  08:00:00      -168  Email   \n",
       "\n",
       "   clinic          city province cli_zip cli_area  cli_size  pat_id  \\\n",
       "0   20089  Lloydminster       AB  T9V0A9    Urban      4735   34177   \n",
       "1  122636        Barrie       ON  L4M7G1    Urban      1058      50   \n",
       "2  121164       Burnaby       BC  V5H4P1    Urban      2130     285   \n",
       "3  122333        Ottawa       ON  K1H8K2    Urban      3037  431968   \n",
       "4   20586      Victoria       BC  V9A3N7    Urban       817  128333   \n",
       "\n",
       "   family_id  fam gender  age pat_area   dist  \n",
       "0      33170    3      M   60    Urban  0.833  \n",
       "1         50    1      M   55    Urban  9.252  \n",
       "2        285    1      F   50    Urban  3.089  \n",
       "3     328527    1      M   20    Urban  1.363  \n",
       "4     115500    1      F   35    Urban  0.841  "
      ]
     },
     "execution_count": 237,
     "metadata": {},
     "output_type": "execute_result"
    }
   ],
   "source": [
    "test_df.head()"
   ]
  },
  {
   "cell_type": "code",
   "execution_count": 238,
   "metadata": {},
   "outputs": [
    {
     "data": {
      "text/plain": [
       "(18689, 1)"
      ]
     },
     "execution_count": 238,
     "metadata": {},
     "output_type": "execute_result"
    }
   ],
   "source": [
    "test_df_y.shape"
   ]
  },
  {
   "cell_type": "code",
   "execution_count": 239,
   "metadata": {},
   "outputs": [
    {
     "data": {
      "text/html": [
       "<div>\n",
       "<style scoped>\n",
       "    .dataframe tbody tr th:only-of-type {\n",
       "        vertical-align: middle;\n",
       "    }\n",
       "\n",
       "    .dataframe tbody tr th {\n",
       "        vertical-align: top;\n",
       "    }\n",
       "\n",
       "    .dataframe thead th {\n",
       "        text-align: right;\n",
       "    }\n",
       "</style>\n",
       "<table border=\"1\" class=\"dataframe\">\n",
       "  <thead>\n",
       "    <tr style=\"text-align: right;\">\n",
       "      <th></th>\n",
       "      <th>response</th>\n",
       "    </tr>\n",
       "  </thead>\n",
       "  <tbody>\n",
       "    <tr>\n",
       "      <th>0</th>\n",
       "      <td>0</td>\n",
       "    </tr>\n",
       "    <tr>\n",
       "      <th>1</th>\n",
       "      <td>1</td>\n",
       "    </tr>\n",
       "    <tr>\n",
       "      <th>2</th>\n",
       "      <td>1</td>\n",
       "    </tr>\n",
       "    <tr>\n",
       "      <th>3</th>\n",
       "      <td>1</td>\n",
       "    </tr>\n",
       "    <tr>\n",
       "      <th>4</th>\n",
       "      <td>0</td>\n",
       "    </tr>\n",
       "  </tbody>\n",
       "</table>\n",
       "</div>"
      ],
      "text/plain": [
       "   response\n",
       "0         0\n",
       "1         1\n",
       "2         1\n",
       "3         1\n",
       "4         0"
      ]
     },
     "execution_count": 239,
     "metadata": {},
     "output_type": "execute_result"
    }
   ],
   "source": [
    "test_df_y.head()"
   ]
  },
  {
   "cell_type": "markdown",
   "metadata": {},
   "source": [
    "## Export - competition files"
   ]
  },
  {
   "cell_type": "code",
   "execution_count": 240,
   "metadata": {},
   "outputs": [
    {
     "name": "stdout",
     "output_type": "stream",
     "text": [
      "Wall time: 34.3 s\n"
     ]
    }
   ],
   "source": [
    "%%time\n",
    "train_df.to_csv(\"dataset/train.csv\")\n",
    "test_df.to_csv(\"dataset/test.csv\")\n",
    "test_df_y.to_csv(\"dataset/test_y.csv\")"
   ]
  },
  {
   "cell_type": "code",
   "execution_count": 241,
   "metadata": {},
   "outputs": [
    {
     "data": {
      "text/plain": [
       "(919650, 20)"
      ]
     },
     "execution_count": 241,
     "metadata": {},
     "output_type": "execute_result"
    }
   ],
   "source": [
    "train_df.shape"
   ]
  },
  {
   "cell_type": "code",
   "execution_count": 242,
   "metadata": {},
   "outputs": [
    {
     "data": {
      "text/plain": [
       "(18689, 19)"
      ]
     },
     "execution_count": 242,
     "metadata": {},
     "output_type": "execute_result"
    }
   ],
   "source": [
    "test_df.shape"
   ]
  },
  {
   "cell_type": "code",
   "execution_count": 243,
   "metadata": {},
   "outputs": [
    {
     "data": {
      "text/plain": [
       "(18689, 1)"
      ]
     },
     "execution_count": 243,
     "metadata": {},
     "output_type": "execute_result"
    }
   ],
   "source": [
    "test_df_y.shape"
   ]
  },
  {
   "cell_type": "markdown",
   "metadata": {},
   "source": [
    "## Sample Submission "
   ]
  },
  {
   "cell_type": "code",
   "execution_count": 244,
   "metadata": {},
   "outputs": [
    {
     "data": {
      "text/html": [
       "<div>\n",
       "<style scoped>\n",
       "    .dataframe tbody tr th:only-of-type {\n",
       "        vertical-align: middle;\n",
       "    }\n",
       "\n",
       "    .dataframe tbody tr th {\n",
       "        vertical-align: top;\n",
       "    }\n",
       "\n",
       "    .dataframe thead th {\n",
       "        text-align: right;\n",
       "    }\n",
       "</style>\n",
       "<table border=\"1\" class=\"dataframe\">\n",
       "  <thead>\n",
       "    <tr style=\"text-align: right;\">\n",
       "      <th></th>\n",
       "      <th>response</th>\n",
       "    </tr>\n",
       "  </thead>\n",
       "  <tbody>\n",
       "    <tr>\n",
       "      <th>0</th>\n",
       "      <td>0</td>\n",
       "    </tr>\n",
       "    <tr>\n",
       "      <th>1</th>\n",
       "      <td>1</td>\n",
       "    </tr>\n",
       "    <tr>\n",
       "      <th>2</th>\n",
       "      <td>1</td>\n",
       "    </tr>\n",
       "    <tr>\n",
       "      <th>3</th>\n",
       "      <td>1</td>\n",
       "    </tr>\n",
       "    <tr>\n",
       "      <th>4</th>\n",
       "      <td>0</td>\n",
       "    </tr>\n",
       "    <tr>\n",
       "      <th>5</th>\n",
       "      <td>1</td>\n",
       "    </tr>\n",
       "    <tr>\n",
       "      <th>6</th>\n",
       "      <td>0</td>\n",
       "    </tr>\n",
       "    <tr>\n",
       "      <th>7</th>\n",
       "      <td>1</td>\n",
       "    </tr>\n",
       "    <tr>\n",
       "      <th>8</th>\n",
       "      <td>0</td>\n",
       "    </tr>\n",
       "    <tr>\n",
       "      <th>9</th>\n",
       "      <td>0</td>\n",
       "    </tr>\n",
       "  </tbody>\n",
       "</table>\n",
       "</div>"
      ],
      "text/plain": [
       "   response\n",
       "0         0\n",
       "1         1\n",
       "2         1\n",
       "3         1\n",
       "4         0\n",
       "5         1\n",
       "6         0\n",
       "7         1\n",
       "8         0\n",
       "9         0"
      ]
     },
     "execution_count": 244,
     "metadata": {},
     "output_type": "execute_result"
    }
   ],
   "source": [
    "test_df_y.head(10)"
   ]
  },
  {
   "cell_type": "code",
   "execution_count": 245,
   "metadata": {},
   "outputs": [],
   "source": [
    "sub = test_df_y.copy()"
   ]
  },
  {
   "cell_type": "code",
   "execution_count": 246,
   "metadata": {},
   "outputs": [],
   "source": [
    "sub.response = np.random.randint(0,2, len(sub))"
   ]
  },
  {
   "cell_type": "code",
   "execution_count": 247,
   "metadata": {},
   "outputs": [
    {
     "data": {
      "text/html": [
       "<div>\n",
       "<style scoped>\n",
       "    .dataframe tbody tr th:only-of-type {\n",
       "        vertical-align: middle;\n",
       "    }\n",
       "\n",
       "    .dataframe tbody tr th {\n",
       "        vertical-align: top;\n",
       "    }\n",
       "\n",
       "    .dataframe thead th {\n",
       "        text-align: right;\n",
       "    }\n",
       "</style>\n",
       "<table border=\"1\" class=\"dataframe\">\n",
       "  <thead>\n",
       "    <tr style=\"text-align: right;\">\n",
       "      <th></th>\n",
       "      <th>response</th>\n",
       "    </tr>\n",
       "  </thead>\n",
       "  <tbody>\n",
       "    <tr>\n",
       "      <th>0</th>\n",
       "      <td>0</td>\n",
       "    </tr>\n",
       "    <tr>\n",
       "      <th>1</th>\n",
       "      <td>1</td>\n",
       "    </tr>\n",
       "    <tr>\n",
       "      <th>2</th>\n",
       "      <td>1</td>\n",
       "    </tr>\n",
       "    <tr>\n",
       "      <th>3</th>\n",
       "      <td>0</td>\n",
       "    </tr>\n",
       "    <tr>\n",
       "      <th>4</th>\n",
       "      <td>0</td>\n",
       "    </tr>\n",
       "    <tr>\n",
       "      <th>5</th>\n",
       "      <td>0</td>\n",
       "    </tr>\n",
       "    <tr>\n",
       "      <th>6</th>\n",
       "      <td>0</td>\n",
       "    </tr>\n",
       "    <tr>\n",
       "      <th>7</th>\n",
       "      <td>0</td>\n",
       "    </tr>\n",
       "    <tr>\n",
       "      <th>8</th>\n",
       "      <td>1</td>\n",
       "    </tr>\n",
       "    <tr>\n",
       "      <th>9</th>\n",
       "      <td>1</td>\n",
       "    </tr>\n",
       "    <tr>\n",
       "      <th>10</th>\n",
       "      <td>1</td>\n",
       "    </tr>\n",
       "    <tr>\n",
       "      <th>11</th>\n",
       "      <td>1</td>\n",
       "    </tr>\n",
       "    <tr>\n",
       "      <th>12</th>\n",
       "      <td>1</td>\n",
       "    </tr>\n",
       "    <tr>\n",
       "      <th>13</th>\n",
       "      <td>0</td>\n",
       "    </tr>\n",
       "    <tr>\n",
       "      <th>14</th>\n",
       "      <td>1</td>\n",
       "    </tr>\n",
       "    <tr>\n",
       "      <th>15</th>\n",
       "      <td>1</td>\n",
       "    </tr>\n",
       "    <tr>\n",
       "      <th>16</th>\n",
       "      <td>0</td>\n",
       "    </tr>\n",
       "    <tr>\n",
       "      <th>17</th>\n",
       "      <td>1</td>\n",
       "    </tr>\n",
       "    <tr>\n",
       "      <th>18</th>\n",
       "      <td>0</td>\n",
       "    </tr>\n",
       "    <tr>\n",
       "      <th>19</th>\n",
       "      <td>1</td>\n",
       "    </tr>\n",
       "  </tbody>\n",
       "</table>\n",
       "</div>"
      ],
      "text/plain": [
       "    response\n",
       "0          0\n",
       "1          1\n",
       "2          1\n",
       "3          0\n",
       "4          0\n",
       "5          0\n",
       "6          0\n",
       "7          0\n",
       "8          1\n",
       "9          1\n",
       "10         1\n",
       "11         1\n",
       "12         1\n",
       "13         0\n",
       "14         1\n",
       "15         1\n",
       "16         0\n",
       "17         1\n",
       "18         0\n",
       "19         1"
      ]
     },
     "execution_count": 247,
     "metadata": {},
     "output_type": "execute_result"
    }
   ],
   "source": [
    "sub.head(20)"
   ]
  },
  {
   "cell_type": "code",
   "execution_count": 248,
   "metadata": {},
   "outputs": [
    {
     "data": {
      "image/png": "[encoded data removed]",
      "text/plain": [
       "<Figure size 432x288 with 1 Axes>"
      ]
     },
     "metadata": {},
     "output_type": "display_data"
    }
   ],
   "source": [
    "(sub.response == test_df_y.response).value_counts().plot.pie(autopct='%1.3f%%');"
   ]
  },
  {
   "cell_type": "code",
   "execution_count": 249,
   "metadata": {},
   "outputs": [],
   "source": [
    "sub.to_csv(\"dataset/sample_submission.csv\")"
   ]
  },
  {
   "cell_type": "code",
   "execution_count": null,
   "metadata": {},
   "outputs": [],
   "source": []
  }
 ],
 "metadata": {
  "hide_input": false,
  "kernelspec": {
   "display_name": "Python 3",
   "language": "python",
   "name": "python3"
  },
  "language_info": {
   "codemirror_mode": {
    "name": "ipython",
    "version": 3
   },
   "file_extension": ".py",
   "mimetype": "text/x-python",
   "name": "python",
   "nbconvert_exporter": "python",
   "pygments_lexer": "ipython3",
   "version": "3.7.0"
  },
  "toc": {
   "base_numbering": 1,
   "nav_menu": {},
   "number_sections": true,
   "sideBar": true,
   "skip_h1_title": false,
   "title_cell": "",
   "title_sidebar": "Contents",
   "toc_cell": true,
   "toc_position": {},
   "toc_section_display": true,
   "toc_window_display": true
  }
 },
 "nbformat": 4,
 "nbformat_minor": 2
}
